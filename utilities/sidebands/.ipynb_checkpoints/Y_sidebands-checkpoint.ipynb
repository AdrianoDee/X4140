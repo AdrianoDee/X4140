{
 "cells": [
  {
   "cell_type": "code",
   "execution_count": 1,
   "metadata": {},
   "outputs": [
    {
     "name": "stdout",
     "output_type": "stream",
     "text": [
      "Welcome to JupyROOT 6.10/08\n"
     ]
    }
   ],
   "source": [
    "! . /usr/local/bin/thisroot.sh\n",
    "import ROOT\n",
    "from ROOT import TFile,TH1,TH1F,TCanvas,TLine,TLegend,TPad\n",
    "from ROOT import RooFit"
   ]
  },
  {
   "cell_type": "code",
   "execution_count": 2,
   "metadata": {
    "collapsed": true
   },
   "outputs": [],
   "source": [
    "#! ls ../rootfiles/X4140*.root"
   ]
  },
  {
   "cell_type": "code",
   "execution_count": 3,
   "metadata": {},
   "outputs": [],
   "source": [
    "rootfile = \"../rootfiles/X4140_Base_Side4-6_AllData.root\"\n",
    "#rootfile =\"../rootfiles/X4140_MuMuKK_KRe_MuRef_Sidebands5-7_NP3.0_B0Cuts_CW5.15-5.55.root\"\n",
    "#histname = \"Xcand_histo_hlt8_cw_nonprompt_cosalpha\"\n",
    "#histname = \"Phi_hist_all_cw_all_cosalpha\"\n",
    "#histname = \"PhiMassHisto\"\n",
    "#histname = \"SW_PhiMass_NoM\"\n",
    "histname = \"SW_PhiMass\"\n",
    "#histname = \"Xcand_histo_DM_any_cw_nonprompt_cosalpha\"\n",
    "inputfile  = TFile(rootfile,\"READ\")\n",
    "hist = inputfile.Get(histname)\n",
    "c = TCanvas(\"canvas\",\"canvas\",1200,800) ;\n",
    "hist.SetName(\"SW_Phi_NonPrompt\")\n",
    "hist.SetTitle(\"SW_Phi_NonPrompt\")"
   ]
  },
  {
   "cell_type": "code",
   "execution_count": 4,
   "metadata": {
    "collapsed": true
   },
   "outputs": [],
   "source": [
    "from ROOT import RooRealVar,RooAbsPdf,RooChebychev,RooExponential,RooGaussian\n",
    "from ROOT import RooAbsPdf,RooPlot,RooAddPdf,RooDataHist,RooArgSet,RooArgList\n",
    "from ROOT import RooVoigtian\n",
    "from ROOT import kGreen,kRed,kBlack,kBlue,kDashed,kDotted,kMagenta\n",
    "from ROOT.RooFit import Components,LineColor,LineStyle,Name,Normalization,Layout,Format,Label,Parameters,Range"
   ]
  },
  {
   "cell_type": "code",
   "execution_count": 5,
   "metadata": {
    "collapsed": true
   },
   "outputs": [],
   "source": [
    "massmin = 1.020-0.031\n",
    "massmax = 1.020+0.031\n",
    "phimean = 1.020\n",
    "massbins = (massmax - massmin)/hist.GetBinWidth(2)\n",
    "mass = RooRealVar(\"mass\",\"M(KK)[GeV]\",massmin,massmax)\n",
    "mass.setBins(int(massbins))"
   ]
  },
  {
   "cell_type": "code",
   "execution_count": 6,
   "metadata": {},
   "outputs": [
    {
     "name": "stderr",
     "output_type": "stream",
     "text": [
      "Info in <TCanvas::Print>: png file plots/phiplot_SW_PhiMass.png has been created\n",
      "Info in <TCanvas::Print>: eps file plots/phiplot_SW_PhiMass.eps has been created\n",
      "Info in <TCanvas::Print>: pdf file plots/phiplot_SW_PhiMass.pdf has been created\n"
     ]
    }
   ],
   "source": [
    "hist.GetXaxis().SetRangeUser(massmin,massmax)\n",
    "hist.Draw()\n",
    "plotname = \"plots/phiplot_\" + histname\n",
    "c.SaveAs(plotname  + \".png\")\n",
    "c.SaveAs(plotname  + \".eps\")\n",
    "c.SaveAs(plotname  + \".pdf\")"
   ]
  },
  {
   "cell_type": "code",
   "execution_count": 7,
   "metadata": {},
   "outputs": [],
   "source": [
    "mean = RooRealVar(\"mean\",\"mean of gaussian\",phimean,phimean-0.005,phimean+0.005);\n",
    "sigma = RooRealVar(\"sigma\",\"width of gaussian\",0.0013);\n",
    "sigma1 = RooRealVar(\"sigma1\",\"width of gaussian1\",0.002,0.0005,0.05);\n",
    "sigma2 = RooRealVar(\"sigma2\",\"width of gaussian2\",0.004,0.004,0.01);\n",
    "gamma = RooRealVar(\"gamma\",\"gamma of bw\",4.76572e-03,0.001,0.01);\n",
    "\n",
    "a0 = RooRealVar(\"a0\",\"a0\",0.001,-1.,1.)\n",
    "a1 = RooRealVar(\"a1\",\"a1\",0.001,-0.5,0.5)\n",
    "a2 = RooRealVar(\"a2\",\"a2\",-0.00001,-2.,2.)\n",
    "a3 = RooRealVar(\"a3\",\"a3\",-0.0,-0.1,0.1)\n",
    "a4 = RooRealVar(\"a4\",\"a4\",0.002,-0.1,0.1)\n",
    "a5 = RooRealVar(\"a5\",\"a5\",0.0)#001,-0.025,0.05)\n",
    "a6 = RooRealVar(\"a6\",\"a6\",0.0,-0.001,0.001)\n",
    "\n",
    "aset = RooArgList(a0,a1,a2,a3,a4,a5)#,a6)\n",
    "nSig = RooRealVar(\"nSig\",\"nSig\",5E5,0.,5.0E6)\n",
    "nBkg = RooRealVar(\"nBkg\",\"nBkg\",2E6,0.,5.0E6)"
   ]
  },
  {
   "cell_type": "code",
   "execution_count": 8,
   "metadata": {},
   "outputs": [],
   "source": [
    "cheb = RooChebychev(\"cheb\",\"Background\",mass,aset)\n",
    "#gauss = RooGaussian(\"gauss\",\"gaussian PDF \",mass,mean,sigma)\n",
    "signal = RooVoigtian(\"signal\",\"signal\",mass,mean,gamma,sigma)\n",
    "\n",
    "tot = RooAddPdf(\"tot\",\"g+cheb\",RooArgList(signal,cheb),RooArgList(nSig,nBkg))"
   ]
  },
  {
   "cell_type": "code",
   "execution_count": 9,
   "metadata": {},
   "outputs": [
    {
     "name": "stdout",
     "output_type": "stream",
     "text": [
      "2213156.0\n",
      "[#1] INFO:DataHandling -- RooDataHist::adjustBinning(dh): fit range of variable mass expanded to nearest bin boundaries: [0.989,1.051] --> [0.989,1.051]\n"
     ]
    }
   ],
   "source": [
    "masslist = RooArgList(mass)\n",
    "dh = RooDataHist(\"dh\",\"dh\",masslist,hist)\n",
    "numEvts = dh.sum(False)\n",
    "print numEvts"
   ]
  },
  {
   "cell_type": "code",
   "execution_count": 10,
   "metadata": {},
   "outputs": [
    {
     "data": {
      "text/plain": [
       "<ROOT.RooFitResult object at 0x0>"
      ]
     },
     "execution_count": 10,
     "metadata": {},
     "output_type": "execute_result"
    },
    {
     "name": "stdout",
     "output_type": "stream",
     "text": [
      "[#1] INFO:Minization -- p.d.f. provides expected number of events, including extended term in likelihood.\n",
      "[#1] INFO:Eval -- RooRealVar::setRange(mass) new range named 'fit' created with bounds [0.989,1.051]\n",
      "[#1] INFO:Fitting -- RooAbsOptTestStatistic::ctor(nll_tot_dh) constructing test statistic for sub-range named fit\n",
      "[#1] INFO:Eval -- RooRealVar::setRange(mass) new range named 'NormalizationRangeForfit' created with bounds [0.989,1.051]\n",
      "[#1] INFO:Eval -- RooRealVar::setRange(mass) new range named 'fit_nll_tot_dh' created with bounds [0.989,1.051]\n",
      "[#1] INFO:Fitting -- RooAbsOptTestStatistic::ctor(nll_tot_dh) fixing interpretation of coefficients of any RooAddPdf to full domain of observables \n",
      "[#1] INFO:NumericIntegration -- RooRealIntegral::init(signal_Int[mass]) using numeric integrator RooIntegrator1D to calculate Int(mass)\n",
      "[#1] INFO:NumericIntegration -- RooRealIntegral::init(signal_Int[mass|NormalizationRangeForfit]_Norm[mass]) using numeric integrator RooIntegrator1D to calculate Int(mass)\n",
      "[#1] INFO:Minization -- RooMinimizer::optimizeConst: activating const optimization\n",
      "[#1] INFO:NumericIntegration -- RooRealIntegral::init(signal_Int[mass]) using numeric integrator RooIntegrator1D to calculate Int(mass)\n",
      "[#1] INFO:Minization --  The following expressions will be evaluated in cache-and-track mode: (signal,cheb)\n",
      " **********\n",
      " **    1 **SET PRINT           1\n",
      " **********\n",
      " **********\n",
      " **    2 **SET NOGRAD\n",
      " **********\n",
      " PARAMETER DEFINITIONS:\n",
      "    NO.   NAME         VALUE      STEP SIZE      LIMITS\n",
      "     1 a0           1.00000e-03  2.00000e-01   -1.00000e+00  1.00000e+00\n",
      "     2 a1           1.00000e-03  1.00000e-01   -5.00000e-01  5.00000e-01\n",
      "     3 a2          -1.00000e-05  4.00000e-01   -2.00000e+00  2.00000e+00\n",
      "     4 a3          -0.00000e+00  2.00000e-02   -1.00000e-01  1.00000e-01\n",
      "     5 a4           2.00000e-03  2.00000e-02   -1.00000e-01  1.00000e-01\n",
      "     6 gamma        4.76572e-03  9.00000e-04    1.00000e-03  1.00000e-02\n",
      "     7 mean         1.02000e+00  1.00000e-03    1.01500e+00  1.02500e+00\n",
      "     8 nBkg         2.00000e+06  5.00000e+05    0.00000e+00  5.00000e+06\n",
      "     9 nSig         5.00000e+05  2.50000e+05    0.00000e+00  5.00000e+06\n",
      " **********\n",
      " **    3 **SET ERR         0.5\n",
      " **********\n",
      " **********\n",
      " **    4 **SET PRINT           1\n",
      " **********\n",
      " **********\n",
      " **    5 **SET STR           1\n",
      " **********\n",
      " NOW USING STRATEGY  1: TRY TO BALANCE SPEED AGAINST RELIABILITY\n",
      " **********\n",
      " **    6 **MIGRAD        4500           1\n",
      " **********\n",
      " FIRST CALL TO USER FUNCTION AT NEW START POINT, WITH IFLAG=4.\n",
      " START MIGRAD MINIMIZATION.  STRATEGY  1.  CONVERGENCE WHEN EDM .LT. 1.00e-03\n",
      " FCN=-3.62252e+07 FROM MIGRAD    STATUS=INITIATE       38 CALLS          39 TOTAL\n",
      "                     EDM= unknown      STRATEGY= 1      NO ERROR MATRIX       \n",
      "  EXT PARAMETER               CURRENT GUESS       STEP         FIRST   \n",
      "  NO.   NAME      VALUE            ERROR          SIZE      DERIVATIVE \n",
      "   1  a0           1.00000e-03   2.00000e-01   2.01358e-01  -2.49499e+05\n",
      "   2  a1           1.00000e-03   1.00000e-01   2.01358e-01  -2.05663e+04\n",
      "   3  a2          -1.00000e-05   4.00000e-01   2.01358e-01   2.28808e+05\n",
      "   4  a3           0.00000e+00   2.00000e-02   2.01358e-01   1.43913e+04\n",
      "   5  a4           2.00000e-03   2.00000e-02   2.01400e-01   5.38748e+03\n",
      "   6  gamma        4.76572e-03   9.00000e-04   2.04253e-01  -5.02488e+04\n",
      "   7  mean         1.02000e+00   1.00000e-03   2.01358e-01  -1.22831e+04\n",
      "   8  nBkg         2.00000e+06   5.00000e+05   2.05758e-01   1.67696e+05\n",
      "   9  nSig         5.00000e+05   2.50000e+05   1.72186e-01   4.49786e+05\n",
      "                               ERR DEF= 0.5\n",
      " MIGRAD FAILS TO FIND IMPROVEMENT\n",
      " MACHINE ACCURACY LIMITS FURTHER IMPROVEMENT.\n",
      " MIGRAD MINIMIZATION HAS CONVERGED.\n",
      " MIGRAD WILL VERIFY CONVERGENCE AND ERROR MATRIX.\n",
      " COVARIANCE MATRIX CALCULATED SUCCESSFULLY\n",
      " FCN=-3.63442e+07 FROM HESSE     STATUS=OK             87 CALLS         460 TOTAL\n",
      "                     EDM=19.5845    STRATEGY= 1      ERROR MATRIX ACCURATE \n",
      "  EXT PARAMETER                                   STEP         FIRST   \n",
      "  NO.   NAME      VALUE            ERROR          SIZE      DERIVATIVE \n",
      "   1  a0           4.23102e-01   1.44406e-03   5.29354e-03  -6.29669e+00\n",
      "   2  a1          -1.20068e-01   1.75094e-03   1.03145e-02   1.24552e+01\n",
      "   3  a2           4.37851e-02   1.32119e-03   2.15955e-03   2.29365e+01\n",
      "   4  a3          -3.71366e-02   1.73227e-03   4.74927e-02  -9.54125e+00\n",
      "   5  a4           1.41492e-02   1.28031e-03   4.32614e-02   7.32408e-01\n",
      "   6  gamma        9.67458e-03   1.73693e-04   4.42567e-01   5.95671e+01\n",
      "   7  mean         1.01949e+00   5.57822e-05   3.79976e-02   3.61905e+00\n",
      "   8  nBkg         2.05652e+06   3.17080e+03   2.50956e-03  -6.51073e+01\n",
      "   9  nSig         1.56580e+05   2.85594e+03   4.95832e-03   5.38968e+00\n",
      "                               ERR DEF= 0.5\n",
      " MIGRAD MINIMIZATION HAS CONVERGED.\n",
      " FCN=-3.63443e+07 FROM MIGRAD    STATUS=CONVERGED     657 CALLS         658 TOTAL\n",
      "                     EDM=8.50917e-05    STRATEGY= 1  ERROR MATRIX UNCERTAINTY   2.3 per cent\n",
      "  EXT PARAMETER                                   STEP         FIRST   \n",
      "  NO.   NAME      VALUE            ERROR          SIZE      DERIVATIVE \n",
      "   1  a0           4.12382e-01   1.45536e-03   6.19597e-07  -5.88436e-01\n",
      "   2  a1          -1.44301e-01   1.95154e-03  -1.26981e-05   6.21077e-01\n",
      "   3  a2           4.46860e-02   1.29983e-03   9.13132e-07   2.24678e+00\n",
      "   4  a3          -1.69260e-02   1.86864e-03   2.69123e-04  -6.25937e-01\n",
      "   5  a4           1.50961e-02   1.19640e-03   7.96648e-05  -5.32583e-02\n",
      "   6  gamma        5.12108e-03   2.55732e-04  -6.91563e-05  -2.14432e-01\n",
      "   7  mean         1.01941e+00   4.62301e-05  -8.28180e-05   3.84262e-01\n",
      "   8  nBkg         2.12568e+06   3.96316e+03   1.61470e-05  -9.59615e+00\n",
      "   9  nSig         8.74684e+04   3.58543e+03  -3.45170e-05  -1.75653e+00\n",
      "                               ERR DEF= 0.5\n",
      " EXTERNAL ERROR MATRIX.    NDIM=  25    NPAR=  9    ERR DEF=0.5\n",
      "  2.118e-06  1.246e-06  8.056e-07 -4.543e-07  4.656e-07  1.280e-07 -3.786e-09 -1.954e+00  1.880e+00 \n",
      "  1.246e-06  3.809e-06  5.201e-07 -1.090e-06  7.192e-08  3.246e-07  8.975e-09 -5.099e+00  4.899e+00 \n",
      "  8.056e-07  5.201e-07  1.690e-06  6.353e-07  5.648e-07 -1.207e-08  6.560e-09  2.475e-01 -2.770e-01 \n",
      " -4.543e-07 -1.090e-06  6.353e-07  3.492e-06  4.532e-07 -2.974e-07 -7.916e-09  4.993e+00 -4.954e+00 \n",
      "  4.656e-07  7.192e-08  5.648e-07  4.532e-07  1.431e-06 -2.086e-08 -1.754e-08  3.547e-01 -3.553e-01 \n",
      "  1.280e-07  3.246e-07 -1.207e-08 -2.974e-07 -2.086e-08  6.547e-08  1.570e-09 -8.754e-01  8.472e-01 \n",
      " -3.786e-09  8.975e-09  6.560e-09 -7.916e-09 -1.754e-08  1.570e-09  2.137e-09 -2.261e-02  2.143e-02 \n",
      " -1.954e+00 -5.099e+00  2.475e-01  4.993e+00  3.547e-01 -8.754e-01 -2.261e-02  1.571e+07 -1.313e+07 \n",
      "  1.880e+00  4.899e+00 -2.770e-01 -4.954e+00 -3.553e-01  8.472e-01  2.143e-02 -1.313e+07  1.286e+07 \n",
      " PARAMETER  CORRELATION COEFFICIENTS  \n",
      "       NO.  GLOBAL      1      2      3      4      5      6      7      8      9\n",
      "        1  0.61678   1.000  0.439  0.426 -0.167  0.267  0.344 -0.056 -0.339  0.360\n",
      "        2  0.79595   0.439  1.000  0.205 -0.299  0.031  0.650  0.099 -0.659  0.700\n",
      "        3  0.62945   0.426  0.205  1.000  0.262  0.363 -0.036  0.109  0.048 -0.059\n",
      "        4  0.82679  -0.167 -0.299  0.262  1.000  0.203 -0.622 -0.092  0.674 -0.739\n",
      "        5  0.53183   0.267  0.031  0.363  0.203  1.000 -0.068 -0.317  0.075 -0.083\n",
      "        6  0.92927   0.344  0.650 -0.036 -0.622 -0.068  1.000  0.133 -0.863  0.923\n",
      "        7  0.43313  -0.056  0.099  0.109 -0.092 -0.317  0.133  1.000 -0.123  0.129\n",
      "        8  0.92457  -0.339 -0.659  0.048  0.674  0.075 -0.863 -0.123  1.000 -0.924\n",
      "        9  0.97276   0.360  0.700 -0.059 -0.739 -0.083  0.923  0.129 -0.924  1.000\n",
      " **********\n",
      " **    7 **SET ERR         0.5\n",
      " **********\n",
      " **********\n",
      " **    8 **SET PRINT           1\n",
      " **********\n",
      " **********\n",
      " **    9 **HESSE        4500\n",
      " **********\n",
      " COVARIANCE MATRIX CALCULATED SUCCESSFULLY\n",
      " FCN=-3.63443e+07 FROM HESSE     STATUS=OK             91 CALLS         749 TOTAL\n",
      "                     EDM=0.0598814    STRATEGY= 1      ERROR MATRIX ACCURATE \n",
      "  EXT PARAMETER                                INTERNAL      INTERNAL  \n",
      "  NO.   NAME      VALUE            ERROR       STEP SIZE       VALUE   \n",
      "   1  a0           4.12382e-01   1.38797e-03   5.12901e-03   4.25067e-01\n",
      "   2  a1          -1.44301e-01   1.72266e-03   1.02918e-02  -2.92766e-01\n",
      "   3  a2           4.46860e-02   1.27078e-03   2.11059e-03   2.23448e-02\n",
      "   4  a3          -1.69260e-02   1.67061e-03   4.34529e-02  -1.70079e-01\n",
      "   5  a4           1.50961e-02   1.17300e-03   4.21326e-02   1.51540e-01\n",
      "   6  gamma        5.12108e-03   1.97570e-04   8.69297e-02  -8.43038e-02\n",
      "   7  mean         1.01941e+00   4.54479e-05   3.50266e-02  -1.17882e-01\n",
      "   8  nBkg         2.12568e+06   3.17193e+03   2.50091e-03  -1.50293e-01\n",
      "   9  nSig         8.74684e+04   2.83239e+03   5.31848e-03  -1.30549e+00\n",
      "                               ERR DEF= 0.5\n",
      " EXTERNAL ERROR MATRIX.    NDIM=  25    NPAR=  9    ERR DEF=0.5\n",
      "  1.926e-06  9.347e-07  7.601e-07 -2.323e-07  4.953e-07  7.233e-08 -5.036e-09 -1.146e+00  1.146e+00 \n",
      "  9.347e-07  2.968e-06  4.862e-07 -5.100e-07  1.449e-07  1.788e-07  3.220e-09 -2.951e+00  2.951e+00 \n",
      "  7.601e-07  4.862e-07  1.615e-06  5.501e-07  5.324e-07 -9.134e-09  5.179e-09  2.332e-01 -2.330e-01 \n",
      " -2.323e-07 -5.100e-07  5.501e-07  2.791e-06  3.948e-07 -1.735e-07 -5.173e-09  3.276e+00 -3.276e+00 \n",
      "  4.953e-07  1.449e-07  5.324e-07  3.948e-07  1.376e-06 -9.973e-09 -1.596e-08  1.884e-01 -1.884e-01 \n",
      "  7.233e-08  1.788e-07 -9.134e-09 -1.735e-07 -9.973e-09  3.906e-08  9.350e-10 -4.875e-01  4.878e-01 \n",
      " -5.036e-09  3.220e-09  5.179e-09 -5.173e-09 -1.596e-08  9.350e-10  2.066e-09 -1.070e-02  1.072e-02 \n",
      " -1.146e+00 -2.951e+00  2.332e-01  3.276e+00  1.884e-01 -4.875e-01 -1.070e-02  1.006e+07 -7.935e+06 \n",
      "  1.146e+00  2.951e+00 -2.330e-01 -3.276e+00 -1.884e-01  4.878e-01  1.072e-02 -7.935e+06  8.022e+06 \n",
      " PARAMETER  CORRELATION COEFFICIENTS  \n",
      "       NO.  GLOBAL      1      2      3      4      5      6      7      8      9\n",
      "        1  0.58827   1.000  0.391  0.431 -0.100  0.304  0.264 -0.080 -0.260  0.291\n",
      "        2  0.72663   0.391  1.000  0.222 -0.177  0.072  0.525  0.041 -0.540  0.605\n",
      "        3  0.60304   0.431  0.222  1.000  0.259  0.357 -0.036  0.090  0.058 -0.065\n",
      "        4  0.78797  -0.100 -0.177  0.259  1.000  0.201 -0.526 -0.068  0.618 -0.692\n",
      "        5  0.52206   0.304  0.072  0.357  0.201  1.000 -0.043 -0.299  0.051 -0.057\n",
      "        6  0.88058   0.264  0.525 -0.036 -0.526 -0.043  1.000  0.104 -0.778  0.871\n",
      "        7  0.39347  -0.080  0.041  0.090 -0.068 -0.299  0.104  1.000 -0.074  0.083\n",
      "        8  0.88365  -0.260 -0.540  0.058  0.618  0.051 -0.778 -0.074  1.000 -0.883\n",
      "        9  0.95528   0.291  0.605 -0.065 -0.692 -0.057  0.871  0.083 -0.883  1.000\n",
      "[#1] INFO:Minization -- RooMinimizer::optimizeConst: deactivating const optimization\n"
     ]
    }
   ],
   "source": [
    "tot.fitTo(dh,Range(massmin,massmax))"
   ]
  },
  {
   "cell_type": "code",
   "execution_count": 11,
   "metadata": {},
   "outputs": [
    {
     "name": "stdout",
     "output_type": "stream",
     "text": [
      "[#1] INFO:Plotting -- RooAbsPdf::plotOn(tot) p.d.f was fitted in range and no explicit plot,norm range was specified, using fit range as default\n",
      "[#1] INFO:Plotting -- RooAbsPdf::plotOn(tot) only plotting range 'fit_nll_tot_dh'\n",
      "[#1] INFO:Plotting -- RooAbsPdf::plotOn(tot) p.d.f. curve is normalized using explicit choice of ranges 'fit_nll_tot_dh'\n",
      "[#1] INFO:NumericIntegration -- RooRealIntegral::init(signal_Int[mass]) using numeric integrator RooIntegrator1D to calculate Int(mass)\n",
      "[#1] INFO:NumericIntegration -- RooRealIntegral::init(tot_Int[mass|fit_nll_tot_dh]_Norm[mass]) using numeric integrator RooIntegrator1D to calculate Int(mass)\n",
      "[#1] INFO:NumericIntegration -- RooRealIntegral::init(signal_Int[mass]) using numeric integrator RooIntegrator1D to calculate Int(mass)\n"
     ]
    }
   ],
   "source": [
    "massFrame = mass.frame()\n",
    "massFrame.SetTitle(\"Phi signal - SW - Prompt\")\n",
    "dh.plotOn(massFrame)\n",
    "tot.plotOn(massFrame)\n",
    "massFrame.GetYaxis().SetTitleOffset(1.27)\n",
    "#gauss.plotOn(massFrame,LineColor(kGreen),LineStyle(kDashed),Normalization((sFrac.getValV()*numEvts)/(numEvts)))\n",
    "#cheb.plotOn(massFrame,LineColor(kMagenta),LineStyle(kDotted),Normalization(((1.0-sFrac.getValV())*numEvts)/(numEvts)))\n",
    "signal.plotOn(massFrame,LineColor(kGreen),LineStyle(kDashed),Normalization((nSig.getValV())/(numEvts)))\n",
    "cheb.plotOn(massFrame,LineColor(kGreen),LineStyle(kDashed),Normalization((nBkg.getValV())/(numEvts)))\n",
    "#tot.paramOn(massFrame,Layout(0.60,0.99,0.75))\n",
    "massFrame.Draw()"
   ]
  },
  {
   "cell_type": "code",
   "execution_count": 12,
   "metadata": {},
   "outputs": [
    {
     "name": "stdout",
     "output_type": "stream",
     "text": [
      "Side Sigma\n",
      "5.12108e-03\n",
      "Left Side\n",
      "0.98869 - 0.99893\n",
      "1.01941195214\n"
     ]
    }
   ],
   "source": [
    "plotmax = hist.GetMaximum()*1.05\n",
    "#sidesigma = sigma.getValV()\n",
    "sidesigma = gamma.getValV()\n",
    "#sidesigma = 4.76572e-03\n",
    "leftlowside = -6.*sidesigma + mean.getValV()\n",
    "leftupside = -4.*sidesigma + mean.getValV()\n",
    "rightlowside = +4.*sidesigma + mean.getValV()\n",
    "rightupside = +6.*sidesigma + mean.getValV()\n",
    "\n",
    "signallow = -3.*sidesigma + mean.getValV()\n",
    "signalup = +3.*sidesigma + mean.getValV()\n",
    "\n",
    "print \"Side Sigma\"\n",
    "print \"%.5e\" % sidesigma\n",
    "print \"Left Side\"\n",
    "print \"%.5f - %.5f\" % (leftlowside,leftupside)\n",
    "print mean.getValV()"
   ]
  },
  {
   "cell_type": "code",
   "execution_count": 13,
   "metadata": {
    "collapsed": true
   },
   "outputs": [],
   "source": [
    "JPsi_mass = 3.096916\n",
    "Phi_mass = 1.019455\n",
    "th_mass = JPsi_mass + Phi_mass\n",
    "\n",
    "linelow = TLine(leftlowside,0.0,leftlowside,plotmax)\n",
    "linemidlow = TLine(leftupside,0.0,leftupside,plotmax)\n",
    "linemidup = TLine(rightlowside,0.0,rightlowside,plotmax)\n",
    "lineup = TLine(rightupside,0.0,rightupside,plotmax)\n",
    "\n",
    "linesiglow = TLine(signallow,0.0,signallow,plotmax)\n",
    "linesigup = TLine(signalup,0.0,signalup,plotmax)\n",
    "\n",
    "linelow.SetLineColor(kRed)\n",
    "linemidlow.SetLineColor(kRed)\n",
    "linemidup.SetLineColor(kRed)\n",
    "lineup.SetLineColor(kRed)\n",
    "\n",
    "linesiglow.SetLineColor(kGreen)\n",
    "linesigup.SetLineColor(kGreen) \n",
    "\n",
    "linelow.SetLineWidth(2)\n",
    "linemidlow.SetLineWidth(2)\n",
    "linemidup.SetLineWidth(2)\n",
    "lineup.SetLineWidth(2)\n",
    "\n",
    "linesiglow.SetLineWidth(2)\n",
    "linesigup.SetLineWidth(2) \n",
    "\n",
    "linelow.Draw()\n",
    "linemidlow.Draw()\n",
    "linemidup.Draw()\n",
    "lineup.Draw()\n",
    "\n",
    "linesiglow.Draw()\n",
    "linesigup.Draw()"
   ]
  },
  {
   "cell_type": "code",
   "execution_count": 14,
   "metadata": {},
   "outputs": [
    {
     "name": "stderr",
     "output_type": "stream",
     "text": [
      "Info in <TCanvas::Print>: png file plots/phi_SW_PhiMass.png has been created\n",
      "Info in <TCanvas::Print>: eps file plots/phi_SW_PhiMass.eps has been created\n",
      "Info in <TCanvas::Print>: pdf file plots/phi_SW_PhiMass.pdf has been created\n"
     ]
    }
   ],
   "source": [
    "plotname = \"plots/phi_\" + histname\n",
    "c.SaveAs(plotname  + \".png\")\n",
    "c.SaveAs(plotname  + \".eps\")\n",
    "c.SaveAs(plotname  + \".pdf\")"
   ]
  },
  {
   "cell_type": "code",
   "execution_count": 15,
   "metadata": {},
   "outputs": [
    {
     "name": "stdout",
     "output_type": "stream",
     "text": [
      "[#1] INFO:Eval -- RooRealVar::setRange(mass) new range named 'signalrange' created with bounds [1.00405,1.03478]\n",
      "[#1] INFO:Eval -- RooRealVar::setRange(mass) new range named 'sideleftrange' created with bounds [0.988685,0.998928]\n",
      "[#1] INFO:Eval -- RooRealVar::setRange(mass) new range named 'siderightrange' created with bounds [1.0399,1.05014]\n"
     ]
    }
   ],
   "source": [
    "mass.setRange(\"signalrange\",signallow,signalup)\n",
    "mass.setRange(\"sideleftrange\",leftlowside,leftupside)\n",
    "mass.setRange(\"siderightrange\",rightlowside,rightupside)\n",
    "signalIntegralBkg = cheb.analyticalIntegral(cheb.getAnalyticalIntegral(RooArgSet(mass),RooArgSet(mass)),\"signalrange\")\n",
    "leftsideIntegralBkg = cheb.analyticalIntegral(cheb.getAnalyticalIntegral(RooArgSet(mass),RooArgSet(mass)),\"sideleftrange\")\n",
    "rightsideIntegralBkg = cheb.analyticalIntegral(cheb.getAnalyticalIntegral(RooArgSet(mass),RooArgSet(mass)),\"siderightrange\")"
   ]
  },
  {
   "cell_type": "code",
   "execution_count": 16,
   "metadata": {
    "collapsed": true
   },
   "outputs": [],
   "source": [
    "totIntegralBkg = cheb.analyticalIntegral(cheb.getAnalyticalIntegral(RooArgSet(mass),RooArgSet(mass)))"
   ]
  },
  {
   "cell_type": "code",
   "execution_count": 17,
   "metadata": {
    "collapsed": true
   },
   "outputs": [],
   "source": [
    "#sigBkgEvts = signalIntegralBkg/totIntegralBkg*((1.0-sFrac.getValV())*numEvts)\n",
    "#sidBkgEvts = (leftsideIntegralBkg+rightsideIntegralBkg)/totIntegralBkg*((1.0-sFrac.getValV())*numEvts)\n",
    "sigBkgEvts = signalIntegralBkg/totIntegralBkg*((nBkg.getValV()))\n",
    "sidBkgEvts = (leftsideIntegralBkg+rightsideIntegralBkg)/totIntegralBkg*((nBkg.getValV()))"
   ]
  },
  {
   "cell_type": "code",
   "execution_count": 18,
   "metadata": {},
   "outputs": [
    {
     "name": "stdout",
     "output_type": "stream",
     "text": [
      "1111171.88314\n"
     ]
    }
   ],
   "source": [
    "print sigBkgEvts"
   ]
  },
  {
   "cell_type": "code",
   "execution_count": 19,
   "metadata": {},
   "outputs": [
    {
     "name": "stdout",
     "output_type": "stream",
     "text": [
      "629010.982664\n"
     ]
    }
   ],
   "source": [
    "print sidBkgEvts"
   ]
  },
  {
   "cell_type": "code",
   "execution_count": 20,
   "metadata": {
    "collapsed": true
   },
   "outputs": [],
   "source": [
    "ratio = sigBkgEvts/sidBkgEvts"
   ]
  },
  {
   "cell_type": "code",
   "execution_count": 21,
   "metadata": {
    "collapsed": true
   },
   "outputs": [],
   "source": [
    "#inputfile.ls()"
   ]
  },
  {
   "cell_type": "code",
   "execution_count": 22,
   "metadata": {
    "collapsed": true
   },
   "outputs": [],
   "source": [
    "signalSW = inputfile.Get(\"SW_Mass_Signal\")\n",
    "sideSW_L = inputfile.Get(\"SW_Mass_L_Side\")\n",
    "sideSW_R = inputfile.Get(\"SW_Mass_R_Side\")\n",
    "notrebin = True"
   ]
  },
  {
   "cell_type": "code",
   "execution_count": 23,
   "metadata": {
    "collapsed": true
   },
   "outputs": [],
   "source": [
    "if notrebin:\n",
    "    signalSW.Rebin(10)\n",
    "    sideSW_L.Rebin(10)\n",
    "    sideSW_R.Rebin(10)\n",
    "    notrebin = False"
   ]
  },
  {
   "cell_type": "code",
   "execution_count": 24,
   "metadata": {
    "collapsed": true
   },
   "outputs": [],
   "source": [
    "#sideSW = sideSW_L.Clone()\n",
    "#sideSW.Add(sideSW_R)\n",
    "#sideSW.Scale(ratio)\n",
    "sideSW_L.Scale(ratio)\n",
    "sideSW_R.Scale(ratio)"
   ]
  },
  {
   "cell_type": "code",
   "execution_count": 25,
   "metadata": {},
   "outputs": [
    {
     "name": "stderr",
     "output_type": "stream",
     "text": [
      "Info in <TCanvas::Print>: png file plots/X Candidates Mass - SC_sidebands.png has been created\n"
     ]
    }
   ],
   "source": [
    "cY = TCanvas(\"cB0\",\"cB0\",1200,800)\n",
    "\n",
    "signalSW.SetFillColor(kBlue)\n",
    "signalSW.SetName(\"X Candidates Mass - SC\")\n",
    "signalSW.SetTitle(\"X Candidates Mass - SC; M(KK#mu#mu)[GeV]; candidates/\" + str(signalSW.GetBinWidth(2)*1000)+ \"MeV\")\n",
    "signalSW.GetYaxis().SetTitleOffset(1.3)\n",
    "#signalSW.SetMarkerColor(kBlack)\n",
    "signalSW.SetFillStyle(3002)\n",
    "signalSW.SetMarkerStyle(ROOT.kFullCircle)\n",
    "signalSW.SetMarkerSize(0.65)\n",
    "signalSW.SetLineColor(kBlack)\n",
    "\n",
    "sideSW_L.SetFillColor(kRed)\n",
    "#sideSW_L.SetMarkerColor(kBlack)\n",
    "sideSW_L.SetFillStyle(3002)\n",
    "sideSW_L.SetMarkerStyle(ROOT.kFullCircle)\n",
    "sideSW_L.SetMarkerSize(0.65)\n",
    "sideSW_L.SetLineColor(kBlack)\n",
    "\n",
    "sideSW_R.SetFillColor(kGreen)\n",
    "#sideSW_R.SetMarkerColor(kBlack)\n",
    "sideSW_R.SetMarkerStyle(ROOT.kFullCircle)\n",
    "sideSW_R.SetMarkerSize(0.65)\n",
    "sideSW_R.SetLineColor(kBlack)\n",
    "sideSW_R.SetFillStyle(3002)\n",
    "\n",
    "side = sideSW_R.Clone()\n",
    "side.Add(sideSW_L,1.0)\n",
    "\n",
    "signalSW.Draw(\"EBar\")\n",
    "#sideSW = sideSW_L.Clone()\n",
    "#sideSW.Add(sideSW_R,+1.0)\n",
    "#sideSW.SetFillColor(kRed)\n",
    "#sideSW.SetFillStyle(3002)\n",
    "#sideSW.Scale(2.0)\n",
    "#sideSW.Draw(\"SAMEBar\")\n",
    "#sideSW_R.Draw(\"E0SAMEBar\")\n",
    "#sideSW_L.Draw(\"E0SAMEBar\")\n",
    "side.Draw(\"E0SAMEBar\")\n",
    "\n",
    "legend = TLegend(0.75,0.45,0.99,0.75)\n",
    "legend.AddEntry(signalSW,\"Signal region (-3.0#sigma,+3.0#sigma)\",\"f\")\n",
    "legend.AddEntry(sideSW_R,\"R-sideband    (-6.0#sigma,-4.0#sigma)\",\"f\")\n",
    "legend.AddEntry(sideSW_L,\"L-sideband    (+4.0#sigma,+6.0#sigma)\",\"f\")\n",
    "legend.Draw()\n",
    "cY.SaveAs(\"plots/\" + signalSW.GetName() + \"_sidebands.png\")"
   ]
  },
  {
   "cell_type": "code",
   "execution_count": 26,
   "metadata": {},
   "outputs": [
    {
     "data": {
      "text/plain": [
       "True"
      ]
     },
     "execution_count": 26,
     "metadata": {},
     "output_type": "execute_result"
    }
   ],
   "source": [
    "ROOT.gStyle.SetOptStat(0)\n",
    "ySideSub = signalSW.Clone(\"SW Mass\")\n",
    "ySideSub.SetTitle(\"SW Mass - #phi sides subtracted; M(KK#mu#mu)[GeV]; candidates/\" + str(signalSW.GetBinWidth(2)*1000)+ \"MeV\")\n",
    "ySideSub.GetYaxis().SetTitleOffset(1.2)\n",
    "#ySideSub.Add(sideSW,-1.0) \n",
    "ySideSub.Add(sideSW_L,-1.0)\n",
    "ySideSub.Add(sideSW_R,-1.0)"
   ]
  },
  {
   "cell_type": "code",
   "execution_count": 27,
   "metadata": {},
   "outputs": [
    {
     "name": "stderr",
     "output_type": "stream",
     "text": [
      "Info in <TCanvas::Print>: png file plots/X Candidates Mass - SC_subtracted.png has been created\n"
     ]
    }
   ],
   "source": [
    "ySideSub.SetFillColor(4004)\n",
    "ySideSub.SetFillStyle(3002)\n",
    "ySideSub.SetMarkerStyle(ROOT.kFullCircle)\n",
    "ySideSub.SetMarkerColor(kBlack)\n",
    "ySideSub.SetMarkerSize(0.8)\n",
    "ySideSub.SetLineColor(kBlack)\n",
    "ySideSub.Draw(\"E0\")\n",
    "lineth = TLine(th_mass,ySideSub.GetMinimum()*1.25,th_mass,ySideSub.GetMaximum()*1.1)\n",
    "lineth.SetLineColor(kBlue)\n",
    "lineth.SetLineWidth(2)\n",
    "lineth.SetLineStyle(kDashed)\n",
    "lineth.Draw()\n",
    "linezero = TLine(ySideSub.GetBinCenter(1),0.0,ySideSub.GetBinCenter(ySideSub.GetNbinsX()),0.0)\n",
    "linezero.SetLineColor(kRed)\n",
    "linezero.SetLineWidth(2)\n",
    "linezero.SetLineStyle(kDotted)\n",
    "linezero.Draw()\n",
    "cY.SaveAs(\"plots/\" + signalSW.GetName() + \"_subtracted.png\")"
   ]
  },
  {
   "cell_type": "code",
   "execution_count": null,
   "metadata": {
    "collapsed": true
   },
   "outputs": [],
   "source": []
  },
  {
   "cell_type": "code",
   "execution_count": null,
   "metadata": {
    "collapsed": true
   },
   "outputs": [],
   "source": []
  }
 ],
 "metadata": {
  "kernelspec": {
   "display_name": "Python 2",
   "language": "python",
   "name": "python2"
  },
  "language_info": {
   "codemirror_mode": {
    "name": "ipython",
    "version": 2
   },
   "file_extension": ".py",
   "mimetype": "text/x-python",
   "name": "python",
   "nbconvert_exporter": "python",
   "pygments_lexer": "ipython2",
   "version": "2.7.14"
  }
 },
 "nbformat": 4,
 "nbformat_minor": 2
}
