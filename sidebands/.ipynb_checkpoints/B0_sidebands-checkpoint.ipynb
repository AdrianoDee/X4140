{
 "cells": [
  {
   "cell_type": "code",
   "execution_count": 1,
   "metadata": {},
   "outputs": [
    {
     "name": "stdout",
     "output_type": "stream",
     "text": [
      "Welcome to JupyROOT 6.10/08\n"
     ]
    }
   ],
   "source": [
    "! . /usr/local/bin/thisroot.sh\n",
    "import ROOT\n",
    "from ROOT import TFile,TH1,TH1F,TCanvas,TLine,TLegend,TPad\n",
    "from ROOT import RooFit"
   ]
  },
  {
   "cell_type": "code",
   "execution_count": 2,
   "metadata": {
    "collapsed": true
   },
   "outputs": [],
   "source": [
    "#! ls ../rootfiles/X4140*.root"
   ]
  },
  {
   "cell_type": "code",
   "execution_count": 3,
   "metadata": {},
   "outputs": [],
   "source": [
    "rootfile =\"../rootfiles/X4140_Base_KRe_MuRef_NoQual_Sidebands5-7_NP3.0_B0Cuts_CW5.15-5.55_BDCAdd.root\"\n",
    "rootfile = \"../rootfiles/X4140_Base_Side4-6_AllData.root\"\n",
    "#rootfile =\"../rootfiles/X4140_MuMuKK_KRe_MuRef_Sidebands5-7_NP3.0_B0Cuts_CW5.15-5.55.root\"\n",
    "#histname = \"Xcand_histo_hlt8_cw_nonprompt_cosalpha\"\n",
    "#histname = \"Phi_hist_all_cw_all_cosalpha\"\n",
    "#histname = \"PhiMassHisto\"\n",
    "histname = \"CW_PhiMass_NoM\"\n",
    "#histname = \"Xcand_histo_DM_any_cw_nonprompt_cosalpha\"\n",
    "inputfile  = TFile(rootfile,\"READ\")\n",
    "hist = inputfile.Get(histname)\n",
    "c = TCanvas(\"canvas\",\"canvas\",1200,800) ;\n",
    "hist.SetName(\"CW_Phi_NonPrompt\")\n",
    "hist.SetTitle(\"CW_Phi_NonPrompt\")"
   ]
  },
  {
   "cell_type": "code",
   "execution_count": 2,
   "metadata": {
    "collapsed": true
   },
   "outputs": [],
   "source": [
    "from ROOT import RooRealVar,RooAbsPdf,RooChebychev,RooExponential,RooGaussian\n",
    "from ROOT import RooAbsPdf,RooPlot,RooAddPdf,RooDataHist,RooArgSet,RooArgList\n",
    "from ROOT import RooVoigtian\n",
    "from ROOT import kGreen,kRed,kBlack,kBlue,kDashed,kDotted,kMagenta\n",
    "from ROOT.RooFit import Components,LineColor,LineStyle,Name,Normalization,Layout,Format,Label,Parameters,Range,Title"
   ]
  },
  {
   "cell_type": "code",
   "execution_count": 5,
   "metadata": {
    "collapsed": true
   },
   "outputs": [],
   "source": [
    "massmin = 1.020-0.03\n",
    "massmax = 1.020+0.03\n",
    "phimean = 1.020\n",
    "massbins = (massmax - massmin)/hist.GetBinWidth(2)\n",
    "mass = RooRealVar(\"mass\",\"M(KK)[GeV]\",massmin,massmax)\n",
    "mass.setBins(int(massbins))"
   ]
  },
  {
   "cell_type": "code",
   "execution_count": 6,
   "metadata": {},
   "outputs": [
    {
     "name": "stderr",
     "output_type": "stream",
     "text": [
      "Info in <TCanvas::Print>: png file plots/phiplot_CW_PhiMass_NoM.png has been created\n",
      "Info in <TCanvas::Print>: eps file plots/phiplot_CW_PhiMass_NoM.eps has been created\n",
      "Info in <TCanvas::Print>: pdf file plots/phiplot_CW_PhiMass_NoM.pdf has been created\n"
     ]
    }
   ],
   "source": [
    "hist.GetXaxis().SetRangeUser(massmin,massmax)\n",
    "hist.Draw()\n",
    "plotname = \"plots/phiplot_\" + histname\n",
    "c.SaveAs(plotname  + \".png\")\n",
    "c.SaveAs(plotname  + \".eps\")\n",
    "c.SaveAs(plotname  + \".pdf\")"
   ]
  },
  {
   "cell_type": "code",
   "execution_count": 7,
   "metadata": {
    "collapsed": true
   },
   "outputs": [],
   "source": [
    "mean = RooRealVar(\"mean\",\"mean of gaussian\",phimean,phimean-0.005,phimean+0.005);\n",
    "sigma = RooRealVar(\"sigma\",\"width of gaussian\",0.0013);\n",
    "gamma = RooRealVar(\"gamma\",\"gamma of bw\",0.004253)#,0.001,0.01);\n",
    "\n",
    "a0 = RooRealVar(\"a0\",\"a0\",0.001,-1.,1.)\n",
    "a1 = RooRealVar(\"a1\",\"a1\",0.001,-0.5,0.5)\n",
    "a2 = RooRealVar(\"a2\",\"a2\",-0.00001,-2.,2.)\n",
    "a3 = RooRealVar(\"a3\",\"a3\",0.0)#\n",
    "a4 = RooRealVar(\"a4\",\"a4\",0.0,-0.1,0.1)\n",
    "a5 = RooRealVar(\"a5\",\"a5\",0.0,-0.025,0.05)\n",
    "a6 = RooRealVar(\"a6\",\"a6\",0.0,-0.001,0.001)\n",
    "\n",
    "aset = RooArgList(a0,a1,a2,a3,a4,a5)\n",
    "nSig = RooRealVar(\"nSig\",\"nSig\",5E5,0.,5.0E6)\n",
    "nBkg = RooRealVar(\"nBkg\",\"nBkg\",2E6,0.,5.0E6)"
   ]
  },
  {
   "cell_type": "code",
   "execution_count": 8,
   "metadata": {
    "collapsed": true
   },
   "outputs": [],
   "source": [
    "cheb = RooChebychev(\"cheb\",\"Background\",mass,aset)\n",
    "#gauss = RooGaussian(\"gauss\",\"gaussian PDF \",mass,mean,sigma)\n",
    "signal = RooVoigtian(\"signal\",\"signal\",mass,mean,gamma,sigma)\n",
    "\n",
    "tot = RooAddPdf(\"tot\",\"g+cheb\",RooArgList(signal,cheb),RooArgList(nSig,nBkg))"
   ]
  },
  {
   "cell_type": "code",
   "execution_count": 9,
   "metadata": {},
   "outputs": [
    {
     "name": "stdout",
     "output_type": "stream",
     "text": [
      "240641.0\n",
      "[#1] INFO:DataHandling -- RooDataHist::adjustBinning(dh): fit range of variable mass expanded to nearest bin boundaries: [0.99,1.05] --> [0.99,1.05]\n"
     ]
    }
   ],
   "source": [
    "masslist = RooArgList(mass)\n",
    "dh = RooDataHist(\"dh\",\"dh\",masslist,hist)\n",
    "numEvts = dh.sum(False)\n",
    "print numEvts"
   ]
  },
  {
   "cell_type": "code",
   "execution_count": 10,
   "metadata": {},
   "outputs": [
    {
     "data": {
      "text/plain": [
       "<ROOT.RooFitResult object at 0x0>"
      ]
     },
     "execution_count": 10,
     "metadata": {},
     "output_type": "execute_result"
    },
    {
     "name": "stdout",
     "output_type": "stream",
     "text": [
      "[#1] INFO:Minization -- p.d.f. provides expected number of events, including extended term in likelihood.\n",
      "[#1] INFO:NumericIntegration -- RooRealIntegral::init(signal_Int[mass]) using numeric integrator RooIntegrator1D to calculate Int(mass)\n",
      "[#1] INFO:Minization -- RooMinimizer::optimizeConst: activating const optimization\n",
      "[#1] INFO:NumericIntegration -- RooRealIntegral::init(signal_Int[mass]) using numeric integrator RooIntegrator1D to calculate Int(mass)\n",
      "[#1] INFO:Minization --  The following expressions will be evaluated in cache-and-track mode: (signal,cheb)\n",
      " **********\n",
      " **    1 **SET PRINT           1\n",
      " **********\n",
      " **********\n",
      " **    2 **SET NOGRAD\n",
      " **********\n",
      " PARAMETER DEFINITIONS:\n",
      "    NO.   NAME         VALUE      STEP SIZE      LIMITS\n",
      "     1 a0           1.00000e-03  2.00000e-01   -1.00000e+00  1.00000e+00\n",
      "     2 a1           1.00000e-03  1.00000e-01   -5.00000e-01  5.00000e-01\n",
      "     3 a2          -1.00000e-05  4.00000e-01   -2.00000e+00  2.00000e+00\n",
      "     4 a4           0.00000e+00  2.00000e-02   -1.00000e-01  1.00000e-01\n",
      "     5 a5           0.00000e+00  7.50000e-03   -2.50000e-02  5.00000e-02\n",
      "     6 mean         1.02000e+00  1.00000e-03    1.01500e+00  1.02500e+00\n",
      "     7 nBkg         2.00000e+06  5.00000e+05    0.00000e+00  5.00000e+06\n",
      "     8 nSig         5.00000e+05  2.50000e+05    0.00000e+00  5.00000e+06\n",
      " **********\n",
      " **    3 **SET ERR         0.5\n",
      " **********\n",
      " **********\n",
      " **    4 **SET PRINT           1\n",
      " **********\n",
      " **********\n",
      " **    5 **SET STR           1\n",
      " **********\n",
      " NOW USING STRATEGY  1: TRY TO BALANCE SPEED AGAINST RELIABILITY\n",
      " **********\n",
      " **    6 **MIGRAD        4000           1\n",
      " **********\n",
      " FIRST CALL TO USER FUNCTION AT NEW START POINT, WITH IFLAG=4.\n",
      " START MIGRAD MINIMIZATION.  STRATEGY  1.  CONVERGENCE WHEN EDM .LT. 1.00e-03\n",
      " FCN=-1.74128e+06 FROM MIGRAD    STATUS=INITIATE       34 CALLS          35 TOTAL\n",
      "                     EDM= unknown      STRATEGY= 1      NO ERROR MATRIX       \n",
      "  EXT PARAMETER               CURRENT GUESS       STEP         FIRST   \n",
      "  NO.   NAME      VALUE            ERROR          SIZE      DERIVATIVE \n",
      "   1  a0           1.00000e-03   2.00000e-01   2.01358e-01  -2.72698e+04\n",
      "   2  a1           1.00000e-03   1.00000e-01   2.01358e-01   3.96129e+03\n",
      "   3  a2          -1.00000e-05   4.00000e-01   2.01358e-01   2.81024e+04\n",
      "   4  a4           0.00000e+00   2.00000e-02   2.01358e-01   5.69431e+02\n",
      "   5  a5           0.00000e+00   7.50000e-03   2.14402e-01   1.06700e+02\n",
      "   6  mean         1.02000e+00   1.00000e-03   2.01358e-01   1.34459e+03\n",
      "   7  nBkg         2.00000e+06   5.00000e+05   2.05758e-01   2.21881e+06\n",
      "   8  nSig         5.00000e+05   2.50000e+05   1.72186e-01   1.34292e+06\n",
      "                               ERR DEF= 0.5\n",
      " MIGRAD FAILS TO FIND IMPROVEMENT\n",
      " MACHINE ACCURACY LIMITS FURTHER IMPROVEMENT.\n",
      " MIGRAD MINIMIZATION HAS CONVERGED.\n",
      " MIGRAD WILL VERIFY CONVERGENCE AND ERROR MATRIX.\n",
      " COVARIANCE MATRIX CALCULATED SUCCESSFULLY\n",
      " FCN=-3.44515e+06 FROM HESSE     STATUS=OK             71 CALLS         374 TOTAL\n",
      "                     EDM=0.0183515    STRATEGY= 1      ERROR MATRIX ACCURATE \n",
      "  EXT PARAMETER                                   STEP         FIRST   \n",
      "  NO.   NAME      VALUE            ERROR          SIZE      DERIVATIVE \n",
      "   1  a0           4.96146e-01   4.74780e-03   5.59771e-03   1.02681e+00\n",
      "   2  a1          -9.21806e-02   7.70952e-03   1.08072e-02  -3.50435e+00\n",
      "   3  a2           1.67064e-02   4.21188e-03   2.20203e-03  -2.19731e+00\n",
      "   4  a4           1.77048e-02   4.30960e-03   4.51661e-02  -8.83018e-01\n",
      "   5  a5          -2.20402e-02   5.95142e-03   2.79536e-01   9.03414e-02\n",
      "   6  mean         1.01959e+00   2.35636e-05   5.68332e-03   4.96315e-01\n",
      "   7  nBkg         1.83595e+05   7.68686e+02   6.36752e-04   2.11554e+01\n",
      "   8  nSig         5.70272e+04   6.80853e+02   8.24267e-04  -1.33983e+02\n",
      "                               ERR DEF= 0.5\n",
      " MINUIT WARNING IN MIGRAD  \n",
      " ============== Negative diagonal element 5 in Error Matrix\n",
      " MINUIT WARNING IN MIGRAD  \n",
      " ============== 1.01655 added to diagonal of error matrix\n",
      "[#0] WARNING:Minization -- RooMinimizerFcn: Minimized function has error status.\n",
      "Returning maximum FCN so far (-1.14448e+06) to force MIGRAD to back out of this region. Error log follows\n",
      "Parameter values: a0=0.570997, a1=-0.0981659, a2=1.33655, a4=0.0293513, a5=-0.0218146, mean=1.01935, nBkg=3.64858e+06, nSig=4.90706e+06\n",
      "RooChebychev::cheb[ x=mass coefList=(a0,a1,a2,a3,a4,a5) ]\n",
      "     p.d.f value is less than zero (-0.937584), forcing value to zero @ x=mass=0.99025, coefList=(a0 = 0.570997,a1 = -0.0981659,a2 = 1.33655,a3 = 0,a4 = 0.0293513,a5 = -0.0218146)\n",
      "     p.d.f value is less than zero (-0.708632), forcing value to zero @ x=mass=0.99075, coefList=(a0 = 0.570997,a1 = -0.0981659,a2 = 1.33655,a3 = 0,a4 = 0.0293513,a5 = -0.0218146)\n",
      "     p.d.f value is less than zero (-0.492101), forcing value to zero @ x=mass=0.99125, coefList=(a0 = 0.570997,a1 = -0.0981659,a2 = 1.33655,a3 = 0,a4 = 0.0293513,a5 = -0.0218146)\n",
      "     p.d.f value is less than zero (-0.287497), forcing value to zero @ x=mass=0.99175, coefList=(a0 = 0.570997,a1 = -0.0981659,a2 = 1.33655,a3 = 0,a4 = 0.0293513,a5 = -0.0218146)\n",
      "     p.d.f value is less than zero (-0.094349), forcing value to zero @ x=mass=0.99225, coefList=(a0 = 0.570997,a1 = -0.0981659,a2 = 1.33655,a3 = 0,a4 = 0.0293513,a5 = -0.0218146)\n",
      "     p.d.f value is less than zero (-0.005076), forcing value to zero @ x=mass=1.03375, coefList=(a0 = 0.570997,a1 = -0.0981659,a2 = 1.33655,a3 = 0,a4 = 0.0293513,a5 = -0.0218146)\n",
      "     p.d.f value is less than zero (-0.009868), forcing value to zero @ x=mass=1.03425, coefList=(a0 = 0.570997,a1 = -0.0981659,a2 = 1.33655,a3 = 0,a4 = 0.0293513,a5 = -0.0218146)\n",
      "     p.d.f value is less than zero (-0.010449), forcing value to zero @ x=mass=1.03475, coefList=(a0 = 0.570997,a1 = -0.0981659,a2 = 1.33655,a3 = 0,a4 = 0.0293513,a5 = -0.0218146)\n",
      "     p.d.f value is less than zero (-0.006643), forcing value to zero @ x=mass=1.03525, coefList=(a0 = 0.570997,a1 = -0.0981659,a2 = 1.33655,a3 = 0,a4 = 0.0293513,a5 = -0.0218146)\n",
      "\n",
      "[#0] WARNING:Minization -- RooMinimizerFcn: Minimized function has error status.\n",
      "Returning maximum FCN so far (-1.14448e+06) to force MIGRAD to back out of this region. Error log follows\n",
      "Parameter values: a0=0.591828, a1=-0.050177, a2=1.15839, a4=0.0296387, a5=-0.0218104, mean=1.01944, nBkg=4.03114e+06, nSig=4.93731e+06\n",
      "RooChebychev::cheb[ x=mass coefList=(a0,a1,a2,a3,a4,a5) ]\n",
      "     p.d.f value is less than zero (-0.747125), forcing value to zero @ x=mass=0.99025, coefList=(a0 = 0.591828,a1 = -0.050177,a2 = 1.15839,a3 = 0,a4 = 0.0296387,a5 = -0.0218104)\n",
      "     p.d.f value is less than zero (-0.546417), forcing value to zero @ x=mass=0.99075, coefList=(a0 = 0.591828,a1 = -0.050177,a2 = 1.15839,a3 = 0,a4 = 0.0296387,a5 = -0.0218104)\n",
      "     p.d.f value is less than zero (-0.356931), forcing value to zero @ x=mass=0.99125, coefList=(a0 = 0.591828,a1 = -0.050177,a2 = 1.15839,a3 = 0,a4 = 0.0296387,a5 = -0.0218104)\n",
      "     p.d.f value is less than zero (-0.178195), forcing value to zero @ x=mass=0.99175, coefList=(a0 = 0.591828,a1 = -0.050177,a2 = 1.15839,a3 = 0,a4 = 0.0296387,a5 = -0.0218104)\n",
      "     p.d.f value is less than zero (-0.009754), forcing value to zero @ x=mass=0.99225, coefList=(a0 = 0.591828,a1 = -0.050177,a2 = 1.15839,a3 = 0,a4 = 0.0296387,a5 = -0.0218104)\n",
      "\n",
      "[#0] WARNING:Minization -- RooMinimizerFcn: Minimized function has error status.\n",
      "Returning maximum FCN so far (-1.14448e+06) to force MIGRAD to back out of this region. Error log follows\n",
      "Parameter values: a0=0.62738, a1=0.0289087, a2=0.784756, a4=0.0301343, a5=-0.0218604, mean=1.01961, nBkg=189456, nSig=52332.8\n",
      "RooChebychev::cheb[ x=mass coefList=(a0,a1,a2,a3,a4,a5) ]\n",
      "     p.d.f value is less than zero (-0.360432), forcing value to zero @ x=mass=0.99025, coefList=(a0 = 0.62738,a1 = 0.0289087,a2 = 0.784756,a3 = 0,a4 = 0.0301343,a5 = -0.0218604)\n",
      "     p.d.f value is less than zero (-0.217688), forcing value to zero @ x=mass=0.99075, coefList=(a0 = 0.62738,a1 = 0.0289087,a2 = 0.784756,a3 = 0,a4 = 0.0301343,a5 = -0.0218604)\n",
      "     p.d.f value is less than zero (-0.083680), forcing value to zero @ x=mass=0.99125, coefList=(a0 = 0.62738,a1 = 0.0289087,a2 = 0.784756,a3 = 0,a4 = 0.0301343,a5 = -0.0218604)\n",
      "\n",
      " MIGRAD FAILS TO FIND IMPROVEMENT\n",
      " MIGRAD TERMINATED WITHOUT CONVERGENCE.\n",
      " FCN=-3.44515e+06 FROM MIGRAD    STATUS=FAILED        531 CALLS         532 TOTAL\n",
      "                     EDM=1.26762    STRATEGY= 1  ERROR MATRIX UNCERTAINTY  23.7 per cent\n",
      "  EXT PARAMETER                APPROXIMATE        STEP         FIRST   \n",
      "  NO.   NAME      VALUE            ERROR          SIZE      DERIVATIVE \n",
      "   1  a0           4.96368e-01   1.63662e-01  -0.00000e+00  -9.01126e-02\n",
      "   2  a1          -9.15266e-02   3.47813e-02  -0.00000e+00   1.54940e-01\n",
      "   3  a2           1.68783e-02   7.70448e-02   0.00000e+00  -9.15025e-02\n",
      "   4  a4           1.79377e-02   6.43822e-02   0.00000e+00  -2.45611e-01\n",
      "   5  a5          -2.17130e-02   9.98232e-03  -0.00000e+00   1.65138e+00\n",
      "   6  mean         1.01959e+00   3.14668e-03   0.00000e+00  -4.75906e-02\n",
      "   7  nBkg         1.83541e+05   2.33022e+03  -0.00000e+00   1.79784e-01\n",
      "   8  nSig         5.71002e+04   2.24192e+03  -0.00000e+00   7.00510e-01\n",
      "                               ERR DEF= 0.5\n",
      " EXTERNAL ERROR MATRIX.    NDIM=  25    NPAR=  8    ERR DEF=0.5\n",
      "  2.711e-02 -5.394e-03 -1.169e-02  1.166e-03  2.037e-05 -5.571e-04 -3.466e+02 -3.468e+02 \n",
      " -5.394e-03  1.212e-03  2.156e-03 -6.495e-04  8.920e-05  1.091e-04  7.633e+01  7.461e+01 \n",
      " -1.169e-02  2.156e-03  5.939e-03  1.562e-03 -1.472e-05  2.516e-04  1.536e+02  1.538e+02 \n",
      "  1.166e-03 -6.495e-04  1.562e-03  4.926e-03 -6.695e-08  2.237e-06 -5.392e+00 -5.190e+00 \n",
      "  2.037e-05  8.920e-05 -1.472e-05 -6.695e-08  1.181e-04 -5.431e-08  8.530e+00  6.390e+00 \n",
      " -5.571e-04  1.091e-04  2.516e-04  2.237e-06 -5.431e-08  1.160e-05  7.213e+00  7.212e+00 \n",
      " -3.466e+02  7.633e+01  1.536e+02 -5.392e+00  8.530e+00  7.213e+00  5.430e+06  5.088e+06 \n",
      " -3.468e+02  7.461e+01  1.538e+02 -5.190e+00  6.390e+00  7.212e+00  5.088e+06  5.026e+06 \n",
      "ERR MATRIX APPROXIMATE\n",
      " PARAMETER  CORRELATION COEFFICIENTS  \n",
      "       NO.  GLOBAL      1      2      3      4      5      6      7      8\n",
      "        1  0.99972   1.000 -0.941 -0.921  0.101  0.011 -0.993 -0.903 -0.940\n",
      "        2  0.99254  -0.941  1.000  0.804 -0.266  0.236  0.920  0.941  0.956\n",
      "        3  0.99900  -0.921  0.804  1.000  0.289 -0.018  0.959  0.855  0.890\n",
      "        4  0.99042   0.101 -0.266  0.289  1.000 -0.000  0.009 -0.033 -0.033\n",
      "        5  0.89759   0.011  0.236 -0.018 -0.000  1.000 -0.001  0.337  0.262\n",
      "        6  0.99984  -0.993  0.920  0.959  0.009 -0.001  1.000  0.909  0.945\n",
      "        7  0.97971  -0.903  0.941  0.855 -0.033  0.337  0.909  1.000  0.974\n",
      "        8  0.98833  -0.940  0.956  0.890 -0.033  0.262  0.945  0.974  1.000\n",
      " ERR MATRIX APPROXIMATE\n",
      " **********\n",
      " **    7 **SET ERR         0.5\n",
      " **********\n",
      " **********\n",
      " **    8 **SET PRINT           1\n",
      " **********\n",
      " **********\n",
      " **    9 **HESSE        4000\n",
      " **********\n",
      " COVARIANCE MATRIX CALCULATED SUCCESSFULLY\n",
      " FCN=-3.44515e+06 FROM HESSE     STATUS=OK             77 CALLS         609 TOTAL\n",
      "                     EDM=8.96987e-05    STRATEGY= 1      ERROR MATRIX ACCURATE \n",
      "  EXT PARAMETER                                INTERNAL      INTERNAL  \n",
      "  NO.   NAME      VALUE            ERROR       STEP SIZE       VALUE   \n",
      "   1  a0           4.96368e-01   4.75106e-03   5.59951e-03   5.19409e-01\n",
      "   2  a1          -9.15266e-02   7.73426e-03   1.08091e-02  -1.84091e-01\n",
      "   3  a2           1.68783e-02   4.21404e-03   2.20219e-03   8.43924e-03\n",
      "   4  a4           1.79377e-02   4.31487e-03   4.52373e-02   1.80353e-01\n",
      "   5  a5          -2.17130e-02   6.05098e-03   2.86482e-01  -1.14898e+00\n",
      "   6  mean         1.01959e+00   2.35518e-05   5.68107e-03  -8.23649e-02\n",
      "   7  nBkg         1.83541e+05   7.70483e+02   6.36772e-04  -1.95637e+00\n",
      "   8  nSig         5.71002e+04   6.83042e+02   8.24030e-04  -1.35666e+00\n",
      "                               ERR DEF= 0.5\n",
      " EXTERNAL ERROR MATRIX.    NDIM=  25    NPAR=  8    ERR DEF=0.5\n",
      "  2.257e-05  1.527e-05  1.003e-05  8.164e-06  8.457e-06 -1.221e-08  1.070e+00  1.069e+00 \n",
      "  1.527e-05  5.982e-05  1.066e-05  1.214e-05  3.666e-05 -9.242e-09  4.128e+00  4.124e+00 \n",
      "  1.003e-05  1.066e-05  1.776e-05  6.162e-06  4.684e-06  8.483e-09  6.138e-01  6.132e-01 \n",
      "  8.164e-06  1.214e-05  6.162e-06  1.863e-05  1.155e-05 -2.751e-08  1.090e+00  1.089e+00 \n",
      "  8.457e-06  3.666e-05  4.684e-06  1.155e-05  3.868e-05 -1.084e-08  3.297e+00  3.293e+00 \n",
      " -1.221e-08 -9.242e-09  8.483e-09 -2.751e-08 -1.084e-08  5.547e-10 -8.100e-04 -8.088e-04 \n",
      "  1.070e+00  4.128e+00  6.138e-01  1.090e+00  3.297e+00 -8.100e-04  5.936e+05  4.098e+05 \n",
      "  1.069e+00  4.124e+00  6.132e-01  1.089e+00  3.293e+00 -8.088e-04  4.098e+05  4.665e+05 \n",
      " PARAMETER  CORRELATION COEFFICIENTS  \n",
      "       NO.  GLOBAL      1      2      3      4      5      6      7      8\n",
      "        1  0.60230   1.000  0.415  0.501  0.398  0.286 -0.109  0.292  0.329\n",
      "        2  0.84425   0.415  1.000  0.327  0.364  0.762 -0.051  0.693  0.781\n",
      "        3  0.57887   0.501  0.327  1.000  0.339  0.179  0.085  0.189  0.213\n",
      "        4  0.59401   0.398  0.364  0.339  1.000  0.430 -0.271  0.328  0.369\n",
      "        5  0.83368   0.286  0.762  0.179  0.430  1.000 -0.074  0.688  0.775\n",
      "        6  0.34718  -0.109 -0.051  0.085 -0.271 -0.074  1.000 -0.045 -0.050\n",
      "        7  0.79526   0.292  0.693  0.189  0.328  0.688 -0.045  1.000  0.779\n",
      "        8  0.86600   0.329  0.781  0.213  0.369  0.775 -0.050  0.779  1.000\n",
      "[#1] INFO:Minization -- RooMinimizer::optimizeConst: deactivating const optimization\n"
     ]
    }
   ],
   "source": [
    "tot.fitTo(dh)"
   ]
  },
  {
   "cell_type": "code",
   "execution_count": 11,
   "metadata": {},
   "outputs": [
    {
     "name": "stdout",
     "output_type": "stream",
     "text": [
      "Side Sigma\n",
      "4.25300e-03\n",
      "Left Side\n",
      "0.99407 - 1.00258\n",
      "1.01958864122\n"
     ]
    }
   ],
   "source": [
    "plotmax = hist.GetMaximum()*1.05\n",
    "sidesigma = sigma.getValV()\n",
    "sidesigma = gamma.getValV()\n",
    "leftlowside = -6.*sidesigma + mean.getValV()\n",
    "leftupside = -4.*sidesigma + mean.getValV()\n",
    "rightlowside = +4.*sidesigma + mean.getValV()\n",
    "rightupside = +6.*sidesigma + mean.getValV()\n",
    "\n",
    "signallow = -3.*sidesigma + mean.getValV()\n",
    "signalup = +3.*sidesigma + mean.getValV()\n",
    "\n",
    "print \"Side Sigma\"\n",
    "print \"%.5e\" % sidesigma\n",
    "print \"Left Side\"\n",
    "print \"%.5f - %.5f\" % (leftlowside,leftupside)\n",
    "print mean.getValV()"
   ]
  },
  {
   "cell_type": "code",
   "execution_count": 12,
   "metadata": {},
   "outputs": [
    {
     "name": "stdout",
     "output_type": "stream",
     "text": [
      "[#1] INFO:NumericIntegration -- RooRealIntegral::init(signal_Int[mass]) using numeric integrator RooIntegrator1D to calculate Int(mass)\n",
      "[#1] INFO:NumericIntegration -- RooRealIntegral::init(signal_Int[mass]) using numeric integrator RooIntegrator1D to calculate Int(mass)\n",
      "[#1] INFO:NumericIntegration -- RooRealIntegral::init(signal_Int[mass]) using numeric integrator RooIntegrator1D to calculate Int(mass)\n",
      "[#1] INFO:NumericIntegration -- RooRealIntegral::init(signal_Int[mass]) using numeric integrator RooIntegrator1D to calculate Int(mass)\n"
     ]
    },
    {
     "name": "stderr",
     "output_type": "stream",
     "text": [
      "Warning in <TCanvas::Constructor>: Deleting canvas with same name: canvas\n",
      "Info in <TCanvas::Print>: png file plots/phi_CW_PhiMass_NoM.png has been created\n",
      "Info in <TCanvas::Print>: pdf file plots/phi_CW_PhiMass_NoM.pdf has been created\n",
      "Warning in <TCanvas::Constructor>: Deleting canvas with same name: canvas\n",
      "Info in <TCanvas::Print>: png file plots/phi_paramon_CW_PhiMass_NoM.png has been created\n",
      "Info in <TCanvas::Print>: pdf file plots/phi_paramon_CW_PhiMass_NoM.pdf has been created\n"
     ]
    }
   ],
   "source": [
    "for param in [False,True]:\n",
    "    cmass = TCanvas(\"canvas\",\"canvas\",1200,1200) ;\n",
    "    JPsi_mass = 3.096916\n",
    "    Phi_mass = 1.019455\n",
    "    th_mass = JPsi_mass + Phi_mass\n",
    "\n",
    "    pullpad = TPad(\"pullpad\",\"pullpad\",0.0,0.05,1.0,0.33)\n",
    "    plotpad = TPad(\"histopad\",\"histopad\",0.0,0.35,1.0,1.0)\n",
    "    plotpad.SetFillStyle(4004)\n",
    "    pullpad.SetFillStyle(4004)\n",
    "    plotpad.Draw()\n",
    "    pullpad.Draw()\n",
    "\n",
    "    massFrame = mass.frame()\n",
    "    massFrame.SetTitle(\"Phi signal - CC - NonPrompt\")\n",
    "    dh.plotOn(massFrame,Name(\"Data\"))\n",
    "    tot.plotOn(massFrame,Name(\"Pdf\"))\n",
    "    massFrame.GetYaxis().SetTitleOffset(1.3)\n",
    "    #gauss.plotOn(massFrame,LineColor(kGreen),LineStyle(kDashed),Normalization((sFrac.getValV()*numEvts)/(numEvts)))\n",
    "    #cheb.plotOn(massFrame,LineColor(kMagenta),LineStyle(kDotted),Normalization(((1.0-sFrac.getValV())*numEvts)/(numEvts)))\n",
    "    signal.plotOn(massFrame,LineColor(kGreen),LineStyle(kDashed),Normalization((nSig.getValV())/(numEvts)))\n",
    "    cheb.plotOn(massFrame,LineColor(kGreen),LineStyle(kDashed),Normalization((nBkg.getValV())/(numEvts)))\n",
    "    if param:\n",
    "        tot.paramOn(massFrame,Layout(0.60,0.99,0.75))\n",
    "    plotpad.cd()\n",
    "    massFrame.Draw()\n",
    "\n",
    "    linelow = TLine(leftlowside,0.0,leftlowside,plotmax)\n",
    "    linemidlow = TLine(leftupside,0.0,leftupside,plotmax)\n",
    "    linemidup = TLine(rightlowside,0.0,rightlowside,plotmax)\n",
    "    lineup = TLine(rightupside,0.0,rightupside,plotmax)\n",
    "\n",
    "    linesiglow = TLine(signallow,0.0,signallow,plotmax)\n",
    "    linesigup = TLine(signalup,0.0,signalup,plotmax)\n",
    "\n",
    "    linelow.SetLineColor(kRed)\n",
    "    linemidlow.SetLineColor(kRed)\n",
    "    linemidup.SetLineColor(kRed)\n",
    "    lineup.SetLineColor(kRed)\n",
    "\n",
    "    linesiglow.SetLineColor(kGreen)\n",
    "    linesigup.SetLineColor(kGreen) \n",
    "\n",
    "    linelow.SetLineWidth(2)\n",
    "    linemidlow.SetLineWidth(2)\n",
    "    linemidup.SetLineWidth(2)\n",
    "    lineup.SetLineWidth(2)\n",
    "\n",
    "    linesiglow.SetLineWidth(2)\n",
    "    linesigup.SetLineWidth(2) \n",
    "    \n",
    "    if not param:\n",
    "        linelow.Draw()\n",
    "        linemidlow.Draw()\n",
    "        linemidup.Draw()\n",
    "        lineup.Draw()\n",
    "\n",
    "        linesiglow.Draw()\n",
    "        linesigup.Draw()\n",
    "\n",
    "\n",
    "    hpull = massFrame.pullHist(\"Data\",\"Pdf\")\n",
    "    pullframe = mass.frame(Title(\"Pull Distribution\"))\n",
    "    #pullframe.GetXaxis().SetTitleSize(0.04)\n",
    "    #pullframe.GetYaxis().SetTitleSize(0.03)\n",
    "    ROOT.gStyle.SetTitleFontSize(0.07)\n",
    "    pullpad.cd()\n",
    "\n",
    "    pullframe.addPlotable(hpull,\"P\")\n",
    "    pullframe.Draw()\n",
    "    upLine = TLine(massmin,3.0,massmax,3.0)\n",
    "    upLine.SetLineColor(kRed)\n",
    "    upLine.SetLineStyle(kDashed)\n",
    "    upLine.SetLineWidth(2)\n",
    "    dwLine = TLine(massmin,-3.0,massmax,-3.0)\n",
    "    dwLine.SetLineColor(kRed)\n",
    "    dwLine.SetLineStyle(kDashed)\n",
    "    dwLine.SetLineWidth(2)\n",
    "    dwLine.Draw()\n",
    "    upLine.Draw()\n",
    "    plotname = \"plots/phi_\" \n",
    "    \n",
    "    if param:\n",
    "        plotname += \"paramon_\"\n",
    "        \n",
    "    plotname += histname\n",
    "    cmass.SaveAs(plotname  + \".png\")\n",
    "    #cmass.SaveAs(plotname  + \".eps\")\n",
    "    cmass.SaveAs(plotname  + \".pdf\")"
   ]
  },
  {
   "cell_type": "code",
   "execution_count": 13,
   "metadata": {},
   "outputs": [
    {
     "name": "stdout",
     "output_type": "stream",
     "text": [
      "[#1] INFO:Eval -- RooRealVar::setRange(mass) new range named 'signalrange' created with bounds [1.00683,1.03235]\n",
      "[#1] INFO:Eval -- RooRealVar::setRange(mass) new range named 'sideleftrange' created with bounds [0.994071,1.00258]\n",
      "[#1] INFO:Eval -- RooRealVar::setRange(mass) new range named 'siderightrange' created with bounds [1.0366,1.04511]\n"
     ]
    }
   ],
   "source": [
    "mass.setRange(\"signalrange\",signallow,signalup)\n",
    "mass.setRange(\"sideleftrange\",leftlowside,leftupside)\n",
    "mass.setRange(\"siderightrange\",rightlowside,rightupside)\n",
    "signalIntegralBkg = cheb.analyticalIntegral(cheb.getAnalyticalIntegral(RooArgSet(mass),RooArgSet(mass)),\"signalrange\")\n",
    "leftsideIntegralBkg = cheb.analyticalIntegral(cheb.getAnalyticalIntegral(RooArgSet(mass),RooArgSet(mass)),\"sideleftrange\")\n",
    "rightsideIntegralBkg = cheb.analyticalIntegral(cheb.getAnalyticalIntegral(RooArgSet(mass),RooArgSet(mass)),\"siderightrange\")"
   ]
  },
  {
   "cell_type": "code",
   "execution_count": 14,
   "metadata": {},
   "outputs": [
    {
     "name": "stdout",
     "output_type": "stream",
     "text": [
      "0.444662371894\n"
     ]
    }
   ],
   "source": [
    "totIntegralBkg = cheb.analyticalIntegral(cheb.getAnalyticalIntegral(RooArgSet(mass),RooArgSet(mass)))\n",
    "print signalIntegralBkg/totIntegralBkg"
   ]
  },
  {
   "cell_type": "code",
   "execution_count": 15,
   "metadata": {
    "collapsed": true
   },
   "outputs": [],
   "source": [
    "#sigBkgEvts = signalIntegralBkg/totIntegralBkg*((1.0-sFrac.getValV())*numEvts)\n",
    "#sidBkgEvts = (leftsideIntegralBkg+rightsideIntegralBkg)/totIntegralBkg*((1.0-sFrac.getValV())*numEvts)\n",
    "sigBkgEvts = signalIntegralBkg/totIntegralBkg*((nBkg.getValV()))\n",
    "sidBkgEvts = (leftsideIntegralBkg+rightsideIntegralBkg)/totIntegralBkg*((nBkg.getValV()))"
   ]
  },
  {
   "cell_type": "code",
   "execution_count": 16,
   "metadata": {},
   "outputs": [
    {
     "name": "stdout",
     "output_type": "stream",
     "text": [
      "81613.7170948\n"
     ]
    }
   ],
   "source": [
    "print sigBkgEvts"
   ]
  },
  {
   "cell_type": "code",
   "execution_count": 17,
   "metadata": {},
   "outputs": [
    {
     "name": "stdout",
     "output_type": "stream",
     "text": [
      "50088.0502348\n"
     ]
    }
   ],
   "source": [
    "print sidBkgEvts"
   ]
  },
  {
   "cell_type": "code",
   "execution_count": 18,
   "metadata": {},
   "outputs": [
    {
     "name": "stdout",
     "output_type": "stream",
     "text": [
      "1.62940495212\n"
     ]
    }
   ],
   "source": [
    "ratio = sigBkgEvts/sidBkgEvts\n",
    "print ratio"
   ]
  },
  {
   "cell_type": "code",
   "execution_count": 3,
   "metadata": {
    "collapsed": true
   },
   "outputs": [],
   "source": [
    "theRatio = 1.62940495212 #inputfile.ls()"
   ]
  },
  {
   "cell_type": "code",
   "execution_count": 4,
   "metadata": {},
   "outputs": [
    {
     "name": "stdout",
     "output_type": "stream",
     "text": [
      "33962.0\n",
      "17272.0\n",
      "135371.0\n"
     ]
    }
   ],
   "source": [
    "siderootfile = \"../rootfiles/X4140_Base_AllDatasets.root\"\n",
    "sidefile  = TFile(siderootfile,\"READ\")\n",
    "signalCW = sidefile.Get(\"CW_Mass_Signal_NoM\")\n",
    "sideCW_L = sidefile.Get(\"CW_Mass_L_Side_NoM\")\n",
    "sideCW_R = sidefile.Get(\"CW_Mass_R_Side_NoM\")\n",
    "print sideCW_R.GetEntries()\n",
    "print sideCW_L.GetEntries()\n",
    "print signalCW.GetEntries()\n",
    "notrebin = True"
   ]
  },
  {
   "cell_type": "code",
   "execution_count": 5,
   "metadata": {
    "collapsed": true
   },
   "outputs": [],
   "source": [
    "if notrebin:\n",
    "    signalCW.Rebin(10)\n",
    "    sideCW_L.Rebin(10)\n",
    "    sideCW_R.Rebin(10)\n",
    "    notrebin = False"
   ]
  },
  {
   "cell_type": "code",
   "execution_count": 6,
   "metadata": {
    "collapsed": true
   },
   "outputs": [],
   "source": [
    "sideCW_L.Scale(theRatio)\n",
    "sideCW_R.Scale(theRatio)"
   ]
  },
  {
   "cell_type": "code",
   "execution_count": 7,
   "metadata": {},
   "outputs": [
    {
     "name": "stderr",
     "output_type": "stream",
     "text": [
      "Info in <TCanvas::Print>: png file plots/B_{0}^{s} Candidates Mass - CC_sidebands.png has been created\n"
     ]
    }
   ],
   "source": [
    "cB0 = TCanvas(\"cB0\",\"cB0\",1200,800)\n",
    "signalCW.SetFillColor(kBlue)\n",
    "signalCW.SetName(\"B_{0}^{s} Candidates Mass - CC\")\n",
    "signalCW.SetTitle(\"B_{0}^{s} Candidates Mass - CC; M(KK#mu#mu)[GeV]; candidates/\" + str(signalCW.GetBinWidth(2)*1000)+ \"MeV\")\n",
    "signalCW.GetYaxis().SetTitleOffset(1.3)\n",
    "signalCW.SetMarkerColor(kBlue)\n",
    "signalCW.SetFillStyle(3002)\n",
    "signalCW.SetMarkerStyle(ROOT.kFullCircle)\n",
    "signalCW.SetMarkerSize(0.5)\n",
    "signalCW.SetLineColor(kBlue)\n",
    "\n",
    "sideCW_L.SetFillColor(kRed)\n",
    "#sideCW_L.SetMarkerColor(kBlack)\n",
    "sideCW_L.SetFillStyle(3002)\n",
    "sideCW_L.SetMarkerStyle(ROOT.kFullCircle)\n",
    "sideCW_L.SetMarkerSize(0.5)\n",
    "sideCW_L.SetLineColor(kBlack)\n",
    "\n",
    "sideCW_R.SetFillColor(kGreen)\n",
    "#sideCW_R.SetMarkerColor(kBlack)\n",
    "sideCW_R.SetMarkerStyle(ROOT.kFullCircle)\n",
    "sideCW_R.SetMarkerSize(0.5)\n",
    "sideCW_R.SetLineColor(kBlack)\n",
    "sideCW_R.SetFillStyle(3002)\n",
    "\n",
    "signalCW.Draw(\"EBar\")\n",
    "#sideCW = sideCW_L.Clone()\n",
    "#sideCW.Add(sideCW_R,+1.0)\n",
    "#sideCW.SetFillColor(kRed)\n",
    "#sideCW.SetFillStyle(3002)\n",
    "#sideCW.Scale(2.0)\n",
    "#sideCW.Draw(\"SAMEBar\")\n",
    "sideCW_R.Draw(\"E0SAMEBar\")\n",
    "sideCW_L.Draw(\"E0SAMEBar\")\n",
    "\n",
    "legend = TLegend(0.75,0.45,0.99,0.75)\n",
    "legend.AddEntry(signalCW,\"Signal region (-3.0#sigma,+3.0#sigma)\",\"f\")\n",
    "legend.AddEntry(sideCW_R,\"R-sideband    (+4.0#sigma,+6.0#sigma)\",\"f\")\n",
    "legend.AddEntry(sideCW_L,\"L-sideband    (-6.0#sigma,-4.0#sigma)\",\"f\")\n",
    "legend.Draw()\n",
    "cB0.SaveAs(\"plots/\" + signalCW.GetName() + \"_sidebands.png\")"
   ]
  },
  {
   "cell_type": "code",
   "execution_count": 8,
   "metadata": {},
   "outputs": [
    {
     "data": {
      "text/plain": [
       "True"
      ]
     },
     "execution_count": 8,
     "metadata": {},
     "output_type": "execute_result"
    }
   ],
   "source": [
    "ROOT.gStyle.SetOptStat(0)\n",
    "b0SideSub = signalCW.Clone()\n",
    "b0SideSub.SetTitle(\"B_{0}^{s} Mass - #phi sides subtracted; M(KK#mu#mu)[GeV]; candidates/\" + str(signalCW.GetBinWidth(2)*1000)+ \"MeV\")\n",
    "b0SideSub.Add(sideCW_L,-1.0)\n",
    "b0SideSub.Add(sideCW_R,-1.0)"
   ]
  },
  {
   "cell_type": "code",
   "execution_count": 9,
   "metadata": {},
   "outputs": [
    {
     "name": "stderr",
     "output_type": "stream",
     "text": [
      "Info in <TCanvas::Print>: png file plots/B_{0}^{s} Candidates Mass - CC_subtracted.png has been created\n"
     ]
    }
   ],
   "source": [
    "b0SideSub.SetFillColor(4004)\n",
    "b0SideSub.SetFillStyle(3002)\n",
    "b0SideSub.SetMarkerStyle(ROOT.kFullCircle)\n",
    "b0SideSub.SetMarkerColor(kBlack)\n",
    "b0SideSub.SetMarkerSize(0.8)\n",
    "b0SideSub.SetLineColor(kBlack)\n",
    "b0SideSub.Draw(\"E0\")\n",
    "\n",
    "linezero = TLine(b0SideSub.GetBinCenter(1),0.0,b0SideSub.GetBinCenter(b0SideSub.GetNbinsX()),0.0)\n",
    "linezero.SetLineColor(kRed)\n",
    "linezero.SetLineWidth(2)\n",
    "linezero.SetLineStyle(kDotted)\n",
    "linezero.Draw()\n",
    "cB0.SaveAs(\"plots/\" + signalCW.GetName() + \"_subtracted.png\")"
   ]
  },
  {
   "cell_type": "code",
   "execution_count": 11,
   "metadata": {},
   "outputs": [
    {
     "ename": "NameError",
     "evalue": "name 'c' is not defined",
     "output_type": "error",
     "traceback": [
      "\u001b[0;31m\u001b[0m",
      "\u001b[0;31mNameError\u001b[0mTraceback (most recent call last)",
      "\u001b[0;32m<ipython-input-11-b495903df3e2>\u001b[0m in \u001b[0;36m<module>\u001b[0;34m()\u001b[0m\n\u001b[1;32m     47\u001b[0m \u001b[0;34m\u001b[0m\u001b[0m\n\u001b[1;32m     48\u001b[0m \u001b[0mplotname\u001b[0m \u001b[0;34m=\u001b[0m \u001b[0;34m\"b0test_param_\"\u001b[0m \u001b[0;34m+\u001b[0m \u001b[0mhistname\u001b[0m\u001b[0;34m\u001b[0m\u001b[0m\n\u001b[0;32m---> 49\u001b[0;31m \u001b[0mc\u001b[0m\u001b[0;34m.\u001b[0m\u001b[0mSaveAs\u001b[0m\u001b[0;34m(\u001b[0m\u001b[0mplotname\u001b[0m  \u001b[0;34m+\u001b[0m \u001b[0;34m\".png\"\u001b[0m\u001b[0;34m)\u001b[0m\u001b[0;34m\u001b[0m\u001b[0m\n\u001b[0m\u001b[1;32m     50\u001b[0m \u001b[0mc\u001b[0m\u001b[0;34m.\u001b[0m\u001b[0mSaveAs\u001b[0m\u001b[0;34m(\u001b[0m\u001b[0mplotname\u001b[0m  \u001b[0;34m+\u001b[0m \u001b[0;34m\".eps\"\u001b[0m\u001b[0;34m)\u001b[0m\u001b[0;34m\u001b[0m\u001b[0m\n\u001b[1;32m     51\u001b[0m \u001b[0mc\u001b[0m\u001b[0;34m.\u001b[0m\u001b[0mSaveAs\u001b[0m\u001b[0;34m(\u001b[0m\u001b[0mplotname\u001b[0m  \u001b[0;34m+\u001b[0m \u001b[0;34m\".pdf\"\u001b[0m\u001b[0;34m)\u001b[0m\u001b[0;34m\u001b[0m\u001b[0m\n",
      "\u001b[0;31mNameError\u001b[0m: name 'c' is not defined"
     ]
    },
    {
     "name": "stdout",
     "output_type": "stream",
     "text": [
      "[#1] INFO:DataHandling -- RooDataHist::adjustBinning(dh): fit range of variable mass expanded to nearest bin boundaries: [5.2,5.55] --> [5.2,5.55]\n",
      "[#0] WARNING:InputArguments -- RooAbsPdf::fitTo(tot) WARNING: a likelihood fit is request of what appears to be weighted data. \n",
      "       While the estimated values of the parameters will always be calculated taking the weights into account, \n",
      "       there are multiple ways to estimate the errors on these parameter values. You are advised to make an \n",
      "       explicit choice on the error calculation: \n",
      "           - Either provide SumW2Error(kTRUE), to calculate a sum-of-weights corrected HESSE error matrix \n",
      "             (error will be proportional to the number of events)\n",
      "           - Or provide SumW2Error(kFALSE), to return errors from original HESSE error matrix\n",
      "             (which will be proportional to the sum of the weights)\n",
      "       If you want the errors to reflect the information contained in the provided dataset, choose kTRUE. \n",
      "       If you want the errors to reflect the precision you would be able to obtain with an unweighted dataset \n",
      "       with 'sum-of-weights' events, choose kFALSE.\n",
      "[#1] INFO:Minization -- p.d.f. provides expected number of events, including extended term in likelihood.\n",
      "[#1] INFO:Minization -- RooMinimizer::optimizeConst: activating const optimization\n",
      "[#1] INFO:Minization --  The following expressions will be evaluated in cache-and-track mode: (gauss1,gauss2,cheb)\n",
      " **********\n",
      " **   10 **SET PRINT           1\n",
      " **********\n",
      " **********\n",
      " **   11 **SET NOGRAD\n",
      " **********\n",
      " PARAMETER DEFINITIONS:\n",
      "    NO.   NAME         VALUE      STEP SIZE      LIMITS\n",
      "     1 a0           1.00000e-03  2.00000e-01   -1.00000e+00  1.00000e+00\n",
      "     2 a1           1.00000e-03  1.00000e-01   -5.00000e-01  5.00000e-01\n",
      "     3 mean         5.38000e+00  1.00000e-02    5.31000e+00  5.41000e+00\n",
      "     4 nBkg         5.50000e+04  2.75000e+04    0.00000e+00  1.00000e+07\n",
      "     5 nSig         5.50000e+04  2.75000e+04    0.00000e+00  1.00000e+07\n",
      "     6 sig1frac     3.00000e-01  1.00000e-01    0.00000e+00  1.00000e+00\n",
      "     7 sigma1       2.00000e-03  7.50000e-04    5.00000e-04  5.00000e-02\n",
      "     8 sigma2       4.00000e-03  6.00000e-04    4.00000e-03  1.00000e-02\n",
      " MINUIT WARNING IN PARAM DEF\n",
      " ============== STARTING VALUE IS AT LIMIT.\n",
      " MINUIT WARNING IN PARAMETR\n",
      " ============== VARIABLE8 IS AT ITS LOWER ALLOWED LIMIT.\n",
      " MINUIT WARNING IN PARAMETR\n",
      " ============== VARIABLE8 BROUGHT BACK INSIDE LIMITS.\n",
      " **********\n",
      " **   12 **SET ERR         0.5\n",
      " **********\n",
      " **********\n",
      " **   13 **SET PRINT           1\n",
      " **********\n",
      " **********\n",
      " **   14 **SET STR           1\n",
      " **********\n",
      " NOW USING STRATEGY  1: TRY TO BALANCE SPEED AGAINST RELIABILITY\n",
      " **********\n",
      " **   15 **MIGRAD        4000           1\n",
      " **********\n",
      " FIRST CALL TO USER FUNCTION AT NEW START POINT, WITH IFLAG=4.\n",
      " MINUIT WARNING IN MIGrad    \n",
      " ============== VARIABLE8 IS AT ITS LOWER ALLOWED LIMIT.\n",
      " START MIGRAD MINIMIZATION.  STRATEGY  1.  CONVERGENCE WHEN EDM .LT. 1.00e-03\n",
      " FCN=-609300 FROM MIGRAD    STATUS=INITIATE      122 CALLS         123 TOTAL\n",
      "                     EDM= unknown      STRATEGY= 1      NO ERROR MATRIX       \n",
      "  EXT PARAMETER               CURRENT GUESS       STEP         FIRST   \n",
      "  NO.   NAME      VALUE            ERROR          SIZE      DERIVATIVE \n",
      "   1  a0           1.00000e-03   2.00000e-01   0.00000e+00   1.25688e+03\n",
      "   2  a1           1.00000e-03   1.00000e-01   0.00000e+00   3.06272e+03\n",
      "   3  mean         5.36655e+00   1.00000e-02   0.00000e+00   2.34571e+03\n",
      "   4  nBkg         5.50000e+04   2.75000e+04   0.00000e+00   5.94216e+05\n",
      "   5  nSig         5.50000e+04   2.75000e+04   0.00000e+00   1.91001e+05\n",
      "   6  sig1frac     3.00000e-01   1.00000e-01   0.00000e+00   2.06787e+02\n",
      "   7  sigma1       1.60878e-02   7.50000e-04   0.00000e+00   1.68675e+03\n",
      "   8  sigma2       8.76405e-03   6.00000e-04   2.19745e+00  -6.37027e+01\n",
      "                               ERR DEF= 0.5\n",
      "[#0] WARNING:Minization -- RooMinimizerFcn: Minimized function has error status.\n",
      "Returning maximum FCN so far (-533479) to force MIGRAD to back out of this region. Error log follows\n",
      "Parameter values: a0=-0.832976, a1=-0.488239, mean=5.3664, nBkg=6286.45, nSig=40998.8, sig1frac=0.275805, sigma1=0.0142045, sigma2=0.00884269\n",
      "RooChebychev::cheb[ x=mass coefList=(a0,a1) ]\n",
      "     p.d.f value is less than zero (-0.052387), forcing value to zero @ x=mass=5.5325, coefList=(a0 = -0.832976,a1 = -0.488239)\n",
      "     p.d.f value is less than zero (-0.127202), forcing value to zero @ x=mass=5.5375, coefList=(a0 = -0.832976,a1 = -0.488239)\n",
      "     p.d.f value is less than zero (-0.203612), forcing value to zero @ x=mass=5.5425, coefList=(a0 = -0.832976,a1 = -0.488239)\n",
      "     p.d.f value is less than zero (-0.281615), forcing value to zero @ x=mass=5.5475, coefList=(a0 = -0.832976,a1 = -0.488239)\n",
      "\n",
      "[#0] WARNING:Minization -- RooMinimizerFcn: Minimized function has error status.\n",
      "Returning maximum FCN so far (323834) to force MIGRAD to back out of this region. Error log follows\n",
      "Parameter values: a0=-0.839429, a1=-0.367336, mean=5.36648, nBkg=26516.2, nSig=48276.4, sig1frac=0.288745, sigma1=0.0152089, sigma2=0.00880063\n",
      "RooChebychev::cheb[ x=mass coefList=(a0,a1) ]\n",
      "     p.d.f value is less than zero (-0.045601), forcing value to zero @ x=mass=5.5375, coefList=(a0 = -0.839429,a1 = -0.367336)\n",
      "     p.d.f value is less than zero (-0.109167), forcing value to zero @ x=mass=5.5425, coefList=(a0 = -0.839429,a1 = -0.367336)\n",
      "     p.d.f value is less than zero (-0.173932), forcing value to zero @ x=mass=5.5475, coefList=(a0 = -0.839429,a1 = -0.367336)\n",
      "\n",
      "[#0] WARNING:Minization -- RooMinimizerFcn: Minimized function has error status.\n",
      "Returning maximum FCN so far (323834) to force MIGRAD to back out of this region. Error log follows\n",
      "Parameter values: a0=-0.967294, a1=-0.499208, mean=5.36642, nBkg=10616.5, nSig=43006.6, sig1frac=0.279464, sigma1=0.0144877, sigma2=0.00883079\n",
      "RooChebychev::cheb[ x=mass coefList=(a0,a1) ]\n",
      "     p.d.f value is less than zero (-0.025365), forcing value to zero @ x=mass=5.5225, coefList=(a0 = -0.967294,a1 = -0.499208)\n",
      "     p.d.f value is less than zero (-0.101904), forcing value to zero @ x=mass=5.5275, coefList=(a0 = -0.967294,a1 = -0.499208)\n",
      "     p.d.f value is less than zero (-0.180073), forcing value to zero @ x=mass=5.5325, coefList=(a0 = -0.967294,a1 = -0.499208)\n",
      "     p.d.f value is less than zero (-0.259872), forcing value to zero @ x=mass=5.5375, coefList=(a0 = -0.967294,a1 = -0.499208)\n",
      "     p.d.f value is less than zero (-0.341301), forcing value to zero @ x=mass=5.5425, coefList=(a0 = -0.967294,a1 = -0.499208)\n",
      "     p.d.f value is less than zero (-0.424361), forcing value to zero @ x=mass=5.5475, coefList=(a0 = -0.967294,a1 = -0.499208)\n",
      "\n",
      "[#0] WARNING:Minization -- RooMinimizerFcn: Minimized function has error status.\n",
      "Returning maximum FCN so far (323834) to force MIGRAD to back out of this region. Error log follows\n",
      "Parameter values: a0=-0.815761, a1=-0.331049, mean=5.36628, nBkg=1275.51, nSig=44647.8, sig1frac=0.750504, sigma1=0.0304389, sigma2=0.00999939\n",
      "RooChebychev::cheb[ x=mass coefList=(a0,a1) ]\n",
      "     p.d.f value is less than zero (-0.056314), forcing value to zero @ x=mass=5.5425, coefList=(a0 = -0.815761,a1 = -0.331049)\n",
      "     p.d.f value is less than zero (-0.116374), forcing value to zero @ x=mass=5.5475, coefList=(a0 = -0.815761,a1 = -0.331049)\n",
      "\n",
      "[#0] WARNING:Minization -- RooMinimizerFcn: Minimized function has error status.\n",
      "Returning maximum FCN so far (323834) to force MIGRAD to back out of this region. Error log follows\n",
      "Parameter values: a0=-0.999477, a1=-0.343237, mean=5.36613, nBkg=383.641, nSig=52595.8, sig1frac=0.843141, sigma1=0.0278768, sigma2=0.0075593\n",
      "RooChebychev::cheb[ x=mass coefList=(a0,a1) ]\n",
      "     p.d.f value is less than zero (-0.049036), forcing value to zero @ x=mass=5.5275, coefList=(a0 = -0.999477,a1 = -0.343237)\n",
      "     p.d.f value is less than zero (-0.112336), forcing value to zero @ x=mass=5.5325, coefList=(a0 = -0.999477,a1 = -0.343237)\n",
      "     p.d.f value is less than zero (-0.176758), forcing value to zero @ x=mass=5.5375, coefList=(a0 = -0.999477,a1 = -0.343237)\n",
      "     p.d.f value is less than zero (-0.242300), forcing value to zero @ x=mass=5.5425, coefList=(a0 = -0.999477,a1 = -0.343237)\n",
      "     p.d.f value is less than zero (-0.308962), forcing value to zero @ x=mass=5.5475, coefList=(a0 = -0.999477,a1 = -0.343237)\n",
      "\n",
      "[#0] WARNING:Minization -- RooMinimizerFcn: Minimized function has error status.\n",
      "Returning maximum FCN so far (323834) to force MIGRAD to back out of this region. Error log follows\n",
      "Parameter values: a0=-0.991361, a1=-0.378914, mean=5.36624, nBkg=712.933, nSig=44641.1, sig1frac=0.615719, sigma1=0.0211866, sigma2=0.00791044\n",
      "RooChebychev::cheb[ x=mass coefList=(a0,a1) ]\n",
      "     p.d.f value is less than zero (-0.060471), forcing value to zero @ x=mass=5.5275, coefList=(a0 = -0.991361,a1 = -0.378914)\n",
      "     p.d.f value is less than zero (-0.127152), forcing value to zero @ x=mass=5.5325, coefList=(a0 = -0.991361,a1 = -0.378914)\n",
      "     p.d.f value is less than zero (-0.195069), forcing value to zero @ x=mass=5.5375, coefList=(a0 = -0.991361,a1 = -0.378914)\n",
      "     p.d.f value is less than zero (-0.264223), forcing value to zero @ x=mass=5.5425, coefList=(a0 = -0.991361,a1 = -0.378914)\n",
      "     p.d.f value is less than zero (-0.334615), forcing value to zero @ x=mass=5.5475, coefList=(a0 = -0.991361,a1 = -0.378914)\n",
      "\n",
      "[#0] WARNING:Minization -- RooMinimizerFcn: Minimized function has error status.\n",
      "Returning maximum FCN so far (323834) to force MIGRAD to back out of this region. Error log follows\n",
      "Parameter values: a0=-0.657499, a1=-0.408759, mean=5.36567, nBkg=1899.54, nSig=80687.4, sig1frac=0.539274, sigma1=0.0469081, sigma2=0.00400402\n",
      "RooChebychev::cheb[ x=mass coefList=(a0,a1) ]\n",
      "     p.d.f value is less than zero (-0.033674), forcing value to zero @ x=mass=5.5475, coefList=(a0 = -0.657499,a1 = -0.408759)\n",
      "\n",
      "[#0] WARNING:Minization -- RooMinimizerFcn: Minimized function has error status.\n",
      "Returning maximum FCN so far (323834) to force MIGRAD to back out of this region. Error log follows\n",
      "Parameter values: a0=-0.847165, a1=-0.3971, mean=5.36631, nBkg=1346.1, nSig=41010.5, sig1frac=0.416417, sigma1=0.0171534, sigma2=0.00859429\n",
      "RooChebychev::cheb[ x=mass coefList=(a0,a1) ]\n",
      "     p.d.f value is less than zero (-0.008650), forcing value to zero @ x=mass=5.5325, coefList=(a0 = -0.847165,a1 = -0.3971)\n",
      "     p.d.f value is less than zero (-0.074348), forcing value to zero @ x=mass=5.5375, coefList=(a0 = -0.847165,a1 = -0.3971)\n",
      "     p.d.f value is less than zero (-0.141342), forcing value to zero @ x=mass=5.5425, coefList=(a0 = -0.847165,a1 = -0.3971)\n",
      "     p.d.f value is less than zero (-0.209633), forcing value to zero @ x=mass=5.5475, coefList=(a0 = -0.847165,a1 = -0.3971)\n",
      "\n",
      " MINUIT WARNING IN MIGRAD  \n",
      " ============== Negative diagonal element 1 in Error Matrix\n",
      " MINUIT WARNING IN MIGRAD  \n",
      " ============== 1.00042 added to diagonal of error matrix\n",
      "[#0] WARNING:Minization -- RooMinimizerFcn: Minimized function has error status.\n",
      "Returning maximum FCN so far (323834) to force MIGRAD to back out of this region. Error log follows\n",
      "Parameter values: a0=0.99983, a1=-0.498873, mean=5.37604, nBkg=7.81009e+06, nSig=4.9081e+06, sig1frac=0.894967, sigma1=0.0422629, sigma2=0.00420864\n",
      "RooChebychev::cheb[ x=mass coefList=(a0,a1) ]\n",
      "     p.d.f value is less than zero (-0.456117), forcing value to zero @ x=mass=5.2025, coefList=(a0 = 0.99983,a1 = -0.498873)\n",
      "     p.d.f value is less than zero (-0.372165), forcing value to zero @ x=mass=5.2075, coefList=(a0 = 0.99983,a1 = -0.498873)\n",
      "     p.d.f value is less than zero (-0.289843), forcing value to zero @ x=mass=5.2125, coefList=(a0 = 0.99983,a1 = -0.498873)\n",
      "     p.d.f value is less than zero (-0.209149), forcing value to zero @ x=mass=5.2175, coefList=(a0 = 0.99983,a1 = -0.498873)\n",
      "     p.d.f value is less than zero (-0.130084), forcing value to zero @ x=mass=5.2225, coefList=(a0 = 0.99983,a1 = -0.498873)\n",
      "     p.d.f value is less than zero (-0.052648), forcing value to zero @ x=mass=5.2275, coefList=(a0 = 0.99983,a1 = -0.498873)\n",
      "\n",
      "[#0] WARNING:Minization -- RooMinimizerFcn: Minimized function has error status.\n",
      "Returning maximum FCN so far (1.45315e+07) to force MIGRAD to back out of this region. Error log follows\n",
      "Parameter values: a0=0.989727, a1=-0.499817, mean=5.41, nBkg=640304, nSig=7.4099e+06, sig1frac=0.884462, sigma1=0.00460704, sigma2=0.00567945\n",
      "RooChebychev::cheb[ x=mass coefList=(a0,a1) ]\n",
      "     p.d.f value is less than zero (-0.447048), forcing value to zero @ x=mass=5.2025, coefList=(a0 = 0.989727,a1 = -0.499817)\n",
      "     p.d.f value is less than zero (-0.363280), forcing value to zero @ x=mass=5.2075, coefList=(a0 = 0.989727,a1 = -0.499817)\n",
      "     p.d.f value is less than zero (-0.281145), forcing value to zero @ x=mass=5.2125, coefList=(a0 = 0.989727,a1 = -0.499817)\n",
      "     p.d.f value is less than zero (-0.200641), forcing value to zero @ x=mass=5.2175, coefList=(a0 = 0.989727,a1 = -0.499817)\n",
      "     p.d.f value is less than zero (-0.121769), forcing value to zero @ x=mass=5.2225, coefList=(a0 = 0.989727,a1 = -0.499817)\n",
      "     p.d.f value is less than zero (-0.044530), forcing value to zero @ x=mass=5.2275, coefList=(a0 = 0.989727,a1 = -0.499817)\n",
      "\n",
      "[#0] WARNING:Minization -- RooMinimizerFcn: Minimized function has error status.\n",
      "Returning maximum FCN so far (1.45315e+07) to force MIGRAD to back out of this region. Error log follows\n",
      "Parameter values: a0=-0.977227, a1=-0.327465, mean=5.37299, nBkg=2.93369e+06, nSig=7.01765e+06, sig1frac=0.715727, sigma1=0.0123655, sigma2=0.00998924\n",
      "RooChebychev::cheb[ x=mass coefList=(a0,a1) ]\n",
      "     p.d.f value is less than zero (-0.021464), forcing value to zero @ x=mass=5.5275, coefList=(a0 = -0.977227,a1 = -0.327465)\n",
      "     p.d.f value is less than zero (-0.082532), forcing value to zero @ x=mass=5.5325, coefList=(a0 = -0.977227,a1 = -0.327465)\n",
      "     p.d.f value is less than zero (-0.144670), forcing value to zero @ x=mass=5.5375, coefList=(a0 = -0.977227,a1 = -0.327465)\n",
      "     p.d.f value is less than zero (-0.207877), forcing value to zero @ x=mass=5.5425, coefList=(a0 = -0.977227,a1 = -0.327465)\n",
      "     p.d.f value is less than zero (-0.272153), forcing value to zero @ x=mass=5.5475, coefList=(a0 = -0.977227,a1 = -0.327465)\n",
      "\n",
      "[#0] WARNING:Minization -- RooMinimizerFcn: Minimized function has error status.\n",
      "Returning maximum FCN so far (1.45315e+07) to force MIGRAD to back out of this region. Error log follows\n",
      "Parameter values: a0=-0.707589, a1=-0.497474, mean=5.31805, nBkg=6.06147e+06, nSig=1.68779e+06, sig1frac=0.864204, sigma1=0.0410505, sigma2=0.00851284\n",
      "RooChebychev::cheb[ x=mass coefList=(a0,a1) ]\n",
      "     p.d.f value is less than zero (-0.017462), forcing value to zero @ x=mass=5.5375, coefList=(a0 = -0.707589,a1 = -0.497474)\n",
      "     p.d.f value is less than zero (-0.091284), forcing value to zero @ x=mass=5.5425, coefList=(a0 = -0.707589,a1 = -0.497474)\n",
      "     p.d.f value is less than zero (-0.166731), forcing value to zero @ x=mass=5.5475, coefList=(a0 = -0.707589,a1 = -0.497474)\n",
      "\n",
      "[#0] WARNING:Minization -- RooMinimizerFcn: Minimized function has error status.\n",
      "Returning maximum FCN so far (1.45315e+07) to force MIGRAD to back out of this region. Error log follows\n",
      "Parameter values: a0=-0.999182, a1=-0.325051, mean=5.36605, nBkg=1577.51, nSig=51891.7, sig1frac=0.687545, sigma1=0.0155456, sigma2=0.00975109\n",
      "RooChebychev::cheb[ x=mass coefList=(a0,a1) ]\n",
      "     p.d.f value is less than zero (-0.039344), forcing value to zero @ x=mass=5.5275, coefList=(a0 = -0.999182,a1 = -0.325051)\n",
      "     p.d.f value is less than zero (-0.100795), forcing value to zero @ x=mass=5.5325, coefList=(a0 = -0.999182,a1 = -0.325051)\n",
      "     p.d.f value is less than zero (-0.163308), forcing value to zero @ x=mass=5.5375, coefList=(a0 = -0.999182,a1 = -0.325051)\n",
      "     p.d.f value is less than zero (-0.226882), forcing value to zero @ x=mass=5.5425, coefList=(a0 = -0.999182,a1 = -0.325051)\n",
      "     p.d.f value is less than zero (-0.291517), forcing value to zero @ x=mass=5.5475, coefList=(a0 = -0.999182,a1 = -0.325051)\n",
      "\n",
      "[#0] WARNING:Minization -- RooMinimizerFcn: Minimized function has error status.\n",
      "Returning maximum FCN so far (1.45315e+07) to force MIGRAD to back out of this region. Error log follows\n",
      "Parameter values: a0=-0.912614, a1=-0.250606, mean=5.37766, nBkg=5479.44, nSig=41847.7, sig1frac=0.118593, sigma1=0.0468217, sigma2=0.00783273\n",
      "RooChebychev::cheb[ x=mass coefList=(a0,a1) ]\n",
      "     p.d.f value is less than zero (-0.028989), forcing value to zero @ x=mass=5.5375, coefList=(a0 = -0.912614,a1 = -0.250606)\n",
      "     p.d.f value is less than zero (-0.082068), forcing value to zero @ x=mass=5.5425, coefList=(a0 = -0.912614,a1 = -0.250606)\n",
      "     p.d.f value is less than zero (-0.135965), forcing value to zero @ x=mass=5.5475, coefList=(a0 = -0.912614,a1 = -0.250606)\n",
      "\n",
      "[#0] WARNING:Minization -- RooMinimizerFcn: Minimized function has error status.\n",
      "Returning maximum FCN so far (1.45315e+07) to force MIGRAD to back out of this region. Error log follows\n",
      "Parameter values: a0=-0.947065, a1=-0.319161, mean=5.36616, nBkg=931.959, nSig=50184.8, sig1frac=0.398387, sigma1=0.0221107, sigma2=0.00869467\n",
      "RooChebychev::cheb[ x=mass coefList=(a0,a1) ]\n",
      "     p.d.f value is less than zero (-0.050238), forcing value to zero @ x=mass=5.5325, coefList=(a0 = -0.947065,a1 = -0.319161)\n",
      "     p.d.f value is less than zero (-0.110646), forcing value to zero @ x=mass=5.5375, coefList=(a0 = -0.947065,a1 = -0.319161)\n",
      "     p.d.f value is less than zero (-0.172096), forcing value to zero @ x=mass=5.5425, coefList=(a0 = -0.947065,a1 = -0.319161)\n",
      "     p.d.f value is less than zero (-0.234589), forcing value to zero @ x=mass=5.5475, coefList=(a0 = -0.947065,a1 = -0.319161)\n",
      "\n",
      "[#0] WARNING:Minization -- RooMinimizerFcn: Minimized function has error status.\n",
      "Returning maximum FCN so far (1.45315e+07) to force MIGRAD to back out of this region. Error log follows\n",
      "Parameter values: a0=-0.585722, a1=-0.499974, mean=5.36797, nBkg=213600, nSig=48058.3, sig1frac=0.540803, sigma1=0.0486852, sigma2=0.00407222\n",
      "RooChebychev::cheb[ x=mass coefList=(a0,a1) ]\n",
      "     p.d.f value is less than zero (-0.048962), forcing value to zero @ x=mass=5.5475, coefList=(a0 = -0.585722,a1 = -0.499974)\n",
      "\n",
      "[#0] WARNING:Minization -- RooMinimizerFcn: Minimized function has error status.\n",
      "Returning maximum FCN so far (1.45315e+07) to force MIGRAD to back out of this region. Error log follows\n",
      "Parameter values: a0=-0.927196, a1=-0.160034, mean=5.36614, nBkg=1578.66, nSig=49820.4, sig1frac=0.6902, sigma1=0.0174227, sigma2=0.00590451\n",
      "RooChebychev::cheb[ x=mass coefList=(a0,a1) ]\n",
      "     p.d.f value is less than zero (-0.020646), forcing value to zero @ x=mass=5.5425, coefList=(a0 = -0.927196,a1 = -0.160034)\n",
      "     p.d.f value is less than zero (-0.064904), forcing value to zero @ x=mass=5.5475, coefList=(a0 = -0.927196,a1 = -0.160034)\n",
      "\n",
      " EIGENVALUES OF SECOND-DERIVATIVE MATRIX:\n",
      "        -4.7903e-01  1.2283e-01  3.3268e-01  8.8807e-01  9.9500e-01  1.0619e+00  2.2544e+00  2.8241e+00\n",
      " MINUIT WARNING IN MIGRAD  \n",
      " ============== MATRIX FORCED POS-DEF BY ADDING 0.481852 TO DIAGONAL.\n",
      " MIGRAD MINIMIZATION HAS CONVERGED.\n",
      " MIGRAD WILL VERIFY CONVERGENCE AND ERROR MATRIX.\n",
      " COVARIANCE MATRIX CALCULATED SUCCESSFULLY\n",
      " FCN=-648501 FROM MIGRAD    STATUS=CONVERGED     686 CALLS         687 TOTAL\n",
      "                     EDM=0.000112085    STRATEGY= 1      ERROR MATRIX ACCURATE \n",
      "  EXT PARAMETER                                   STEP         FIRST   \n",
      "  NO.   NAME      VALUE            ERROR          SIZE      DERIVATIVE \n",
      "   1  a0          -1.00000e+00   7.99749e-04   2.22415e-02** at limit **\n",
      "   2  a1           5.00000e-01   1.99747e-03   4.97225e-02** at limit **\n",
      "   3  mean         5.36613e+00   5.93031e-05   6.63223e-04  -3.89944e+00\n",
      "   4  nBkg         7.29604e+02   3.36054e+01   2.13470e-04  -7.10844e+00\n",
      "   5  nSig         5.08760e+04   2.26442e+02   1.76712e-04  -3.36794e+00\n",
      "   6  sig1frac     4.34836e-01   1.00444e-02   4.95784e-03   9.83786e-02\n",
      "   7  sigma1       2.17303e-02   2.05148e-04   2.70535e-03  -9.39055e-03\n",
      "   8  sigma2       8.76243e-03   1.09592e-04   1.44755e-02   2.25587e-01\n",
      "                               ERR DEF= 0.5\n",
      " EXTERNAL ERROR MATRIX.    NDIM=  25    NPAR=  8    ERR DEF=0.5\n",
      "  8.373e-12  2.614e-15 -3.403e-14 -1.011e-07  1.011e-07 -1.921e-11  6.136e-13  1.650e-13 \n",
      "  2.614e-15  6.227e-12  3.747e-14  9.453e-07 -9.418e-07  3.634e-11 -1.868e-12 -3.532e-13 \n",
      " -3.403e-14  3.747e-14  3.517e-09  6.435e-05 -6.436e-05 -1.849e-08  3.813e-10  1.852e-11 \n",
      " -1.011e-07  9.453e-07  6.435e-05  1.129e+03 -4.004e+02  3.293e-02 -1.305e-03 -2.912e-04 \n",
      "  1.011e-07 -9.418e-07 -6.436e-05 -4.004e+02  5.128e+04 -3.301e-02  1.307e-03  2.918e-04 \n",
      " -1.921e-11  3.634e-11 -1.849e-08  3.293e-02 -3.301e-02  1.009e-04 -1.659e-06 -8.983e-07 \n",
      "  6.136e-13 -1.868e-12  3.813e-10 -1.305e-03  1.307e-03 -1.659e-06  4.209e-08  1.422e-08 \n",
      "  1.650e-13 -3.532e-13  1.852e-11 -2.912e-04  2.918e-04 -8.983e-07  1.422e-08  1.202e-08 \n",
      " PARAMETER  CORRELATION COEFFICIENTS  \n",
      "       NO.  GLOBAL      1      2      3      4      5      6      7      8\n",
      "        1  0.00143   1.000  0.000 -0.000 -0.001  0.000 -0.001  0.001  0.001\n",
      "        2  0.01153   0.000  1.000  0.000  0.011 -0.002  0.001 -0.004 -0.001\n",
      "        3  0.06301  -0.000  0.000  1.000  0.032 -0.005 -0.031  0.031  0.003\n",
      "        4  0.21939  -0.001  0.011  0.032  1.000 -0.053  0.098 -0.189 -0.079\n",
      "        5  0.05668   0.000 -0.002 -0.005 -0.053  1.000 -0.015  0.028  0.012\n",
      "        6  0.89798  -0.001  0.001 -0.031  0.098 -0.015  1.000 -0.805 -0.816\n",
      "        7  0.81404   0.001 -0.004  0.031 -0.189  0.028 -0.805  1.000  0.632\n",
      "        8  0.81711   0.001 -0.001  0.003 -0.079  0.012 -0.816  0.632  1.000\n",
      " **********\n",
      " **   16 **SET ERR         0.5\n",
      " **********\n",
      " **********\n",
      " **   17 **SET PRINT           1\n",
      " **********\n",
      " **********\n",
      " **   18 **HESSE        4000\n",
      " **********\n",
      " COVARIANCE MATRIX CALCULATED SUCCESSFULLY\n",
      " FCN=-648501 FROM HESSE     STATUS=OK             61 CALLS         748 TOTAL\n",
      "                     EDM=0.000117188    STRATEGY= 1      ERROR MATRIX ACCURATE \n",
      "  EXT PARAMETER                                INTERNAL      INTERNAL  \n",
      "  NO.   NAME      VALUE            ERROR       STEP SIZE       VALUE   \n",
      "   1  a0          -1.00000e+00   7.99638e-04   4.44831e-03  -1.57087e+00\n",
      "                                 WARNING -   - ABOVE PARAMETER IS AT LIMIT.\n",
      "   2  a1           5.00000e-01   1.99553e-03   9.94450e-03  -4.71233e+00\n",
      "                                 WARNING -   - ABOVE PARAMETER IS AT LIMIT.\n",
      "   3  mean         5.36613e+00   5.93060e-05   1.32645e-04   1.22902e-01\n",
      "   4  nBkg         7.29604e+02   3.36316e+01   8.53880e-06  -1.55371e+00\n",
      "   5  nSig         5.08760e+04   2.26445e+02   7.06848e-06  -1.42802e+00\n",
      "   6  sig1frac     4.34836e-01   1.03668e-02   1.98314e-04  -1.30699e-01\n",
      "   7  sigma1       2.17303e-02   2.09085e-04   1.08214e-04  -1.42692e-01\n",
      "   8  sigma2       8.76243e-03   1.13239e-04   5.79021e-04   6.27939e-01\n",
      "                               ERR DEF= 0.5\n",
      " EXTERNAL ERROR MATRIX.    NDIM=  25    NPAR=  8    ERR DEF=0.5\n",
      "  8.372e-12  1.027e-16 -6.649e-15 -1.986e-08  1.983e-08 -3.903e-12  1.216e-13  3.419e-14 \n",
      "  1.027e-16  6.221e-12  7.401e-15  1.904e-07 -1.904e-07  8.138e-12 -3.932e-13 -7.962e-14 \n",
      " -6.649e-15  7.401e-15  3.517e-09  6.419e-05 -6.419e-05 -1.876e-08  3.829e-10  1.715e-11 \n",
      " -1.986e-08  1.904e-07  6.419e-05  1.131e+03 -4.016e+02  3.566e-02 -1.356e-03 -3.208e-04 \n",
      "  1.983e-08 -1.904e-07 -6.419e-05 -4.016e+02  5.128e+04 -3.567e-02  1.356e-03  3.208e-04 \n",
      " -3.903e-12  8.138e-12 -1.876e-08  3.566e-02 -3.567e-02  1.075e-04 -1.763e-06 -9.731e-07 \n",
      "  1.216e-13 -3.932e-13  3.829e-10 -1.356e-03  1.356e-03 -1.763e-06  4.372e-08  1.540e-08 \n",
      "  3.419e-14 -7.962e-14  1.715e-11 -3.208e-04  3.208e-04 -9.731e-07  1.540e-08  1.283e-08 \n",
      " PARAMETER  CORRELATION COEFFICIENTS  \n",
      "       NO.  GLOBAL      1      2      3      4      5      6      7      8\n",
      "        1  0.00027   1.000  0.000 -0.000 -0.000  0.000 -0.000  0.000  0.000\n",
      "        2  0.00232   0.000  1.000  0.000  0.002 -0.000  0.000 -0.001 -0.000\n",
      "        3  0.06377  -0.000  0.000  1.000  0.032 -0.005 -0.031  0.031  0.003\n",
      "        4  0.22268  -0.000  0.002  0.032  1.000 -0.053  0.102 -0.193 -0.084\n",
      "        5  0.05690   0.000 -0.000 -0.005 -0.053  1.000 -0.015  0.029  0.013\n",
      "        6  0.90455  -0.000  0.000 -0.031  0.102 -0.015  1.000 -0.813 -0.829\n",
      "        7  0.82173   0.000 -0.001  0.031 -0.193  0.029 -0.813  1.000  0.650\n",
      "        8  0.82990   0.000 -0.000  0.003 -0.084  0.013 -0.829  0.650  1.000\n",
      "[#1] INFO:Minization -- RooMinimizer::optimizeConst: deactivating const optimization\n",
      "[#1] INFO:InputArguments -- RooAbsData::plotOn(dh) INFO: dataset has non-integer weights, auto-selecting SumW2 errors instead of Poisson errors\n"
     ]
    }
   ],
   "source": [
    "histname = b0SideSub.GetName()\n",
    "massmin = 5.2\n",
    "massmax = 5.55\n",
    "massbins = (massmax - massmin)/0.005\n",
    "mass = RooRealVar(\"mass\",\"M(#mu#muKK)[GeV]\",massmin,massmax)\n",
    "mass.setBins(int(massbins))\n",
    "\n",
    "mean = RooRealVar(\"mean\",\"mean of gaussian\",5.38,5.31,5.41);\n",
    "sigma1 = RooRealVar(\"sigma1\",\"width of gaussian1\",0.002,0.0005,0.05);\n",
    "sigma2 = RooRealVar(\"sigma2\",\"width of gaussian2\",0.004,0.004,0.01);\n",
    "\n",
    "a0 = RooRealVar(\"a0\",\"a0\",0.001,-1.,1.)\n",
    "a1 = RooRealVar(\"a1\",\"a1\",0.001,-0.5,0.5)\n",
    "a2 = RooRealVar(\"a2\",\"a2\",-0.00001,-2.,2.)\n",
    "a3 = RooRealVar(\"a3\",\"a3\",-0.000001,-0.1,0.1)\n",
    "a4 = RooRealVar(\"a4\",\"a4\",-0.000001,-2.,2.)\n",
    "a5 = RooRealVar(\"a5\",\"a5\",-0.000001)\n",
    "a6 = RooRealVar(\"a6\",\"a6\",-0.000001,-0.01,0.01)\n",
    "\n",
    "aset = RooArgList(a0,a1)#,a2)#,a3)\n",
    "gaussFrac = RooRealVar(\"sig1frac\",\"fraction of component 1 in signal\",0.3,0.0,1.0)\n",
    "nSig = RooRealVar(\"nSig\",\"nSig\",55000,0.,10E6)\n",
    "nBkg = RooRealVar(\"nBkg\",\"nBkg\",55000,0.,10E6)\n",
    "\n",
    "cheb = RooChebychev(\"cheb\",\"Background\",mass,aset)\n",
    "gauss1 = RooGaussian(\"gauss1\",\"gaussian PDF 1\",mass,mean,sigma1)\n",
    "gauss2 = RooGaussian(\"gauss2\",\"gaussian PDF 2\",mass,mean,sigma2)\n",
    "\n",
    "model  = RooAddPdf(\"model\",\"g1+g2\",gauss1,gauss2,gaussFrac)\n",
    "tot = RooAddPdf(\"tot\",\"g1+g2+cheb\",RooArgList(model,cheb),RooArgList(nSig,nBkg))\n",
    "\n",
    "masslist = RooArgList(mass)\n",
    "dh = RooDataHist(\"dh\",\"dh\",masslist,b0SideSub);\n",
    "\n",
    "tot.fitTo(dh)\n",
    "\n",
    "massFrame = mass.frame()\n",
    "massFrame.SetTitle(\"B_{0}^{s} signal\")\n",
    "massFrame.GetYaxis().SetTitleOffset(1.35)\n",
    "dh.plotOn(massFrame)\n",
    "tot.plotOn(massFrame)\n",
    "gauss2.plotOn(massFrame,LineColor(kRed),LineStyle(kDashed),Normalization(gaussFrac.getValV()*nSig.getValV()/(nBkg.getValV()+nSig.getValV())))\n",
    "gauss1.plotOn(massFrame,LineColor(kGreen),LineStyle(kDashed),Normalization((1.0-gaussFrac.getValV())*nSig.getValV()/(nBkg.getValV()+nSig.getValV())))\n",
    "cheb.plotOn(massFrame,LineColor(kMagenta),LineStyle(kDotted),Normalization(nBkg.getValV()/(nBkg.getValV()+nSig.getValV())))\n",
    "tot.paramOn(massFrame,Layout(0.60,0.99,0.9))\n",
    "massFrame.Draw()\n",
    "\n",
    "plotname = \"b0test_param_\" + histname\n",
    "cSubFit.SaveAs(plotname  + \".png\")\n",
    "cSubFit.SaveAs(plotname  + \".eps\")\n",
    "cSubFit.SaveAs(plotname  + \".pdf\")"
   ]
  },
  {
   "cell_type": "code",
   "execution_count": null,
   "metadata": {
    "collapsed": true
   },
   "outputs": [],
   "source": []
  }
 ],
 "metadata": {
  "kernelspec": {
   "display_name": "Python 2",
   "language": "python",
   "name": "python2"
  },
  "language_info": {
   "codemirror_mode": {
    "name": "ipython",
    "version": 2
   },
   "file_extension": ".py",
   "mimetype": "text/x-python",
   "name": "python",
   "nbconvert_exporter": "python",
   "pygments_lexer": "ipython2",
   "version": "2.7.14"
  }
 },
 "nbformat": 4,
 "nbformat_minor": 2
}
