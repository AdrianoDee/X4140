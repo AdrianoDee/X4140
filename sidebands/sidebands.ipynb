{
 "cells": [
  {
   "cell_type": "code",
   "execution_count": 1,
   "metadata": {},
   "outputs": [
    {
     "name": "stdout",
     "output_type": "stream",
     "text": [
      "Welcome to JupyROOT 6.10/08\n"
     ]
    }
   ],
   "source": [
    "! . /usr/local/bin/thisroot.sh\n",
    "import ROOT\n",
    "from ROOT import TFile,TH1,TH1F,TCanvas,TLine\n",
    "from ROOT import RooFit"
   ]
  },
  {
   "cell_type": "code",
   "execution_count": 2,
   "metadata": {},
   "outputs": [
    {
     "name": "stdout",
     "output_type": "stream",
     "text": [
      "../rootfiles/X4140_MuMuKK.root                                                         ../rootfiles/X4140_MuMuKK_KRe_MuRef_EtaX1.1_NP3.5_Alpha99_CW5.2-5.55.root\r\n",
      "../rootfiles/X4140_MuMuKK_KRe_MuMixed_NP3.5_Alpha99_CW5.2-5.55.root                    ../rootfiles/X4140_MuMuKK_KRe_MuRef_NP3.5_Alpha99_CW5.15-5.55.root\r\n",
      "../rootfiles/X4140_MuMuKK_KRe_MuMixed_NP3_Alpha99.root                                 ../rootfiles/X4140_MuMuKK_KRe_MuRef_NP3.5_Alpha99_DM_CW5.15-5.55.root\r\n",
      "../rootfiles/X4140_MuMuKK_KRe_MuRe_ChiCuts_NP3.0_Alpha99_CW5.15-5.55.root              ../rootfiles/X4140_MuMuKK_KRe_MuRef_SIDES_NP3.0_Alpha99_CW5.2-5.55.root\r\n",
      "../rootfiles/X4140_MuMuKK_KRe_MuRe_NP3.0_Alpha99_CW5.15-5.55_GOODx5568.root            ../rootfiles/X4140_MuMuKK_KRe_MuRef_Sidebands5-7_NP3.0_B0Cuts_CW5.15-5.55.root\r\n",
      "../rootfiles/X4140_MuMuKK_KRe_MuRe_NP3.0_Alpha99_CW5.15-5.55_PtJPsi7_PtMu_4.root       ../rootfiles/X4140_MuMuKK_KRe_MuRef_Sidebands_NP3.5_Alpha99_CW5.15-5.55.root\r\n",
      "../rootfiles/X4140_MuMuKK_KRe_MuRe_NP3.0_Alpha99_CW5.15-5.55_PtJPsi7_PtMu_4_NOPHI.root ../rootfiles/X4140_MuMuKK_Mixed.root\r\n",
      "../rootfiles/X4140_MuMuKK_KRe_MuRe_NoCuts_NP3.0_Alpha99_CW5.15-5.55.root\r\n"
     ]
    }
   ],
   "source": [
    "! ls ../rootfiles/X4140*.root"
   ]
  },
  {
   "cell_type": "code",
   "execution_count": 3,
   "metadata": {},
   "outputs": [],
   "source": [
    "#rootfile =\"../rootfiles/X4140_MuMuKK_KRe_MuRe_NP3.0_Alpha99_CW5.15-5.55_PtJPsi7_PtMu_4_NOPHI.root\"\n",
    "rootfile =\"../rootfiles/X4140_MuMuKK_KRe_MuRef_Sidebands5-7_NP3.0_B0Cuts_CW5.15-5.55.root\"\n",
    "#histname = \"Xcand_histo_hlt8_cw_nonprompt_cosalpha\"\n",
    "#histname = \"Phi_hist_all_cw_all_cosalpha\"\n",
    "histname = \"PhiMassHisto\"\n",
    "#histname = \"Xcand_histo_DM_any_cw_nonprompt_cosalpha\"\n",
    "inputfile  = TFile(rootfile,\"READ\")\n",
    "hist = inputfile.Get(histname)\n",
    "c = TCanvas(\"canvas\",\"canvas\",1200,800) ;"
   ]
  },
  {
   "cell_type": "code",
   "execution_count": 4,
   "metadata": {},
   "outputs": [],
   "source": [
    "from ROOT import RooRealVar,RooAbsPdf,RooChebychev,RooExponential,RooGaussian,RooAbsPdf,RooPlot,RooAddPdf,RooDataHist,RooArgSet,RooArgList\n",
    "from ROOT import kGreen,kRed,kBlack,kBlue,kDashed,kDotted,kMagenta\n",
    "from ROOT.RooFit import Components,LineColor,LineStyle,Name,Normalization,Layout,Format,Label,Parameters,Range"
   ]
  },
  {
   "cell_type": "code",
   "execution_count": 5,
   "metadata": {
    "collapsed": true
   },
   "outputs": [],
   "source": [
    "massmin = 1.020-0.030\n",
    "massmax = 1.020+0.030\n",
    "phimean = 1.020\n",
    "massbins = (massmax - massmin)/hist.GetBinWidth(2)\n",
    "mass = RooRealVar(\"mass\",\"M(KK)[GeV]\",massmin,massmax)\n",
    "mass.setBins(int(massbins))"
   ]
  },
  {
   "cell_type": "code",
   "execution_count": 6,
   "metadata": {},
   "outputs": [
    {
     "name": "stderr",
     "output_type": "stream",
     "text": [
      "Info in <TCanvas::Print>: png file plots/phiplot_PhiMassHisto.png has been created\n",
      "Info in <TCanvas::Print>: eps file plots/phiplot_PhiMassHisto.eps has been created\n",
      "Info in <TCanvas::Print>: pdf file plots/phiplot_PhiMassHisto.pdf has been created\n"
     ]
    }
   ],
   "source": [
    "hist.GetXaxis().SetRangeUser(massmin,massmax)\n",
    "hist.Draw()\n",
    "plotname = \"plots/phiplot_\" + histname\n",
    "c.SaveAs(plotname  + \".png\")\n",
    "c.SaveAs(plotname  + \".eps\")\n",
    "c.SaveAs(plotname  + \".pdf\")"
   ]
  },
  {
   "cell_type": "code",
   "execution_count": 7,
   "metadata": {
    "collapsed": true
   },
   "outputs": [],
   "source": [
    "mean = RooRealVar(\"mean\",\"mean of gaussian\",phimean,phimean-0.005,phimean+0.005);\n",
    "sigma = RooRealVar(\"sigma1\",\"width of gaussian1\",0.001,0.0005,0.05);\n",
    "\n",
    "a0 = RooRealVar(\"a0\",\"a0\",0.001,-1.,1.)\n",
    "a1 = RooRealVar(\"a1\",\"a1\",0.001,-0.5,0.5)\n",
    "a2 = RooRealVar(\"a2\",\"a2\",-0.00001,-2.,2.)\n",
    "a3 = RooRealVar(\"a3\",\"a3\",-0.000001,-0.1,0.1)\n",
    "a4 = RooRealVar(\"a4\",\"a4\",0.0,-0.1,0.1)\n",
    "a5 = RooRealVar(\"a5\",\"a5\",0.0,-0.025,0.05)\n",
    "a6 = RooRealVar(\"a6\",\"a6\",0.0,-0.001,0.001)\n",
    "\n",
    "aset = RooArgList(a0,a1,a2,a3,a4,a5)\n",
    "sFrac = RooRealVar(\"sFrac\",\"sFrac\",0.5,0.,1.0)"
   ]
  },
  {
   "cell_type": "code",
   "execution_count": 8,
   "metadata": {
    "collapsed": true
   },
   "outputs": [],
   "source": [
    "cheb = RooChebychev(\"cheb\",\"Background\",mass,aset)\n",
    "gauss = RooGaussian(\"gauss\",\"gaussian PDF \",mass,mean,sigma)\n",
    "\n",
    "tot = RooAddPdf(\"tot\",\"g+cheb\",gauss,cheb,sFrac)"
   ]
  },
  {
   "cell_type": "code",
   "execution_count": 9,
   "metadata": {},
   "outputs": [
    {
     "name": "stdout",
     "output_type": "stream",
     "text": [
      "3074160.0\n",
      "[#1] INFO:DataHandling -- RooDataHist::adjustBinning(dh): fit range of variable mass expanded to nearest bin boundaries: [0.99,1.05] --> [0.99,1.05]\n"
     ]
    }
   ],
   "source": [
    "masslist = RooArgList(mass)\n",
    "dh = RooDataHist(\"dh\",\"dh\",masslist,hist)\n",
    "numEvts = dh.sum(False)\n",
    "print numEvts"
   ]
  },
  {
   "cell_type": "code",
   "execution_count": 10,
   "metadata": {},
   "outputs": [
    {
     "data": {
      "text/plain": [
       "<ROOT.RooFitResult object at 0x0>"
      ]
     },
     "execution_count": 10,
     "metadata": {},
     "output_type": "execute_result"
    },
    {
     "name": "stdout",
     "output_type": "stream",
     "text": [
      "[#1] INFO:Minization -- RooMinimizer::optimizeConst: activating const optimization\n",
      "[#1] INFO:Minization --  The following expressions will be evaluated in cache-and-track mode: (gauss,cheb)\n",
      " **********\n",
      " **    1 **SET PRINT           1\n",
      " **********\n",
      " **********\n",
      " **    2 **SET NOGRAD\n",
      " **********\n",
      " PARAMETER DEFINITIONS:\n",
      "    NO.   NAME         VALUE      STEP SIZE      LIMITS\n",
      "     1 a0           1.00000e-03  2.00000e-01   -1.00000e+00  1.00000e+00\n",
      "     2 a1           1.00000e-03  1.00000e-01   -5.00000e-01  5.00000e-01\n",
      "     3 a2          -1.00000e-05  4.00000e-01   -2.00000e+00  2.00000e+00\n",
      "     4 a3          -1.00000e-06  2.00000e-02   -1.00000e-01  1.00000e-01\n",
      "     5 a4           0.00000e+00  2.00000e-02   -1.00000e-01  1.00000e-01\n",
      "     6 a5           0.00000e+00  7.50000e-03   -2.50000e-02  5.00000e-02\n",
      "     7 mean         1.02000e+00  1.00000e-03    1.01500e+00  1.02500e+00\n",
      "     8 sFrac        5.00000e-01  1.00000e-01    0.00000e+00  1.00000e+00\n",
      "     9 sigma1       1.00000e-03  2.50000e-04    5.00000e-04  5.00000e-02\n",
      " **********\n",
      " **    3 **SET ERR         0.5\n",
      " **********\n",
      " **********\n",
      " **    4 **SET PRINT           1\n",
      " **********\n",
      " **********\n",
      " **    5 **SET STR           1\n",
      " **********\n",
      " NOW USING STRATEGY  1: TRY TO BALANCE SPEED AGAINST RELIABILITY\n",
      " **********\n",
      " **    6 **MIGRAD        4500           1\n",
      " **********\n",
      " FIRST CALL TO USER FUNCTION AT NEW START POINT, WITH IFLAG=4.\n",
      " START MIGRAD MINIMIZATION.  STRATEGY  1.  CONVERGENCE WHEN EDM .LT. 1.00e-03\n",
      " FCN=-8.66349e+06 FROM MIGRAD    STATUS=INITIATE      130 CALLS         131 TOTAL\n",
      "                     EDM= unknown      STRATEGY= 1      NO ERROR MATRIX       \n",
      "  EXT PARAMETER               CURRENT GUESS       STEP         FIRST   \n",
      "  NO.   NAME      VALUE            ERROR          SIZE      DERIVATIVE \n",
      "   1  a0           1.00000e-03   2.00000e-01   0.00000e+00  -2.19187e+05\n",
      "   2  a1           1.00000e-03   1.00000e-01   0.00000e+00  -4.75977e+04\n",
      "   3  a2          -1.00000e-05   4.00000e-01   0.00000e+00   1.48447e+05\n",
      "   4  a3          -1.00000e-06   2.00000e-02   0.00000e+00   4.85015e+03\n",
      "   5  a4           0.00000e+00   2.00000e-02   0.00000e+00   5.75782e+03\n",
      "   6  a5          -2.49761e-02   7.50000e-03   3.07341e+00  -6.43766e+01\n",
      "   7  mean         1.02000e+00   1.00000e-03   0.00000e+00  -7.01483e+04\n",
      "   8  sFrac        5.00000e-01   1.00000e-01   0.00000e+00   6.75578e+04\n",
      "   9  sigma1       1.60210e-02   2.50000e-04   0.00000e+00  -1.39262e+05\n",
      "                               ERR DEF= 0.5\n",
      " MIGRAD FAILS TO FIND IMPROVEMENT\n",
      " MACHINE ACCURACY LIMITS FURTHER IMPROVEMENT.\n",
      " MIGRAD MINIMIZATION HAS CONVERGED.\n",
      " MIGRAD WILL VERIFY CONVERGENCE AND ERROR MATRIX.\n",
      " COVARIANCE MATRIX CALCULATED SUCCESSFULLY\n",
      " FCN=-8.74951e+06 FROM HESSE     STATUS=OK             81 CALLS        1114 TOTAL\n",
      "                     EDM=0.0184001    STRATEGY= 1      ERROR MATRIX ACCURATE \n",
      "  EXT PARAMETER                                   STEP         FIRST   \n",
      "  NO.   NAME      VALUE            ERROR          SIZE      DERIVATIVE \n",
      "   1  a0           3.86884e-01   1.13717e-03   2.11110e-03  -6.38920e+01\n",
      "   2  a1          -1.61631e-01   1.35312e-03   4.38705e-03  -1.30044e+01\n",
      "   3  a2           3.54554e-02   1.07156e-03   8.70162e-04   2.05689e+02\n",
      "   4  a3           3.23129e-03   1.22096e-03   1.78477e-02   1.37477e+01\n",
      "   5  a4           9.12033e-03   9.90054e-04   1.74450e-02   6.42798e+00\n",
      "   6  a5          -2.31401e-02   1.01427e-03   1.41108e-01   8.51028e-03\n",
      "   7  mean         1.01957e+00   2.48452e-05   9.75638e-03   1.15587e+01\n",
      "   8  sFrac        3.34222e-02   5.30072e-04   3.01911e-03   6.74097e+00\n",
      "   9  sigma1       2.35485e-03   3.12694e-05   4.40326e-03  -3.12997e+01\n",
      "                               ERR DEF= 0.5\n",
      " MIGRAD FAILS TO FIND IMPROVEMENT\n",
      " MACHINE ACCURACY LIMITS FURTHER IMPROVEMENT.\n",
      " MIGRAD MINIMIZATION HAS CONVERGED.\n",
      " FCN=-8.74951e+06 FROM MIGRAD    STATUS=CONVERGED    1143 CALLS        1144 TOTAL\n",
      "                     EDM=0.00189595    STRATEGY= 1  ERROR MATRIX UNCERTAINTY   5.2 per cent\n",
      "  EXT PARAMETER                                   STEP         FIRST   \n",
      "  NO.   NAME      VALUE            ERROR          SIZE      DERIVATIVE \n",
      "   1  a0           3.86923e-01   1.13538e-03  -0.00000e+00   5.90038e-01\n",
      "   2  a1          -1.61543e-01   1.30770e-03  -0.00000e+00  -5.16796e-01\n",
      "   3  a2           3.54064e-02   1.07811e-03  -0.00000e+00   4.31817e-01\n",
      "   4  a3           3.35890e-03   1.24368e-03  -0.00000e+00   2.00642e-01\n",
      "   5  a4           9.09299e-03   9.94231e-04  -0.00000e+00  -3.45453e-01\n",
      "   6  a5          -2.31116e-02   9.35093e-04   0.00000e+00  -7.46791e-01\n",
      "   7  mean         1.01957e+00   2.50166e-05  -0.00000e+00   2.61036e-01\n",
      "   8  sFrac        3.34201e-02   5.27736e-04  -0.00000e+00  -1.34341e+00\n",
      "   9  sigma1       2.35607e-03   3.08539e-05  -0.00000e+00  -9.91184e-01\n",
      "                               ERR DEF= 0.5\n",
      " EXTERNAL ERROR MATRIX.    NDIM=  25    NPAR=  9    ERR DEF=0.5\n",
      "  1.289e-06  4.104e-07  5.906e-07 -8.081e-08  3.657e-07 -3.961e-08 -1.836e-09  5.518e-08  2.691e-09 \n",
      "  4.104e-07  1.710e-06  4.130e-07 -1.232e-07  1.888e-07 -4.015e-07  1.025e-09  2.918e-07  1.311e-08 \n",
      "  5.906e-07  4.130e-07  1.162e-06 -3.200e-07  4.303e-07 -1.339e-07  1.446e-09 -3.120e-09 -4.724e-10 \n",
      " -8.081e-08 -1.232e-07 -3.200e-07  1.547e-06 -2.359e-07 -1.869e-07  2.408e-09  3.818e-07  1.635e-08 \n",
      "  3.657e-07  1.888e-07  4.303e-07 -2.359e-07  9.885e-07 -1.710e-07 -5.263e-09  4.070e-09 -3.791e-10 \n",
      " -3.961e-08 -4.015e-07 -1.339e-07 -1.869e-07 -1.710e-07  8.763e-07 -1.844e-09 -2.229e-07 -7.418e-09 \n",
      " -1.836e-09  1.025e-09  1.446e-09  2.408e-09 -5.263e-09 -1.844e-09  6.258e-10  1.236e-09  7.295e-11 \n",
      "  5.518e-08  2.918e-07 -3.120e-09  3.818e-07  4.070e-09 -2.229e-07  1.236e-09  2.785e-07  1.211e-08 \n",
      "  2.691e-09  1.311e-08 -4.724e-10  1.635e-08 -3.791e-10 -7.418e-09  7.295e-11  1.211e-08  9.520e-10 \n",
      " PARAMETER  CORRELATION COEFFICIENTS  \n",
      "       NO.  GLOBAL      1      2      3      4      5      6      7      8      9\n",
      "        1  0.54214   1.000  0.276  0.482 -0.057  0.324 -0.037 -0.065  0.092  0.077\n",
      "        2  0.62811   0.276  1.000  0.293 -0.076  0.145 -0.328  0.031  0.423  0.325\n",
      "        3  0.60875   0.482  0.293  1.000 -0.239  0.401 -0.133  0.054 -0.005 -0.014\n",
      "        4  0.70336  -0.057 -0.076 -0.239  1.000 -0.191 -0.161  0.077  0.582  0.426\n",
      "        5  0.52190   0.324  0.145  0.401 -0.191  1.000 -0.184 -0.212  0.008 -0.012\n",
      "        6  0.53312  -0.037 -0.328 -0.133 -0.161 -0.184  1.000 -0.079 -0.451 -0.257\n",
      "        7  0.29870  -0.065  0.031  0.054  0.077 -0.212 -0.079  1.000  0.094  0.095\n",
      "        8  0.86415   0.092  0.423 -0.005  0.582  0.008 -0.451  0.094  1.000  0.744\n",
      "        9  0.75026   0.077  0.325 -0.014  0.426 -0.012 -0.257  0.095  0.744  1.000\n",
      " **********\n",
      " **    7 **SET ERR         0.5\n",
      " **********\n",
      " **********\n",
      " **    8 **SET PRINT           1\n",
      " **********\n",
      " **********\n",
      " **    9 **HESSE        4500\n",
      " **********\n",
      " COVARIANCE MATRIX CALCULATED SUCCESSFULLY\n",
      " FCN=-8.74951e+06 FROM HESSE     STATUS=OK             89 CALLS        1233 TOTAL\n",
      "                     EDM=0.000417864    STRATEGY= 1      ERROR MATRIX ACCURATE \n",
      "  EXT PARAMETER                                INTERNAL      INTERNAL  \n",
      "  NO.   NAME      VALUE            ERROR       STEP SIZE       VALUE   \n",
      "   1  a0           3.86923e-01   1.14092e-03   2.11106e-03   3.97292e-01\n",
      "   2  a1          -1.61543e-01   1.44146e-03   1.75482e-03  -3.28989e-01\n",
      "   3  a2           3.54064e-02   1.07354e-03   8.70105e-04   1.77041e-02\n",
      "   4  a3           3.35890e-03   1.22272e-03   1.78473e-02  -3.17519e+00\n",
      "   5  a4           9.09299e-03   9.97603e-04   1.74449e-02   9.10557e-02\n",
      "   6  a5          -2.31116e-02   1.14636e-03   5.64433e-02   4.39368e+00\n",
      "   7  mean         1.01957e+00   2.48583e-05   9.75847e-03  -8.61702e-02\n",
      "   8  sFrac        3.34201e-02   5.72413e-04   1.20764e-03  -1.20311e+00\n",
      "   9  sigma1       2.35607e-03   3.26075e-05   1.76130e-03  -1.18105e+00\n",
      "                               ERR DEF= 0.5\n",
      " EXTERNAL ERROR MATRIX.    NDIM=  25    NPAR=  9    ERR DEF=0.5\n",
      "  1.302e-06  4.842e-07  6.004e-07 -7.518e-08  3.824e-07 -1.526e-07 -1.751e-09  8.702e-08  3.935e-09 \n",
      "  4.842e-07  2.078e-06  4.306e-07 -1.622e-07  2.517e-07 -8.692e-07  6.650e-10  4.321e-07  1.936e-08 \n",
      "  6.004e-07  4.306e-07  1.152e-06 -3.484e-07  4.265e-07 -1.087e-07  1.104e-09 -4.299e-09 -1.730e-10 \n",
      " -7.518e-08 -1.622e-07 -3.484e-07  1.495e-06 -2.604e-07 -2.949e-08  1.727e-09  3.510e-07  1.590e-08 \n",
      "  3.824e-07  2.517e-07  4.265e-07 -2.604e-07  9.952e-07 -2.146e-07 -5.551e-09  2.280e-08  6.878e-10 \n",
      " -1.526e-07 -8.692e-07 -1.087e-07 -2.949e-08 -2.146e-07  1.318e-06 -2.237e-10 -3.690e-07 -1.515e-08 \n",
      " -1.751e-09  6.650e-10  1.104e-09  1.727e-09 -5.551e-09 -2.237e-10  6.179e-10  8.901e-10  6.761e-11 \n",
      "  8.702e-08  4.321e-07 -4.299e-09  3.510e-07  2.280e-08 -3.690e-07  8.901e-10  3.277e-07  1.457e-08 \n",
      "  3.935e-09  1.936e-08 -1.730e-10  1.590e-08  6.878e-10 -1.515e-08  6.761e-11  1.457e-08  1.063e-09 \n",
      " PARAMETER  CORRELATION COEFFICIENTS  \n",
      "       NO.  GLOBAL      1      2      3      4      5      6      7      8      9\n",
      "        1  0.54975   1.000  0.294  0.490 -0.054  0.336 -0.116 -0.062  0.133  0.106\n",
      "        2  0.70910   0.294  1.000  0.278 -0.092  0.175 -0.525  0.019  0.524  0.412\n",
      "        3  0.60864   0.490  0.278  1.000 -0.265  0.398 -0.088  0.041 -0.007 -0.005\n",
      "        4  0.69997  -0.054 -0.092 -0.265  1.000 -0.213 -0.021  0.057  0.502  0.399\n",
      "        5  0.52278   0.336  0.175  0.398 -0.213  1.000 -0.187 -0.224  0.040  0.021\n",
      "        6  0.66411  -0.116 -0.525 -0.088 -0.021 -0.187  1.000 -0.008 -0.562 -0.405\n",
      "        7  0.28732  -0.062  0.019  0.041  0.057 -0.224 -0.008  1.000  0.063  0.083\n",
      "        8  0.88565   0.133  0.524 -0.007  0.502  0.040 -0.562  0.063  1.000  0.781\n",
      "        9  0.78265   0.106  0.412 -0.005  0.399  0.021 -0.405  0.083  0.781  1.000\n",
      "[#1] INFO:Minization -- RooMinimizer::optimizeConst: deactivating const optimization\n"
     ]
    }
   ],
   "source": [
    "tot.fitTo(dh)"
   ]
  },
  {
   "cell_type": "code",
   "execution_count": 11,
   "metadata": {
    "collapsed": true
   },
   "outputs": [],
   "source": [
    "massFrame = mass.frame()\n",
    "massFrame.SetTitle(\"Phi signal\")\n",
    "dh.plotOn(massFrame)\n",
    "tot.plotOn(massFrame)\n",
    "gauss.plotOn(massFrame,LineColor(kGreen),LineStyle(kDashed),Normalization((sFrac.getValV()*numEvts)/(numEvts)))\n",
    "cheb.plotOn(massFrame,LineColor(kMagenta),LineStyle(kDotted),Normalization(((1.0-sFrac.getValV())*numEvts)/(numEvts)))\n",
    "tot.paramOn(massFrame,Layout(0.60,0.99,0.75));\n",
    "massFrame.Draw()"
   ]
  },
  {
   "cell_type": "code",
   "execution_count": 12,
   "metadata": {},
   "outputs": [
    {
     "name": "stdout",
     "output_type": "stream",
     "text": [
      "Side Sigma\n",
      "2.35607e-03\n",
      "Left Side\n",
      "1.00308 - 1.00779\n",
      "1.01956968216\n"
     ]
    }
   ],
   "source": [
    "plotmax = hist.GetMaximum()*1.05\n",
    "sidesigma = sigma.getValV()\n",
    "leftlowside = -7.*sidesigma + mean.getValV()\n",
    "leftupside = -5.*sidesigma + mean.getValV()\n",
    "rightlowside = +5.*sidesigma + mean.getValV()\n",
    "rightupside = +7.*sidesigma + mean.getValV()\n",
    "\n",
    "signallow = -3.*sidesigma + mean.getValV()\n",
    "signalup = +3.*sidesigma + mean.getValV()\n",
    "\n",
    "print \"Side Sigma\"\n",
    "print \"%.5e\" % sidesigma\n",
    "print \"Left Side\"\n",
    "print \"%.5f - %.5f\" % (leftlowside,leftupside)\n",
    "print mean.getValV()"
   ]
  },
  {
   "cell_type": "code",
   "execution_count": 13,
   "metadata": {
    "collapsed": true
   },
   "outputs": [],
   "source": [
    "linelow = TLine(leftlowside,0.0,leftlowside,plotmax)\n",
    "linemidlow = TLine(leftupside,0.0,leftupside,plotmax)\n",
    "linemidup = TLine(rightlowside,0.0,rightlowside,plotmax)\n",
    "lineup = TLine(rightupside,0.0,rightupside,plotmax)\n",
    "\n",
    "linesiglow = TLine(signallow,0.0,signallow,plotmax)\n",
    "linesigup = TLine(signalup,0.0,signalup,plotmax)\n",
    "\n",
    "linelow.SetLineColor(kRed)\n",
    "linemidlow.SetLineColor(kRed)\n",
    "linemidup.SetLineColor(kRed)\n",
    "lineup.SetLineColor(kRed)\n",
    "\n",
    "linesiglow.SetLineColor(kGreen)\n",
    "linesigup.SetLineColor(kGreen) \n",
    "\n",
    "linelow.SetLineWidth(2)\n",
    "linemidlow.SetLineWidth(2)\n",
    "linemidup.SetLineWidth(2)\n",
    "lineup.SetLineWidth(2)\n",
    "\n",
    "linesiglow.SetLineWidth(2)\n",
    "linesigup.SetLineWidth(2) \n",
    "\n",
    "linelow.Draw()\n",
    "linemidlow.Draw()\n",
    "linemidup.Draw()\n",
    "lineup.Draw()\n",
    "\n",
    "linesiglow.Draw()\n",
    "linesigup.Draw()"
   ]
  },
  {
   "cell_type": "code",
   "execution_count": 14,
   "metadata": {},
   "outputs": [
    {
     "name": "stderr",
     "output_type": "stream",
     "text": [
      "Info in <TCanvas::Print>: png file plots/phi_PhiMassHisto.png has been created\n",
      "Info in <TCanvas::Print>: eps file plots/phi_PhiMassHisto.eps has been created\n",
      "Info in <TCanvas::Print>: pdf file plots/phi_PhiMassHisto.pdf has been created\n"
     ]
    }
   ],
   "source": [
    "plotname = \"plots/phi_\" + histname\n",
    "c.SaveAs(plotname  + \".png\")\n",
    "c.SaveAs(plotname  + \".eps\")\n",
    "c.SaveAs(plotname  + \".pdf\")"
   ]
  },
  {
   "cell_type": "code",
   "execution_count": 15,
   "metadata": {},
   "outputs": [
    {
     "name": "stdout",
     "output_type": "stream",
     "text": [
      "[#1] INFO:Eval -- RooRealVar::setRange(mass) new range named 'signalrange' created with bounds [1.0125,1.02664]\n",
      "[#1] INFO:Eval -- RooRealVar::setRange(mass) new range named 'sideleftrange' created with bounds [1.00308,1.00779]\n",
      "[#1] INFO:Eval -- RooRealVar::setRange(mass) new range named 'siderightrange' created with bounds [1.03135,1.03606]\n"
     ]
    }
   ],
   "source": [
    "mass.setRange(\"signalrange\",signallow,signalup)\n",
    "mass.setRange(\"sideleftrange\",leftlowside,leftupside)\n",
    "mass.setRange(\"siderightrange\",rightlowside,rightupside)\n",
    "signalIntegralBkg = cheb.analyticalIntegral(cheb.getAnalyticalIntegral(RooArgSet(mass),RooArgSet(mass)),\"signalrange\")\n",
    "leftsideIntegralBkg = cheb.analyticalIntegral(cheb.getAnalyticalIntegral(RooArgSet(mass),RooArgSet(mass)),\"sideleftrange\")\n",
    "rightsideIntegralBkg = cheb.analyticalIntegral(cheb.getAnalyticalIntegral(RooArgSet(mass),RooArgSet(mass)),\"siderightrange\")\n"
   ]
  },
  {
   "cell_type": "code",
   "execution_count": 16,
   "metadata": {
    "collapsed": true
   },
   "outputs": [],
   "source": [
    "totIntegralBkg= cheb.analyticalIntegral(cheb.getAnalyticalIntegral(RooArgSet(mass),RooArgSet(mass)))"
   ]
  },
  {
   "cell_type": "code",
   "execution_count": 17,
   "metadata": {
    "collapsed": true
   },
   "outputs": [],
   "source": [
    "sigBkgEvts = signalIntegralBkg/totIntegralBkg*((1.0-sFrac.getValV())*numEvts)\n",
    "sidBkgEvts = (leftsideIntegralBkg+rightsideIntegralBkg)/totIntegralBkg*((1.0-sFrac.getValV())*numEvts)"
   ]
  },
  {
   "cell_type": "code",
   "execution_count": 18,
   "metadata": {},
   "outputs": [
    {
     "name": "stdout",
     "output_type": "stream",
     "text": [
      "776754.154227\n"
     ]
    }
   ],
   "source": [
    "print sigBkgEvts"
   ]
  },
  {
   "cell_type": "code",
   "execution_count": 19,
   "metadata": {},
   "outputs": [
    {
     "name": "stdout",
     "output_type": "stream",
     "text": [
      "469905.004566\n"
     ]
    }
   ],
   "source": [
    "print sidBkgEvts"
   ]
  },
  {
   "cell_type": "code",
   "execution_count": 20,
   "metadata": {},
   "outputs": [],
   "source": [
    "ratio = sigBkgEvts/sidBkgEvts"
   ]
  },
  {
   "cell_type": "code",
   "execution_count": 21,
   "metadata": {},
   "outputs": [
    {
     "name": "stdout",
     "output_type": "stream",
     "text": [
      "TFile**\t\t../rootfiles/X4140_MuMuKK_KRe_MuRef_Sidebands5-7_NP3.0_B0Cuts_CW5.15-5.55.root\t\n",
      " TFile*\t\t../rootfiles/X4140_MuMuKK_KRe_MuRef_Sidebands5-7_NP3.0_B0Cuts_CW5.15-5.55.root\t\n",
      "  OBJ: TH1F\tPhiMassHisto\tPhiMassHisto : 0 at: 0x7fc049f3a8d0\n",
      "  OBJ: RooPlot\tframe_mass_7fc04a3aa360\tPhi signal : 0 at: 0x7fc04a3aa360\n",
      "  KEY: TH1F\tX_Cand_Mass;1\tX_Cand_Mass\n",
      "  KEY: TH1F\tX_Cand_Mass_NoMult;1\tX_Cand_Mass_NoMult\n",
      "  KEY: TH1F\tPhiMassHisto;1\tPhiMassHisto\n",
      "  KEY: TH1F\tB0_Cand_Mass_Sides;1\tB0_Cand_Mass_Sides\n",
      "  KEY: TH1F\tB0_Cand_Mass_Sides_NoM;1\tB0_Cand_Mass_Sides_NoM\n",
      "  KEY: TH1F\tB0_Cand_Mass;1\tB0_Cand_Mass\n",
      "  KEY: TH1F\tB0_Cand_Mass_NoM;1\tB0_Cand_Mass_NoM\n"
     ]
    }
   ],
   "source": [
    "inputfile.ls()"
   ]
  },
  {
   "cell_type": "code",
   "execution_count": 22,
   "metadata": {
    "collapsed": true
   },
   "outputs": [],
   "source": [
    "signalB0 = inputfile.Get(\"B0_Cand_Mass_NoM\")\n",
    "sideB0 = inputfile.Get(\"B0_Cand_Mass_Sides_NoM\")\n",
    "notrebin = True"
   ]
  },
  {
   "cell_type": "code",
   "execution_count": 23,
   "metadata": {},
   "outputs": [],
   "source": [
    "if notrebin:\n",
    "    signalB0.Rebin(5)\n",
    "    sideB0.Rebin(5)\n",
    "    notrebin = False"
   ]
  },
  {
   "cell_type": "code",
   "execution_count": 24,
   "metadata": {
    "collapsed": true
   },
   "outputs": [],
   "source": [
    "sideB0.Scale(ratio)"
   ]
  },
  {
   "cell_type": "code",
   "execution_count": 25,
   "metadata": {},
   "outputs": [
    {
     "name": "stderr",
     "output_type": "stream",
     "text": [
      "Info in <TCanvas::Print>: png file plots/B0_Cand_Mass_NoM_sidebands.png has been created\n"
     ]
    }
   ],
   "source": [
    "cB0 = TCanvas(\"cB0\",\"cB0\",1200,800)\n",
    "signalB0.SetFillColor(kBlue)\n",
    "signalB0.SetFillStyle(3002)\n",
    "sideB0.SetFillColor(kRed)\n",
    "sideB0.SetFillStyle(3002)\n",
    "signalB0.Draw()\n",
    "sideB0.Draw(\"SAMEBar\")\n",
    "cB0.SaveAs(\"plots/\" + signalB0.GetName() + \"_sidebands.png\")"
   ]
  },
  {
   "cell_type": "code",
   "execution_count": 26,
   "metadata": {},
   "outputs": [
    {
     "data": {
      "text/plain": [
       "True"
      ]
     },
     "execution_count": 26,
     "metadata": {},
     "output_type": "execute_result"
    }
   ],
   "source": [
    "b0SideSubtracted = signalB0.Clone()\n",
    "b0SideSubtracted.Add(sideB0,-1.0)"
   ]
  },
  {
   "cell_type": "code",
   "execution_count": 27,
   "metadata": {},
   "outputs": [
    {
     "name": "stderr",
     "output_type": "stream",
     "text": [
      "Info in <TCanvas::Print>: png file plots/B0_Cand_Mass_NoM_subtracted.png has been created\n"
     ]
    }
   ],
   "source": [
    "b0SideSubtracted.SetFillColor(kGreen)\n",
    "b0SideSubtracted.SetFillStyle(3002)\n",
    "b0SideSubtracted.Draw(\"Bar\")\n",
    "cB0.SaveAs(\"plots/\" + signalB0.GetName() + \"_subtracted.png\")"
   ]
  },
  {
   "cell_type": "code",
   "execution_count": null,
   "metadata": {
    "collapsed": true
   },
   "outputs": [],
   "source": []
  }
 ],
 "metadata": {
  "kernelspec": {
   "display_name": "Python 2",
   "language": "python",
   "name": "python2"
  },
  "language_info": {
   "codemirror_mode": {
    "name": "ipython",
    "version": 2
   },
   "file_extension": ".py",
   "mimetype": "text/x-python",
   "name": "python",
   "nbconvert_exporter": "python",
   "pygments_lexer": "ipython2",
   "version": "2.7.14"
  }
 },
 "nbformat": 4,
 "nbformat_minor": 2
}
