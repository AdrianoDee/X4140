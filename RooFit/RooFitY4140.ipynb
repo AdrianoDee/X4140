{
 "cells": [
  {
   "cell_type": "code",
   "execution_count": 1,
   "metadata": {},
   "outputs": [
    {
     "name": "stdout",
     "output_type": "stream",
     "text": [
      "/bin/sh: /Users/adrianodiflorio/Documents/VirtualEnvs/keras/bin/activate: Permission denied\r\n"
     ]
    }
   ],
   "source": [
    "! $HOME/Documents/VirtualEnvs/keras/bin/activate && . /usr/local/bin/thisroot.sh"
   ]
  },
  {
   "cell_type": "code",
   "execution_count": 2,
   "metadata": {},
   "outputs": [
    {
     "name": "stdout",
     "output_type": "stream",
     "text": [
      "Welcome to JupyROOT 6.10/08\n"
     ]
    }
   ],
   "source": [
    "import ROOT\n",
    "from ROOT import TFile,TH1,TH1F,TCanvas\n",
    "from ROOT import RooFit\n",
    "from ROOT.RooFit import Layout"
   ]
  },
  {
   "cell_type": "markdown",
   "metadata": {},
   "source": [
    "#rootfile = \"X4140_MuMuKK_KRe_MuRe_NoCuts_NP3.0_Alpha99_CW5.15-5.55.root\"\n",
    "rootfile = \"X4140_MuMuKK_KRe_MuRe_ChiCuts_NP3.0_Alpha99_CW5.15-5.55.root\"\n",
    "rootfile =\"../rootfiles/X4140_Base_KRe_MuRef_NoQual_Sidebands5-7_NP3.0_B0Cuts_CW5.15-5.55_BDCAdd.root\"\n",
    "rootfile = \"../rootfiles/X4140_Base_Side4-6_AllData.root\"\n",
    "histname = \"Xcand_histo_hlt8_cw_nonprompt_cosalpha\"\n",
    "histname = \"X5568_Cand_Mass_Ref_NoMult\"\n",
    "histname = \"CW_Mass_Signal_NoM\"\n",
    "#histname = \"CW_Cand_Mass_NoM\"\n",
    "#histname = \"Xcand_histo_DM_any_cw_nonprompt_cosalpha\"\n",
    "inputfile  = TFile(rootfile,\"READ\")\n",
    "hist = inputfile.Get(histname)\n",
    "c = TCanvas(\"canvas\",\"canvas\",1200,800) ;"
   ]
  },
  {
   "cell_type": "code",
   "execution_count": 4,
   "metadata": {},
   "outputs": [
    {
     "data": {
      "text/plain": [
       "0.005"
      ]
     },
     "execution_count": 4,
     "metadata": {},
     "output_type": "execute_result"
    }
   ],
   "source": [
    "hist.GetName()\n",
    "hist.Rebin(10)\n",
    "hist.GetBinWidth(2)"
   ]
  },
  {
   "cell_type": "code",
   "execution_count": 5,
   "metadata": {
    "collapsed": true
   },
   "outputs": [],
   "source": [
    "from ROOT import RooRealVar,RooAbsPdf,RooChebychev,RooExponential,RooGaussian,RooAbsPdf,RooPlot,RooAddPdf,RooDataHist,RooArgSet,RooArgList\n",
    "from ROOT import kGreen,kRed,kBlack,kBlue,kDashed,kDotted,kMagenta\n",
    "from ROOT.RooFit import Components,LineColor,LineStyle,Name,Normalization"
   ]
  },
  {
   "cell_type": "code",
   "execution_count": 6,
   "metadata": {
    "collapsed": true
   },
   "outputs": [],
   "source": [
    "massmin = 5.2\n",
    "massmax = 5.55\n",
    "massbins = (massmax - massmin)/0.005\n",
    "mass = RooRealVar(\"mass\",\"M(#mu#muKK)[GeV]\",massmin,massmax)\n",
    "mass.setBins(int(massbins))"
   ]
  },
  {
   "cell_type": "code",
   "execution_count": 7,
   "metadata": {
    "collapsed": true
   },
   "outputs": [],
   "source": [
    "mean = RooRealVar(\"mean\",\"mean of gaussian\",5.38,5.31,5.41);\n",
    "sigma1 = RooRealVar(\"sigma1\",\"width of gaussian1\",0.002,0.0005,0.05);\n",
    "sigma2 = RooRealVar(\"sigma2\",\"width of gaussian2\",0.004,0.004,0.01);\n",
    "\n",
    "a0 = RooRealVar(\"a0\",\"a0\",0.001,-1.,1.)\n",
    "a1 = RooRealVar(\"a1\",\"a1\",0.001,-0.5,0.5)\n",
    "a2 = RooRealVar(\"a2\",\"a2\",-0.00001,-2.,2.)\n",
    "a3 = RooRealVar(\"a3\",\"a3\",-0.000001,-0.1,0.1)\n",
    "a4 = RooRealVar(\"a4\",\"a4\",-0.000001,-2.,2.)\n",
    "a5 = RooRealVar(\"a5\",\"a5\",-0.000001)\n",
    "a6 = RooRealVar(\"a6\",\"a6\",-0.000001,-0.01,0.01)\n",
    "\n",
    "aset = RooArgList(a0,a1,a2)#,a3)\n",
    "gaussFrac = RooRealVar(\"sig1frac\",\"fraction of component 1 in signal\",0.3,0.0,1.0)\n",
    "nSig = RooRealVar(\"nSig\",\"nSig\",55000,0.,10E6)\n",
    "nBkg = RooRealVar(\"nBkg\",\"nBkg\",55000,0.,10E6)"
   ]
  },
  {
   "cell_type": "code",
   "execution_count": 8,
   "metadata": {
    "collapsed": true
   },
   "outputs": [],
   "source": [
    "cheb = RooChebychev(\"cheb\",\"Background\",mass,aset)\n",
    "gauss1 = RooGaussian(\"gauss1\",\"gaussian PDF 1\",mass,mean,sigma1)\n",
    "gauss2 = RooGaussian(\"gauss2\",\"gaussian PDF 2\",mass,mean,sigma2)\n",
    "\n",
    "model  = RooAddPdf(\"model\",\"g1+g2\",gauss1,gauss2,gaussFrac)\n",
    "tot = RooAddPdf(\"tot\",\"g1+g2+cheb\",RooArgList(model,cheb),RooArgList(nSig,nBkg))"
   ]
  },
  {
   "cell_type": "code",
   "execution_count": 9,
   "metadata": {},
   "outputs": [
    {
     "name": "stdout",
     "output_type": "stream",
     "text": [
      "[#1] INFO:DataHandling -- RooDataHist::adjustBinning(dh): fit range of variable mass expanded to nearest bin boundaries: [5.2,5.55] --> [5.2,5.55]\n"
     ]
    }
   ],
   "source": [
    "masslist = RooArgList(mass)\n",
    "dh = RooDataHist(\"dh\",\"dh\",masslist,hist);"
   ]
  },
  {
   "cell_type": "code",
   "execution_count": 10,
   "metadata": {},
   "outputs": [
    {
     "data": {
      "text/plain": [
       "<ROOT.RooFitResult object at 0x0>"
      ]
     },
     "execution_count": 10,
     "metadata": {},
     "output_type": "execute_result"
    },
    {
     "name": "stdout",
     "output_type": "stream",
     "text": [
      "[#1] INFO:Minization -- p.d.f. provides expected number of events, including extended term in likelihood.\n",
      "[#1] INFO:Minization -- RooMinimizer::optimizeConst: activating const optimization\n",
      "[#1] INFO:Minization --  The following expressions will be evaluated in cache-and-track mode: (gauss1,gauss2,cheb)\n",
      " **********\n",
      " **    1 **SET PRINT           1\n",
      " **********\n",
      " **********\n",
      " **    2 **SET NOGRAD\n",
      " **********\n",
      " PARAMETER DEFINITIONS:\n",
      "    NO.   NAME         VALUE      STEP SIZE      LIMITS\n",
      "     1 a0           1.00000e-03  2.00000e-01   -1.00000e+00  1.00000e+00\n",
      "     2 a1           1.00000e-03  1.00000e-01   -5.00000e-01  5.00000e-01\n",
      "     3 a2          -1.00000e-05  4.00000e-01   -2.00000e+00  2.00000e+00\n",
      "     4 mean         5.38000e+00  1.00000e-02    5.31000e+00  5.41000e+00\n",
      "     5 nBkg         5.50000e+04  2.75000e+04    0.00000e+00  1.00000e+07\n",
      "     6 nSig         5.50000e+04  2.75000e+04    0.00000e+00  1.00000e+07\n",
      "     7 sig1frac     3.00000e-01  1.00000e-01    0.00000e+00  1.00000e+00\n",
      "     8 sigma1       2.00000e-03  7.50000e-04    5.00000e-04  5.00000e-02\n",
      "     9 sigma2       4.00000e-03  6.00000e-04    4.00000e-03  1.00000e-02\n",
      " MINUIT WARNING IN PARAM DEF\n",
      " ============== STARTING VALUE IS AT LIMIT.\n",
      " MINUIT WARNING IN PARAMETR\n",
      " ============== VARIABLE9 IS AT ITS LOWER ALLOWED LIMIT.\n",
      " MINUIT WARNING IN PARAMETR\n",
      " ============== VARIABLE9 BROUGHT BACK INSIDE LIMITS.\n",
      " **********\n",
      " **    3 **SET ERR         0.5\n",
      " **********\n",
      " **********\n",
      " **    4 **SET PRINT           1\n",
      " **********\n",
      " **********\n",
      " **    5 **SET STR           1\n",
      " **********\n",
      " NOW USING STRATEGY  1: TRY TO BALANCE SPEED AGAINST RELIABILITY\n",
      " **********\n",
      " **    6 **MIGRAD        4500           1\n",
      " **********\n",
      " FIRST CALL TO USER FUNCTION AT NEW START POINT, WITH IFLAG=4.\n",
      " MINUIT WARNING IN MIGrad    \n",
      " ============== VARIABLE9 IS AT ITS LOWER ALLOWED LIMIT.\n",
      " START MIGRAD MINIMIZATION.  STRATEGY  1.  CONVERGENCE WHEN EDM .LT. 1.00e-03\n",
      " FCN=-1.51569e+06 FROM MIGRAD    STATUS=INITIATE      127 CALLS         128 TOTAL\n",
      "                     EDM= unknown      STRATEGY= 1      NO ERROR MATRIX       \n",
      "  EXT PARAMETER               CURRENT GUESS       STEP         FIRST   \n",
      "  NO.   NAME      VALUE            ERROR          SIZE      DERIVATIVE \n",
      "   1  a0           1.00000e-03   2.00000e-01   0.00000e+00   7.59840e+03\n",
      "   2  a1           1.00000e-03   1.00000e-01   0.00000e+00  -5.33252e+01\n",
      "   3  a2          -1.00000e-05   4.00000e-01   0.00000e+00  -6.19202e+03\n",
      "   4  mean         5.36675e+00   1.00000e-02   0.00000e+00   3.90632e+03\n",
      "   5  nBkg         5.50000e+04   2.75000e+04   0.00000e+00  -1.43417e+05\n",
      "   6  nSig         5.50000e+04   2.75000e+04   0.00000e+00  -5.30692e+04\n",
      "   7  sig1frac     3.00000e-01   1.00000e-01   0.00000e+00  -1.68006e+03\n",
      "   8  sigma1       2.56768e-02   7.50000e-04   0.00000e+00  -1.33513e+03\n",
      "   9  sigma2       9.99695e-03   6.00000e-04   3.18475e+00   1.44341e+01\n",
      "                               ERR DEF= 0.5\n",
      " MIGRAD FAILS TO FIND IMPROVEMENT\n",
      " MIGRAD MINIMIZATION HAS CONVERGED.\n",
      " FCN=-1.51846e+06 FROM MIGRAD    STATUS=CONVERGED     546 CALLS         547 TOTAL\n",
      "                     EDM=0.000203273    STRATEGY= 1  ERROR MATRIX UNCERTAINTY   2.4 per cent\n",
      "  EXT PARAMETER                                   STEP         FIRST   \n",
      "  NO.   NAME      VALUE            ERROR          SIZE      DERIVATIVE \n",
      "   1  a0          -3.71898e-01   7.29993e-03  -0.00000e+00   7.22465e-01\n",
      "   2  a1          -9.70055e-02   9.56873e-03   0.00000e+00   2.71723e-01\n",
      "   3  a2          -4.14539e-02   6.92717e-03  -0.00000e+00  -1.09402e+00\n",
      "   4  mean         5.36656e+00   6.74017e-05  -0.00000e+00   4.20440e+00\n",
      "   5  nBkg         6.99131e+04   3.96858e+02  -0.00000e+00   2.76509e+00\n",
      "   6  nSig         5.46988e+04   3.81103e+02   0.00000e+00  -5.37824e+00\n",
      "   7  sig1frac     5.25290e-01   2.26437e-02  -0.00000e+00  -5.99035e-01\n",
      "   8  sigma1       1.88681e-02   4.97732e-04   0.00000e+00  -1.29969e+00\n",
      "   9  sigma2       8.07196e-03   2.00383e-04  -0.00000e+00   2.32844e-01\n",
      "                               ERR DEF= 0.5\n",
      " EXTERNAL ERROR MATRIX.    NDIM=  25    NPAR=  9    ERR DEF=0.5\n",
      "  5.329e-05 -1.859e-05  2.541e-05  8.116e-09  3.747e-01 -3.459e-01  1.324e-05 -4.576e-07  1.244e-07 \n",
      " -1.859e-05  9.157e-05 -2.313e-05 -3.850e-08 -2.064e+00  2.049e+00 -4.579e-05  2.039e-06 -4.020e-07 \n",
      "  2.541e-05 -2.313e-05  4.799e-05  5.516e-08  5.375e-01 -5.788e-01  1.493e-05 -6.237e-07  1.378e-07 \n",
      "  8.116e-09 -3.850e-08  5.516e-08  4.543e-09  1.212e-03 -1.465e-03  1.048e-08 -4.913e-10  1.285e-10 \n",
      "  3.747e-01 -2.064e+00  5.375e-01  1.212e-03  1.575e+05 -8.921e+04  2.247e+00 -9.386e-02  1.950e-02 \n",
      " -3.459e-01  2.049e+00 -5.788e-01 -1.465e-03 -8.921e+04  1.452e+05 -2.269e+00  9.432e-02 -1.951e-02 \n",
      "  1.324e-05 -4.579e-05  1.493e-05  1.048e-08  2.247e+00 -2.269e+00  5.131e-04 -9.865e-06  4.192e-06 \n",
      " -4.576e-07  2.039e-06 -6.237e-07 -4.913e-10 -9.386e-02  9.432e-02 -9.865e-06  2.478e-07 -7.793e-08 \n",
      "  1.244e-07 -4.020e-07  1.378e-07  1.285e-10  1.950e-02 -1.951e-02  4.192e-06 -7.793e-08  4.022e-08 \n",
      " PARAMETER  CORRELATION COEFFICIENTS  \n",
      "       NO.  GLOBAL      1      2      3      4      5      6      7      8      9\n",
      "        1  0.51622   1.000 -0.266  0.502  0.016  0.129 -0.124  0.080 -0.126  0.085\n",
      "        2  0.68012  -0.266  1.000 -0.349 -0.060 -0.544  0.562 -0.211  0.428 -0.209\n",
      "        3  0.56082   0.502 -0.349  1.000  0.118  0.196 -0.219  0.095 -0.181  0.099\n",
      "        4  0.13812   0.016 -0.060  0.118  1.000  0.045 -0.057  0.007 -0.015  0.010\n",
      "        5  0.68116   0.129 -0.544  0.196  0.045  1.000 -0.590  0.250 -0.475  0.245\n",
      "        6  0.70417  -0.124  0.562 -0.219 -0.057 -0.590  1.000 -0.263  0.497 -0.255\n",
      "        7  0.96447   0.080 -0.211  0.095  0.007  0.250 -0.263  1.000 -0.875  0.923\n",
      "        8  0.93468  -0.126  0.428 -0.181 -0.015 -0.475  0.497 -0.875  1.000 -0.781\n",
      "        9  0.92709   0.085 -0.209  0.099  0.010  0.245 -0.255  0.923 -0.781  1.000\n",
      " **********\n",
      " **    7 **SET ERR         0.5\n",
      " **********\n",
      " **********\n",
      " **    8 **SET PRINT           1\n",
      " **********\n",
      " **********\n",
      " **    9 **HESSE        4500\n",
      " **********\n",
      " COVARIANCE MATRIX CALCULATED SUCCESSFULLY\n",
      " FCN=-1.51846e+06 FROM HESSE     STATUS=OK             85 CALLS         632 TOTAL\n",
      "                     EDM=0.00040343    STRATEGY= 1      ERROR MATRIX ACCURATE \n",
      "  EXT PARAMETER                                INTERNAL      INTERNAL  \n",
      "  NO.   NAME      VALUE            ERROR       STEP SIZE       VALUE   \n",
      "   1  a0          -3.71898e-01   7.22108e-03   5.75567e-03  -3.81052e-01\n",
      "   2  a1          -9.70055e-02   9.63842e-03   1.21099e-02  -1.95249e-01\n",
      "   3  a2          -4.14539e-02   6.73682e-03   2.40178e-03  -2.07284e-02\n",
      "   4  mean         5.36656e+00   6.64766e-05   1.13288e-03   1.31643e-01\n",
      "   5  nBkg         6.99131e+04   4.03579e+02   2.95795e-04  -1.40337e+00\n",
      "   6  nSig         5.46988e+04   3.84516e+02   3.04146e-04  -1.42274e+00\n",
      "   7  sig1frac     5.25290e-01   2.78873e-02   1.01482e-02   5.06011e-02\n",
      "   8  sigma1       1.88681e-02   6.07261e-04   6.13218e-03  -2.60801e-01\n",
      "   9  sigma2       8.07196e-03   2.42166e-04   2.24905e-02   2.77619e+00\n",
      "                               ERR DEF= 0.5\n",
      " EXTERNAL ERROR MATRIX.    NDIM=  25    NPAR=  9    ERR DEF=0.5\n",
      "  5.215e-05 -1.944e-05  2.322e-05  4.554e-09  4.401e-01 -4.404e-01  1.879e-05 -5.950e-07  1.648e-07 \n",
      " -1.944e-05  9.291e-05 -2.335e-05 -1.337e-08 -2.131e+00  2.132e+00 -9.567e-05  2.982e-06 -8.324e-07 \n",
      "  2.322e-05 -2.335e-05  4.538e-05  4.863e-08  6.593e-01 -6.597e-01  2.659e-05 -8.586e-07  2.357e-07 \n",
      "  4.554e-09 -1.337e-08  4.863e-08  4.419e-09  6.561e-04 -6.567e-04  3.770e-08 -9.614e-10  3.618e-10 \n",
      "  4.401e-01 -2.131e+00  6.593e-01  6.561e-04  1.629e+05 -9.303e+04  4.484e+00 -1.368e-01  3.861e-02 \n",
      " -4.404e-01  2.132e+00 -6.597e-01 -6.567e-04 -9.303e+04  1.479e+05 -4.493e+00  1.370e-01 -3.868e-02 \n",
      "  1.879e-05 -9.567e-05  2.659e-05  3.770e-08  4.484e+00 -4.493e+00  7.785e-04 -1.563e-05  6.425e-06 \n",
      " -5.950e-07  2.982e-06 -8.586e-07 -9.614e-10 -1.368e-01  1.370e-01 -1.563e-05  3.688e-07 -1.271e-07 \n",
      "  1.648e-07 -8.324e-07  2.357e-07  3.618e-10  3.861e-02 -3.868e-02  6.425e-06 -1.271e-07  5.879e-08 \n",
      " PARAMETER  CORRELATION COEFFICIENTS  \n",
      "       NO.  GLOBAL      1      2      3      4      5      6      7      8      9\n",
      "        1  0.49390   1.000 -0.279  0.477  0.009  0.151 -0.159  0.093 -0.136  0.094\n",
      "        2  0.68959  -0.279  1.000 -0.360 -0.021 -0.548  0.575 -0.356  0.509 -0.356\n",
      "        3  0.54601   0.477 -0.360  1.000  0.109  0.242 -0.255  0.141 -0.210  0.144\n",
      "        4  0.12049   0.009 -0.021  0.109  1.000  0.024 -0.026  0.020 -0.024  0.022\n",
      "        5  0.69637   0.151 -0.548  0.242  0.024  1.000 -0.600  0.398 -0.558  0.395\n",
      "        6  0.72797  -0.159  0.575 -0.255 -0.026 -0.600  1.000 -0.419  0.587 -0.415\n",
      "        7  0.97696   0.093 -0.356  0.141  0.020  0.398 -0.419  1.000 -0.922  0.950\n",
      "        8  0.95889  -0.136  0.509 -0.210 -0.024 -0.558  0.587 -0.922  1.000 -0.863\n",
      "        9  0.95221   0.094 -0.356  0.144  0.022  0.395 -0.415  0.950 -0.863  1.000\n",
      "[#1] INFO:Minization -- RooMinimizer::optimizeConst: deactivating const optimization\n"
     ]
    }
   ],
   "source": [
    "tot.fitTo(dh)"
   ]
  },
  {
   "cell_type": "code",
   "execution_count": 17,
   "metadata": {
    "collapsed": true
   },
   "outputs": [],
   "source": [
    "massFrame = mass.frame()\n",
    "massFrame.SetTitle(\"B_{0}^{s} signal\")\n",
    "massFrame.GetYaxis().SetTitleOffset(1.35)\n",
    "dh.plotOn(massFrame)\n",
    "tot.plotOn(massFrame)\n",
    "gauss2.plotOn(massFrame,LineColor(kRed),LineStyle(kDashed),Normalization(gaussFrac.getValV()*nSig.getValV()/(nBkg.getValV()+nSig.getValV())))\n",
    "gauss1.plotOn(massFrame,LineColor(kGreen),LineStyle(kDashed),Normalization((1.0-gaussFrac.getValV())*nSig.getValV()/(nBkg.getValV()+nSig.getValV())))\n",
    "cheb.plotOn(massFrame,LineColor(kMagenta),LineStyle(kDotted),Normalization(nBkg.getValV()/(nBkg.getValV()+nSig.getValV())))\n",
    "tot.paramOn(massFrame,Layout(0.60,0.99,0.9))\n",
    "massFrame.Draw()"
   ]
  },
  {
   "cell_type": "code",
   "execution_count": 18,
   "metadata": {},
   "outputs": [
    {
     "name": "stderr",
     "output_type": "stream",
     "text": [
      "Info in <TCanvas::Print>: png file b0test_param_CW_Mass_Signal_NoM.png has been created\n",
      "Info in <TCanvas::Print>: eps file b0test_param_CW_Mass_Signal_NoM.eps has been created\n",
      "Info in <TCanvas::Print>: pdf file b0test_param_CW_Mass_Signal_NoM.pdf has been created\n"
     ]
    }
   ],
   "source": [
    "plotname = \"b0test_param_\" + histname\n",
    "c.SaveAs(plotname  + \".png\")\n",
    "c.SaveAs(plotname  + \".eps\")\n",
    "c.SaveAs(plotname  + \".pdf\")"
   ]
  },
  {
   "cell_type": "code",
   "execution_count": null,
   "metadata": {
    "collapsed": true
   },
   "outputs": [],
   "source": []
  },
  {
   "cell_type": "code",
   "execution_count": null,
   "metadata": {
    "collapsed": true
   },
   "outputs": [],
   "source": []
  },
  {
   "cell_type": "code",
   "execution_count": null,
   "metadata": {
    "collapsed": true
   },
   "outputs": [],
   "source": []
  }
 ],
 "metadata": {
  "kernelspec": {
   "display_name": "Python 2",
   "language": "python",
   "name": "python2"
  },
  "language_info": {
   "codemirror_mode": {
    "name": "ipython",
    "version": 2
   },
   "file_extension": ".py",
   "mimetype": "text/x-python",
   "name": "python",
   "nbconvert_exporter": "python",
   "pygments_lexer": "ipython2",
   "version": "2.7.14"
  }
 },
 "nbformat": 4,
 "nbformat_minor": 2
}
