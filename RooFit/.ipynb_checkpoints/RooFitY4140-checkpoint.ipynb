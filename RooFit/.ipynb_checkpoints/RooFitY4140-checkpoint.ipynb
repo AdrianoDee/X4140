{
 "cells": [
  {
   "cell_type": "code",
   "execution_count": 1,
   "metadata": {},
   "outputs": [
    {
     "name": "stdout",
     "output_type": "stream",
     "text": [
      "/bin/sh: /Users/adrianodiflorio/Documents/VirtualEnvs/keras/bin/activate: Permission denied\r\n"
     ]
    }
   ],
   "source": [
    "! $HOME/Documents/VirtualEnvs/keras/bin/activate && . /usr/local/bin/thisroot.sh"
   ]
  },
  {
   "cell_type": "code",
   "execution_count": 2,
   "metadata": {},
   "outputs": [
    {
     "name": "stdout",
     "output_type": "stream",
     "text": [
      "Welcome to JupyROOT 6.10/08\n"
     ]
    }
   ],
   "source": [
    "import ROOT\n",
    "from ROOT import TFile,TH1,TH1F,TCanvas\n",
    "from ROOT import RooFit"
   ]
  },
  {
   "cell_type": "code",
   "execution_count": 3,
   "metadata": {
    "collapsed": true
   },
   "outputs": [],
   "source": [
    "#rootfile = \"X4140_MuMuKK_KRe_MuRe_NoCuts_NP3.0_Alpha99_CW5.15-5.55.root\"\n",
    "rootfile = \"X4140_MuMuKK_KRe_MuRe_ChiCuts_NP3.0_Alpha99_CW5.15-5.55.root\"\n",
    "rootfile =\"../rootfiles/X4140_Base_KRe_MuRef_NoQual_Sidebands5-7_NP3.0_B0Cuts_CW5.15-5.55_BDCAdd.root\"\n",
    "histname = \"Xcand_histo_hlt8_cw_nonprompt_cosalpha\"\n",
    "histname = \"X5568_Cand_Mass_Ref_NoMult\"\n",
    "histname = \"CW_Mass_Signal\"\n",
    "#histname = \"CW_Cand_Mass_NoM\"\n",
    "#histname = \"Xcand_histo_DM_any_cw_nonprompt_cosalpha\"\n",
    "inputfile  = TFile(rootfile,\"READ\")\n",
    "hist = inputfile.Get(histname)\n",
    "c = TCanvas(\"canvas\",\"canvas\",1200,800) ;"
   ]
  },
  {
   "cell_type": "code",
   "execution_count": 4,
   "metadata": {},
   "outputs": [
    {
     "data": {
      "text/plain": [
       "0.0025"
      ]
     },
     "execution_count": 4,
     "metadata": {},
     "output_type": "execute_result"
    }
   ],
   "source": [
    "hist.GetName()\n",
    "hist.Rebin(5)\n",
    "hist.GetBinWidth(2)"
   ]
  },
  {
   "cell_type": "code",
   "execution_count": 5,
   "metadata": {
    "collapsed": true
   },
   "outputs": [],
   "source": [
    "from ROOT import RooRealVar,RooAbsPdf,RooChebychev,RooExponential,RooGaussian,RooAbsPdf,RooPlot,RooAddPdf,RooDataHist,RooArgSet,RooArgList\n",
    "from ROOT import kGreen,kRed,kBlack,kBlue,kDashed,kDotted,kMagenta\n",
    "from ROOT.RooFit import Components,LineColor,LineStyle,Name,Normalization"
   ]
  },
  {
   "cell_type": "code",
   "execution_count": 6,
   "metadata": {
    "collapsed": true
   },
   "outputs": [],
   "source": [
    "massmin = 5.2\n",
    "massmax = 5.55\n",
    "massbins = (massmax - massmin)/0.005\n",
    "mass = RooRealVar(\"mass\",\"M(#mu#muKK)[GeV]\",massmin,massmax)\n",
    "mass.setBins(int(massbins))"
   ]
  },
  {
   "cell_type": "code",
   "execution_count": 13,
   "metadata": {
    "collapsed": true
   },
   "outputs": [],
   "source": [
    "mean = RooRealVar(\"mean\",\"mean of gaussian\",5.38,5.31,5.41);\n",
    "sigma1 = RooRealVar(\"sigma1\",\"width of gaussian1\",0.002,0.0005,0.05);\n",
    "sigma2 = RooRealVar(\"sigma2\",\"width of gaussian2\",0.004,0.004,0.01);\n",
    "\n",
    "a0 = RooRealVar(\"a0\",\"a0\",0.001,-1.,1.)\n",
    "a1 = RooRealVar(\"a1\",\"a1\",0.001,-0.5,0.5)\n",
    "a2 = RooRealVar(\"a2\",\"a2\",-0.00001,-2.,2.)\n",
    "a3 = RooRealVar(\"a3\",\"a3\",-0.000001,-0.1,0.1)\n",
    "a4 = RooRealVar(\"a4\",\"a4\",-0.000001,-2.,2.)\n",
    "a5 = RooRealVar(\"a5\",\"a5\",-0.000001)\n",
    "a6 = RooRealVar(\"a6\",\"a6\",-0.000001,-0.01,0.01)\n",
    "\n",
    "aset = RooArgList(a0,a1,a2)#,a3)\n",
    "gaussFrac = RooRealVar(\"sig1frac\",\"fraction of component 1 in signal\",0.3,0.0,1.0)\n",
    "nSig = RooRealVar(\"nSig\",\"nSig\",55000,0.,10E6)\n",
    "nBkg = RooRealVar(\"nBkg\",\"nBkg\",55000,0.,10E6)"
   ]
  },
  {
   "cell_type": "code",
   "execution_count": 14,
   "metadata": {},
   "outputs": [
    {
     "ename": "NameError",
     "evalue": "name 'CBShape' is not defined",
     "output_type": "error",
     "traceback": [
      "\u001b[0;31m\u001b[0m",
      "\u001b[0;31mNameError\u001b[0mTraceback (most recent call last)",
      "\u001b[0;32m<ipython-input-14-bc2944dae300>\u001b[0m in \u001b[0;36m<module>\u001b[0;34m()\u001b[0m\n\u001b[1;32m      2\u001b[0m \u001b[0mgauss1\u001b[0m \u001b[0;34m=\u001b[0m \u001b[0mRooGaussian\u001b[0m\u001b[0;34m(\u001b[0m\u001b[0;34m\"gauss1\"\u001b[0m\u001b[0;34m,\u001b[0m\u001b[0;34m\"gaussian PDF 1\"\u001b[0m\u001b[0;34m,\u001b[0m\u001b[0mmass\u001b[0m\u001b[0;34m,\u001b[0m\u001b[0mmean\u001b[0m\u001b[0;34m,\u001b[0m\u001b[0msigma1\u001b[0m\u001b[0;34m)\u001b[0m\u001b[0;34m\u001b[0m\u001b[0m\n\u001b[1;32m      3\u001b[0m \u001b[0;31m#gauss2 = RooGaussian(\"gauss2\",\"gaussian PDF 2\",mass,mean,sigma2)\u001b[0m\u001b[0;34m\u001b[0m\u001b[0;34m\u001b[0m\u001b[0m\n\u001b[0;32m----> 4\u001b[0;31m \u001b[0mgauss2\u001b[0m \u001b[0;34m=\u001b[0m \u001b[0mCBShape\u001b[0m\u001b[0;34m(\u001b[0m\u001b[0;34m\"gauss2\"\u001b[0m\u001b[0;34m,\u001b[0m \u001b[0;34m\"gauss2\"\u001b[0m\u001b[0;34m,\u001b[0m \u001b[0mmass\u001b[0m\u001b[0;34m,\u001b[0m \u001b[0mmean\u001b[0m\u001b[0;34m,\u001b[0m \u001b[0msigma2\u001b[0m\u001b[0;34m,\u001b[0m \u001b[0ma\u001b[0m\u001b[0;34m,\u001b[0m \u001b[0mn\u001b[0m\u001b[0;34m)\u001b[0m\u001b[0;34m;\u001b[0m\u001b[0;34m\u001b[0m\u001b[0m\n\u001b[0m\u001b[1;32m      5\u001b[0m \u001b[0;34m\u001b[0m\u001b[0m\n\u001b[1;32m      6\u001b[0m \u001b[0mmodel\u001b[0m  \u001b[0;34m=\u001b[0m \u001b[0mRooAddPdf\u001b[0m\u001b[0;34m(\u001b[0m\u001b[0;34m\"model\"\u001b[0m\u001b[0;34m,\u001b[0m\u001b[0;34m\"g1+g2\"\u001b[0m\u001b[0;34m,\u001b[0m\u001b[0mgauss1\u001b[0m\u001b[0;34m,\u001b[0m\u001b[0mgauss2\u001b[0m\u001b[0;34m,\u001b[0m\u001b[0mgaussFrac\u001b[0m\u001b[0;34m)\u001b[0m\u001b[0;34m\u001b[0m\u001b[0m\n",
      "\u001b[0;31mNameError\u001b[0m: name 'CBShape' is not defined"
     ]
    }
   ],
   "source": [
    "cheb = RooChebychev(\"cheb\",\"Background\",mass,aset)\n",
    "gauss1 = RooGaussian(\"gauss1\",\"gaussian PDF 1\",mass,mean,sigma1)\n",
    "gauss2 = RooGaussian(\"gauss2\",\"gaussian PDF 2\",mass,mean,sigma2)\n",
    "\n",
    "model  = RooAddPdf(\"model\",\"g1+g2\",gauss1,gauss2,gaussFrac)\n",
    "tot = RooAddPdf(\"tot\",\"g1+g2+cheb\",RooArgList(model,cheb),RooArgList(nSig,nBkg))"
   ]
  },
  {
   "cell_type": "code",
   "execution_count": 9,
   "metadata": {},
   "outputs": [
    {
     "name": "stdout",
     "output_type": "stream",
     "text": [
      "[#1] INFO:DataHandling -- RooDataHist::adjustBinning(dh): fit range of variable mass expanded to nearest bin boundaries: [5.2,5.55] --> [5.2,5.55]\n"
     ]
    }
   ],
   "source": [
    "masslist = RooArgList(mass)\n",
    "dh = RooDataHist(\"dh\",\"dh\",masslist,hist);"
   ]
  },
  {
   "cell_type": "code",
   "execution_count": 10,
   "metadata": {},
   "outputs": [
    {
     "data": {
      "text/plain": [
       "<ROOT.RooFitResult object at 0x0>"
      ]
     },
     "execution_count": 10,
     "metadata": {},
     "output_type": "execute_result"
    },
    {
     "name": "stdout",
     "output_type": "stream",
     "text": [
      "[#1] INFO:Minization -- p.d.f. provides expected number of events, including extended term in likelihood.\n",
      "[#1] INFO:Minization -- RooMinimizer::optimizeConst: activating const optimization\n",
      "[#1] INFO:Minization --  The following expressions will be evaluated in cache-and-track mode: (gauss1,gauss2,cheb)\n",
      " **********\n",
      " **    1 **SET PRINT           1\n",
      " **********\n",
      " **********\n",
      " **    2 **SET NOGRAD\n",
      " **********\n",
      " PARAMETER DEFINITIONS:\n",
      "    NO.   NAME         VALUE      STEP SIZE      LIMITS\n",
      "     1 a0           1.00000e-03  2.00000e-01   -1.00000e+00  1.00000e+00\n",
      "     2 a1           1.00000e-03  1.00000e-01   -5.00000e-01  5.00000e-01\n",
      "     3 a2          -1.00000e-05  4.00000e-01   -2.00000e+00  2.00000e+00\n",
      "     4 mean         5.38000e+00  1.00000e-02    5.31000e+00  5.41000e+00\n",
      "     5 nBkg         5.50000e+04  2.75000e+04    0.00000e+00  1.00000e+07\n",
      "     6 nSig         5.50000e+04  2.75000e+04    0.00000e+00  1.00000e+07\n",
      "     7 sig1frac     3.00000e-01  1.00000e-01    0.00000e+00  1.00000e+00\n",
      "     8 sigma1       2.00000e-03  7.50000e-04    5.00000e-04  5.00000e-02\n",
      "     9 sigma2       4.00000e-03  6.00000e-04    4.00000e-03  1.00000e-02\n",
      " MINUIT WARNING IN PARAM DEF\n",
      " ============== STARTING VALUE IS AT LIMIT.\n",
      " MINUIT WARNING IN PARAMETR\n",
      " ============== VARIABLE9 IS AT ITS LOWER ALLOWED LIMIT.\n",
      " MINUIT WARNING IN PARAMETR\n",
      " ============== VARIABLE9 BROUGHT BACK INSIDE LIMITS.\n",
      " **********\n",
      " **    3 **SET ERR         0.5\n",
      " **********\n",
      " **********\n",
      " **    4 **SET PRINT           1\n",
      " **********\n",
      " **********\n",
      " **    5 **SET STR           1\n",
      " **********\n",
      " NOW USING STRATEGY  1: TRY TO BALANCE SPEED AGAINST RELIABILITY\n",
      " **********\n",
      " **    6 **MIGRAD        4500           1\n",
      " **********\n",
      " FIRST CALL TO USER FUNCTION AT NEW START POINT, WITH IFLAG=4.\n",
      " MINUIT WARNING IN MIGrad    \n",
      " ============== VARIABLE9 IS AT ITS LOWER ALLOWED LIMIT.\n",
      " START MIGRAD MINIMIZATION.  STRATEGY  1.  CONVERGENCE WHEN EDM .LT. 1.00e-03\n",
      " FCN=-1.25633e+06 FROM MIGRAD    STATUS=INITIATE      123 CALLS         124 TOTAL\n",
      "                     EDM= unknown      STRATEGY= 1      NO ERROR MATRIX       \n",
      "  EXT PARAMETER               CURRENT GUESS       STEP         FIRST   \n",
      "  NO.   NAME      VALUE            ERROR          SIZE      DERIVATIVE \n",
      "   1  a0           1.00000e-03   2.00000e-01   0.00000e+00   5.68190e+03\n",
      "   2  a1           1.00000e-03   1.00000e-01   0.00000e+00   9.45766e+02\n",
      "   3  a2          -1.00000e-05   4.00000e-01   0.00000e+00  -5.49424e+03\n",
      "   4  mean         5.36648e+00   1.00000e-02   0.00000e+00   6.59172e+02\n",
      "   5  nBkg         5.50000e+04   2.75000e+04   0.00000e+00   3.53404e+04\n",
      "   6  nSig         5.50000e+04   2.75000e+04   0.00000e+00   4.53400e+04\n",
      "   7  sig1frac     3.00000e-01   1.00000e-01   0.00000e+00  -1.08371e+03\n",
      "   8  sigma1       2.02932e-02   7.50000e-04   0.00000e+00  -1.53637e+03\n",
      "   9  sigma2       9.81192e-03   6.00000e-04   2.78367e+00  -7.01380e+01\n",
      "                               ERR DEF= 0.5\n",
      " MIGRAD MINIMIZATION HAS CONVERGED.\n",
      " MIGRAD WILL VERIFY CONVERGENCE AND ERROR MATRIX.\n",
      " COVARIANCE MATRIX CALCULATED SUCCESSFULLY\n",
      " FCN=-1.25779e+06 FROM MIGRAD    STATUS=CONVERGED     473 CALLS         474 TOTAL\n",
      "                     EDM=0.000315846    STRATEGY= 1      ERROR MATRIX ACCURATE \n",
      "  EXT PARAMETER                                   STEP         FIRST   \n",
      "  NO.   NAME      VALUE            ERROR          SIZE      DERIVATIVE \n",
      "   1  a0          -3.55319e-01   8.24558e-03   6.00235e-03  -3.47004e-01\n",
      "   2  a1          -1.23264e-01   1.06212e-02   1.29728e-02  -9.27149e-02\n",
      "   3  a2          -2.78292e-02   7.70280e-03   2.53415e-03   9.15454e-01\n",
      "   4  mean         5.36654e+00   6.61072e-05   1.02611e-03  -6.30837e-01\n",
      "   5  nBkg         5.29051e+04   3.33647e+02   2.70841e-04   1.77624e+01\n",
      "   6  nSig         5.10969e+04   3.31051e+02   2.71859e-04   9.94201e+00\n",
      "   7  sig1frac     5.27926e-01   2.07801e-02   9.31271e-03  -4.45828e-02\n",
      "   8  sigma1       1.84695e-02   4.48640e-04   5.36443e-03   6.85398e-01\n",
      "   9  sigma2       7.93401e-03   1.79511e-04   2.02419e-02   7.16391e-02\n",
      "                               ERR DEF= 0.5\n",
      " EXTERNAL ERROR MATRIX.    NDIM=  25    NPAR=  9    ERR DEF=0.5\n",
      "  6.799e-05 -2.275e-05  2.934e-05  3.771e-09  3.520e-01 -3.521e-01  1.040e-05 -4.084e-07 -8.872e-08 \n",
      " -2.275e-05  1.128e-04 -2.765e-05 -1.157e-08 -1.769e+00  1.770e+00 -5.569e-05  2.133e-06  4.687e-07 \n",
      "  2.934e-05 -2.765e-05  5.933e-05  5.233e-08  5.543e-01 -5.545e-01  1.529e-05 -6.192e-07 -1.329e-07 \n",
      "  3.771e-09 -1.157e-08  5.233e-08  4.370e-09  4.507e-04 -4.509e-04  1.684e-08 -5.128e-10 -1.759e-10 \n",
      "  3.520e-01 -1.769e+00  5.543e-01  4.507e-04  1.113e+05 -5.844e+04  2.005e+00 -7.425e-02 -1.659e-02 \n",
      " -3.521e-01  1.770e+00 -5.545e-01 -4.509e-04 -5.844e+04  1.096e+05 -2.009e+00  7.437e-02  1.661e-02 \n",
      "  1.040e-05 -5.569e-05  1.529e-05  1.684e-08  2.005e+00 -2.009e+00  4.321e-04 -8.146e-06 -3.381e-06 \n",
      " -4.084e-07  2.133e-06 -6.192e-07 -5.128e-10 -7.425e-02  7.437e-02 -8.146e-06  2.013e-07  6.158e-08 \n",
      " -8.872e-08  4.687e-07 -1.329e-07 -1.759e-10 -1.659e-02  1.661e-02 -3.381e-06  6.158e-08  3.227e-08 \n",
      " PARAMETER  CORRELATION COEFFICIENTS  \n",
      "       NO.  GLOBAL      1      2      3      4      5      6      7      8      9\n",
      "        1  0.47757   1.000 -0.260  0.462  0.007  0.128 -0.129  0.061 -0.110 -0.060\n",
      "        2  0.64497  -0.260  1.000 -0.338 -0.016 -0.499  0.503 -0.252  0.447  0.246\n",
      "        3  0.52755   0.462 -0.338  1.000  0.103  0.216 -0.217  0.096 -0.179 -0.096\n",
      "        4  0.11396   0.007 -0.016  0.103  1.000  0.020 -0.021  0.012 -0.017 -0.015\n",
      "        5  0.64946   0.128 -0.499  0.216  0.020  1.000 -0.529  0.289 -0.496 -0.277\n",
      "        6  0.65451  -0.129  0.503 -0.217 -0.021 -0.529  1.000 -0.292  0.501  0.279\n",
      "        7  0.95740   0.061 -0.252  0.096  0.012  0.289 -0.292  1.000 -0.873 -0.905\n",
      "        8  0.93011  -0.110  0.447 -0.179 -0.017 -0.496  0.501 -0.873  1.000  0.764\n",
      "        9  0.91000  -0.060  0.246 -0.096 -0.015 -0.277  0.279 -0.905  0.764  1.000\n",
      " **********\n",
      " **    7 **SET ERR         0.5\n",
      " **********\n",
      " **********\n",
      " **    8 **SET PRINT           1\n",
      " **********\n",
      " **********\n",
      " **    9 **HESSE        4500\n",
      " **********\n",
      " COVARIANCE MATRIX CALCULATED SUCCESSFULLY\n",
      " FCN=-1.25779e+06 FROM HESSE     STATUS=OK             73 CALLS         547 TOTAL\n",
      "                     EDM=0.000364324    STRATEGY= 1      ERROR MATRIX ACCURATE \n",
      "  EXT PARAMETER                                INTERNAL      INTERNAL  \n",
      "  NO.   NAME      VALUE            ERROR       STEP SIZE       VALUE   \n",
      "   1  a0          -3.55319e-01   8.24935e-03   1.20047e-03  -3.63255e-01\n",
      "   2  a1          -1.23264e-01   1.06724e-02   5.18913e-04  -2.49097e-01\n",
      "   3  a2          -2.78292e-02   7.70390e-03   1.01366e-04  -1.39151e-02\n",
      "   4  mean         5.36654e+00   6.61107e-05   4.10445e-05   1.31100e-01\n",
      "   5  nBkg         5.29051e+04   3.35899e+02   5.41681e-05  -1.42520e+00\n",
      "   6  nSig         5.10969e+04   3.33222e+02   5.43717e-05  -1.42771e+00\n",
      "   7  sig1frac     5.27926e-01   2.27890e-02   3.72508e-04   5.58809e-02\n",
      "   8  sigma1       1.84695e-02   4.74356e-04   2.14577e-04  -2.77508e-01\n",
      "   9  sigma2       7.93401e-03   1.99079e-04   8.09677e-04   3.16599e-01\n",
      "                               ERR DEF= 0.5\n",
      " EXTERNAL ERROR MATRIX.    NDIM=  25    NPAR=  9    ERR DEF=0.5\n",
      "  6.805e-05 -2.334e-05  2.934e-05  3.808e-09  3.660e-01 -3.660e-01  1.233e-05 -4.459e-07 -1.070e-07 \n",
      " -2.334e-05  1.139e-04 -2.802e-05 -1.209e-08 -1.808e+00  1.808e+00 -6.439e-05  2.280e-06  5.528e-07 \n",
      "  2.934e-05 -2.802e-05  5.935e-05  5.248e-08  5.681e-01 -5.681e-01  1.791e-05 -6.663e-07 -1.579e-07 \n",
      "  3.808e-09 -1.209e-08  5.248e-08  4.371e-09  4.721e-04 -4.721e-04  2.148e-08 -6.007e-10 -2.316e-10 \n",
      "  3.660e-01 -1.808e+00  5.681e-01  4.721e-04  1.128e+05 -5.993e+04  2.323e+00 -7.972e-02 -1.965e-02 \n",
      " -3.660e-01  1.808e+00 -5.681e-01 -4.721e-04 -5.993e+04  1.110e+05 -2.324e+00  7.975e-02  1.966e-02 \n",
      "  1.233e-05 -6.439e-05  1.791e-05  2.148e-08  2.323e+00 -2.324e+00  5.197e-04 -9.591e-06 -4.196e-06 \n",
      " -4.459e-07  2.280e-06 -6.663e-07 -6.007e-10 -7.972e-02  7.975e-02 -9.591e-06  2.250e-07  7.527e-08 \n",
      " -1.070e-07  5.528e-07 -1.579e-07 -2.316e-10 -1.965e-02  1.966e-02 -4.196e-06  7.527e-08  3.970e-08 \n",
      " PARAMETER  CORRELATION COEFFICIENTS  \n",
      "       NO.  GLOBAL      1      2      3      4      5      6      7      8      9\n",
      "        1  0.47831   1.000 -0.265  0.462  0.007  0.132 -0.133  0.066 -0.114 -0.065\n",
      "        2  0.64931  -0.265  1.000 -0.341 -0.017 -0.504  0.508 -0.265  0.450  0.260\n",
      "        3  0.52774   0.462 -0.341  1.000  0.103  0.220 -0.221  0.102 -0.182 -0.103\n",
      "        4  0.11444   0.007 -0.017  0.103  1.000  0.021 -0.021  0.014 -0.019 -0.018\n",
      "        5  0.65538   0.132 -0.504  0.220  0.021  1.000 -0.535  0.303 -0.500 -0.294\n",
      "        6  0.66016  -0.133  0.508 -0.221 -0.021 -0.535  1.000 -0.306  0.504  0.296\n",
      "        7  0.96472   0.066 -0.265  0.102  0.014  0.303 -0.306  1.000 -0.887 -0.924\n",
      "        8  0.93773  -0.114  0.450 -0.182 -0.019 -0.500  0.504 -0.887  1.000  0.796\n",
      "        9  0.92751  -0.065  0.260 -0.103 -0.018 -0.294  0.296 -0.924  0.796  1.000\n",
      "[#1] INFO:Minization -- RooMinimizer::optimizeConst: deactivating const optimization\n"
     ]
    }
   ],
   "source": [
    "tot.fitTo(dh)"
   ]
  },
  {
   "cell_type": "code",
   "execution_count": 11,
   "metadata": {
    "collapsed": true
   },
   "outputs": [],
   "source": [
    "massFrame = mass.frame()\n",
    "massFrame.SetTitle(\"B_{0}^{s} signal\")\n",
    "dh.plotOn(massFrame)\n",
    "tot.plotOn(massFrame)\n",
    "gauss2.plotOn(massFrame,LineColor(kRed),LineStyle(kDashed),Normalization(gaussFrac.getValV()*nSig.getValV()/(nBkg.getValV()+nSig.getValV())))\n",
    "gauss1.plotOn(massFrame,LineColor(kGreen),LineStyle(kDashed),Normalization((1.0-gaussFrac.getValV())*nSig.getValV()/(nBkg.getValV()+nSig.getValV())))\n",
    "cheb.plotOn(massFrame,LineColor(kMagenta),LineStyle(kDotted),Normalization(nBkg.getValV()/(nBkg.getValV()+nSig.getValV())))\n",
    "tot.paramOn(massFrame);\n",
    "massFrame.Draw()"
   ]
  },
  {
   "cell_type": "code",
   "execution_count": 12,
   "metadata": {},
   "outputs": [
    {
     "name": "stderr",
     "output_type": "stream",
     "text": [
      "Info in <TCanvas::Print>: png file b0test_CW_Mass_Signal.png has been created\n",
      "Info in <TCanvas::Print>: eps file b0test_CW_Mass_Signal.eps has been created\n",
      "Info in <TCanvas::Print>: pdf file b0test_CW_Mass_Signal.pdf has been created\n"
     ]
    }
   ],
   "source": [
    "plotname = \"b0test_\" + histname\n",
    "c.SaveAs(plotname  + \".png\")\n",
    "c.SaveAs(plotname  + \".eps\")\n",
    "c.SaveAs(plotname  + \".pdf\")"
   ]
  },
  {
   "cell_type": "code",
   "execution_count": null,
   "metadata": {
    "collapsed": true
   },
   "outputs": [],
   "source": []
  },
  {
   "cell_type": "code",
   "execution_count": null,
   "metadata": {
    "collapsed": true
   },
   "outputs": [],
   "source": []
  }
 ],
 "metadata": {
  "kernelspec": {
   "display_name": "Python 2",
   "language": "python",
   "name": "python2"
  },
  "language_info": {
   "codemirror_mode": {
    "name": "ipython",
    "version": 2
   },
   "file_extension": ".py",
   "mimetype": "text/x-python",
   "name": "python",
   "nbconvert_exporter": "python",
   "pygments_lexer": "ipython2",
   "version": "2.7.14"
  }
 },
 "nbformat": 4,
 "nbformat_minor": 2
}
