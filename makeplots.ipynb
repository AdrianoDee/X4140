{
 "cells": [
  {
   "cell_type": "code",
   "execution_count": 1,
   "metadata": {},
   "outputs": [
    {
     "name": "stdout",
     "output_type": "stream",
     "text": [
      "Welcome to JupyROOT 6.10/08\n"
     ]
    }
   ],
   "source": [
    "! . /usr/local/bin/thisroot.sh\n",
    "import ROOT\n",
    "from ROOT import TFile,TH1,TH1F,TCanvas,TLine,TPad,TLegend\n",
    "from ROOT import RooFit"
   ]
  },
  {
   "cell_type": "code",
   "execution_count": 2,
   "metadata": {
    "collapsed": true
   },
   "outputs": [],
   "source": [
    "from ROOT import RooRealVar,RooAbsPdf,RooChebychev,RooExponential,RooGaussian\n",
    "from ROOT import RooAbsPdf,RooPlot,RooAddPdf,RooDataHist,RooArgSet,RooArgList,RooCBShape\n",
    "from ROOT import RooVoigtian,RooAbsReal\n",
    "from ROOT import kGreen,kRed,kBlack,kBlue,kDashed,kDotted,kMagenta\n",
    "from ROOT.RooFit import Components,LineColor,LineStyle,Name,Normalization,Layout,Format,Label,Parameters,Range,Title"
   ]
  },
  {
   "cell_type": "code",
   "execution_count": 3,
   "metadata": {},
   "outputs": [],
   "source": [
    "rootfile = \"rootfiles/X4140_Base_Side4-6_AllData.root\"\n",
    "#histname = \"Xcand_histo_hlt4_cw_nonprompt_extra\"\n",
    "histname = \"SW_Cand_Mass\"\n",
    "inputfile  = TFile(rootfile,\"READ\")\n",
    "hist = inputfile.Get(histname)\n",
    "c = TCanvas(\"canvas\",\"canvas\",1200,800) ;"
   ]
  },
  {
   "cell_type": "code",
   "execution_count": 4,
   "metadata": {},
   "outputs": [
    {
     "name": "stderr",
     "output_type": "stream",
     "text": [
      "Info in <TCanvas::Print>: png file plots/massplot_SW_Cand_Mass.png has been created\n",
      "Info in <TCanvas::Print>: eps file plots/massplot_SW_Cand_Mass.eps has been created\n",
      "Info in <TCanvas::Print>: pdf file plots/massplot_SW_Cand_Mass.pdf has been created\n"
     ]
    }
   ],
   "source": [
    "hist.Rebin(10)\n",
    "hist.GetXaxis().SetRangeUser(4.00,4.8)\n",
    "hist.GetYaxis().SetTitleOffset(1.25)\n",
    "hist.SetMarkerStyle(ROOT.kFullCircle)\n",
    "hist.SetMarkerColor(ROOT.kBlack)\n",
    "#hist.SetLineColor(kBlue)\n",
    "hist.SetTitle(\"Mass Spectrum - Search channel; M(KK#mu#mu)[GeV]; candidates/\"+ str(hist.GetBinWidth(2)*1000)+ \"MeV\")\n",
    "hist.Draw(\"E0\")\n",
    "plotname = \"plots/massplot_\" + histname\n",
    "c.SaveAs(plotname  + \".png\")\n",
    "c.SaveAs(plotname  + \".eps\")\n",
    "c.SaveAs(plotname  + \".pdf\")"
   ]
  },
  {
   "cell_type": "code",
   "execution_count": null,
   "metadata": {
    "collapsed": true
   },
   "outputs": [],
   "source": []
  }
 ],
 "metadata": {
  "kernelspec": {
   "display_name": "Python 2",
   "language": "python",
   "name": "python2"
  },
  "language_info": {
   "codemirror_mode": {
    "name": "ipython",
    "version": 2
   },
   "file_extension": ".py",
   "mimetype": "text/x-python",
   "name": "python",
   "nbconvert_exporter": "python",
   "pygments_lexer": "ipython2",
   "version": "2.7.14"
  }
 },
 "nbformat": 4,
 "nbformat_minor": 2
}
