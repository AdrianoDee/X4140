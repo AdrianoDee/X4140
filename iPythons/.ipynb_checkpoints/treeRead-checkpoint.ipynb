{
 "cells": [
  {
   "cell_type": "code",
   "execution_count": 1,
   "metadata": {},
   "outputs": [
    {
     "name": "stdout",
     "output_type": "stream",
     "text": [
      "/bin/sh: /Users/adrianodiflorio/Documents/VirtualEnvs/keras/bin/activate: Permission denied\r\n"
     ]
    }
   ],
   "source": [
    "! $HOME/Documents/VirtualEnvs/keras/bin/activate && . /usr/local/bin/thisroot.sh"
   ]
  },
  {
   "cell_type": "code",
   "execution_count": 2,
   "metadata": {},
   "outputs": [
    {
     "name": "stdout",
     "output_type": "stream",
     "text": [
      "Welcome to JupyROOT 6.10/08\n"
     ]
    }
   ],
   "source": [
    "import ROOT\n",
    "from ROOT import TFile,TH1,TH1F,TCanvas,TNtuple,TTreeReader,TTreeReaderValue\n",
    "from ROOT import RooFit\n",
    "from ROOT.RooFit import Layout\n",
    "from array import array"
   ]
  },
  {
   "cell_type": "code",
   "execution_count": 3,
   "metadata": {},
   "outputs": [],
   "source": [
    "from ROOT import RooRealVar,RooAbsPdf,RooChebychev,RooExponential,RooGaussian,RooAbsPdf,RooPlot,RooAddPdf,RooDataHist,RooArgSet,RooArgList\n",
    "from ROOT import kGreen,kRed,kBlack,kBlue,kDashed,kDotted,kMagenta\n",
    "from ROOT.RooFit import Components,LineColor,LineStyle,Name,Normalization\n",
    "from ROOT import RooDataSet"
   ]
  },
  {
   "cell_type": "code",
   "execution_count": 4,
   "metadata": {},
   "outputs": [],
   "source": [
    "rootfile = \"/Users/adrianodiflorio/Desktop/X4140_roots/mumukk_tree.root\" \n",
    "inputfile = TFile(rootfile,\"READ\") \n",
    "xTuple = (inputfile.Get(\"outuple\")) "
   ]
  },
  {
   "cell_type": "code",
   "execution_count": 5,
   "metadata": {},
   "outputs": [
    {
     "name": "stdout",
     "output_type": "stream",
     "text": [
      "86339959\n"
     ]
    }
   ],
   "source": [
    "myReader = TTreeReader(\"outuple\", inputfile)\n",
    "nentries = xTuple.GetEntries()\n",
    "print nentries"
   ]
  },
  {
   "cell_type": "code",
   "execution_count": 6,
   "metadata": {
    "collapsed": true
   },
   "outputs": [],
   "source": [
    "massmin = 5.2\n",
    "massmax = 5.55\n",
    "massbins = (massmax - massmin)/0.005\n",
    "mass = RooRealVar(\"xMass\",\"M(#mu#muKK)[GeV]\",4.0,6.0)\n",
    "mass.setBins(int(massbins))\n",
    "lxy = RooRealVar(\"xLxt\",\"l(xy)\",0.0,10000.)\n",
    "hlt = RooRealVar(\"xHlt\",\"xHlt\",0.0,20.0)\n"
   ]
  },
  {
   "cell_type": "code",
   "execution_count": 7,
   "metadata": {},
   "outputs": [],
   "source": [
    "alldata = RooDataSet(\"alldata\",\"alldata\",xTuple,RooArgSet(mass,lxy,hlt))"
   ]
  },
  {
   "cell_type": "code",
   "execution_count": null,
   "metadata": {
    "collapsed": true
   },
   "outputs": [],
   "source": [
    "alldata = "
   ]
  },
  {
   "cell_type": "code",
   "execution_count": null,
   "metadata": {},
   "outputs": [],
   "source": [
    "xMass = array(\"d\",[0])\n",
    "xTuple.SetBranchAddress( \"xMass\", xMass )\n",
    "xHlt = array(\"d\",[0])\n",
    "xTuple.SetBranchAddress( \"xHlt\", xHlt )\n",
    "xLxt = array(\"d\",[0])\n",
    "xTuple.SetBranchAddress( \"xLxt\", xLxt )\n",
    "i = 0\n",
    "massList = []\n",
    "\n",
    "while xTuple.GetEntry(i):\n",
    "    i += 1\n",
    "    if i%1000000==0:\n",
    "        print \"%d / %d\" % (i,nentries) \n",
    "    if xHlt == 4. or xHlt ==12.:\n",
    "        if xLxt>=3.0:\n",
    "            massList.append(xMass[0])\n",
    "            xmass = xMass[0]\n",
    "            massDataset.add(RooArgSet(xmass))"
   ]
  },
  {
   "cell_type": "code",
   "execution_count": null,
   "metadata": {
    "collapsed": true
   },
   "outputs": [],
   "source": [
    "datasetfile = TFile(\"xMassDataset.root\",\"RECREATE\") "
   ]
  },
  {
   "cell_type": "code",
   "execution_count": null,
   "metadata": {},
   "outputs": [],
   "source": [
    "xTuple.xHlt"
   ]
  },
  {
   "cell_type": "code",
   "execution_count": null,
   "metadata": {
    "collapsed": true
   },
   "outputs": [],
   "source": []
  }
 ],
 "metadata": {
  "kernelspec": {
   "display_name": "Python 2",
   "language": "python",
   "name": "python2"
  },
  "language_info": {
   "codemirror_mode": {
    "name": "ipython",
    "version": 2
   },
   "file_extension": ".py",
   "mimetype": "text/x-python",
   "name": "python",
   "nbconvert_exporter": "python",
   "pygments_lexer": "ipython2",
   "version": "2.7.14"
  }
 },
 "nbformat": 4,
 "nbformat_minor": 2
}
